{
 "cells": [
  {
   "cell_type": "markdown",
   "metadata": {},
   "source": [
    "### Final Team Project: Predicting Employee Turnover\n",
    "#### Authors: Lai Ieng Chan, Kyle Esteban Dalope, Mendelina Renee Lopez"
   ]
  },
  {
   "cell_type": "code",
   "execution_count": 67,
   "metadata": {},
   "outputs": [],
   "source": [
    "# Importing all packages and libraries\n",
    "\n",
    "import pandas as pd\n",
    "import numpy as np\n",
    "import matplotlib.pyplot as plt\n",
    "import statsmodels.api as sm\n",
    "import statsmodels.stats.outliers_influence as inf\n",
    "from sklearn import preprocessing\n",
    "from sklearn.preprocessing import MinMaxScaler\n",
    "import seaborn as sns\n",
    "from sklearn.metrics import classification_report\n",
    "\n",
    "# For Decision Trees\n",
    "import statsmodels.tools.tools as stattools \n",
    "from sklearn import tree\n",
    "from sklearn.tree import DecisionTreeClassifier, export_graphviz\n",
    "\n",
    "# For Logistic Regression model\n",
    "from sklearn import linear_model\n",
    "from sklearn.metrics import mean_absolute_error, r2_score, mean_squared_error, confusion_matrix, classification_report\n",
    "from scipy import stats\n",
    "from sklearn.linear_model import LogisticRegression\n",
    "from sklearn.metrics import accuracy_score\n",
    "\n",
    "# For Partitioning the data\n",
    "from sklearn.model_selection import train_test_split\n",
    "import random\n",
    "\n",
    "# For Naive Bayes\n",
    "from sklearn.naive_bayes import MultinomialNB\n",
    "from sklearn import metrics\n",
    "\n",
    "# For Random Forest\n",
    "from sklearn.ensemble import RandomForestClassifier"
   ]
  },
  {
   "cell_type": "markdown",
   "metadata": {},
   "source": [
    "### Data Importing and Preprocessing"
   ]
  },
  {
   "cell_type": "code",
   "execution_count": 30,
   "metadata": {},
   "outputs": [
    {
     "data": {
      "text/html": [
       "<div>\n",
       "<style scoped>\n",
       "    .dataframe tbody tr th:only-of-type {\n",
       "        vertical-align: middle;\n",
       "    }\n",
       "\n",
       "    .dataframe tbody tr th {\n",
       "        vertical-align: top;\n",
       "    }\n",
       "\n",
       "    .dataframe thead th {\n",
       "        text-align: right;\n",
       "    }\n",
       "</style>\n",
       "<table border=\"1\" class=\"dataframe\">\n",
       "  <thead>\n",
       "    <tr style=\"text-align: right;\">\n",
       "      <th></th>\n",
       "      <th>Gender</th>\n",
       "      <th>Satisfaction</th>\n",
       "      <th>Business Travel</th>\n",
       "      <th>Department</th>\n",
       "      <th>EducationField</th>\n",
       "      <th>Salary</th>\n",
       "      <th>Home-Office</th>\n",
       "      <th>Attrition</th>\n",
       "    </tr>\n",
       "  </thead>\n",
       "  <tbody>\n",
       "    <tr>\n",
       "      <th>0</th>\n",
       "      <td>Female</td>\n",
       "      <td>High</td>\n",
       "      <td>Rare</td>\n",
       "      <td>Sales</td>\n",
       "      <td>Engineering</td>\n",
       "      <td>Medium</td>\n",
       "      <td>Near</td>\n",
       "      <td>Yes</td>\n",
       "    </tr>\n",
       "    <tr>\n",
       "      <th>1</th>\n",
       "      <td>Male</td>\n",
       "      <td>Low</td>\n",
       "      <td>Frequent</td>\n",
       "      <td>Sales</td>\n",
       "      <td>Engineering</td>\n",
       "      <td>Low</td>\n",
       "      <td>Near</td>\n",
       "      <td>Yes</td>\n",
       "    </tr>\n",
       "    <tr>\n",
       "      <th>2</th>\n",
       "      <td>Male</td>\n",
       "      <td>Medium</td>\n",
       "      <td>Rare</td>\n",
       "      <td>R&amp;D</td>\n",
       "      <td>Other</td>\n",
       "      <td>Medium</td>\n",
       "      <td>Far</td>\n",
       "      <td>No</td>\n",
       "    </tr>\n",
       "    <tr>\n",
       "      <th>3</th>\n",
       "      <td>Female</td>\n",
       "      <td>Low</td>\n",
       "      <td>Frequent</td>\n",
       "      <td>R&amp;D</td>\n",
       "      <td>Engineering</td>\n",
       "      <td>Medium</td>\n",
       "      <td>Far</td>\n",
       "      <td>Yes</td>\n",
       "    </tr>\n",
       "    <tr>\n",
       "      <th>4</th>\n",
       "      <td>Male</td>\n",
       "      <td>Medium</td>\n",
       "      <td>Rare</td>\n",
       "      <td>R&amp;D</td>\n",
       "      <td>Medical</td>\n",
       "      <td>Medium</td>\n",
       "      <td>Far</td>\n",
       "      <td>No</td>\n",
       "    </tr>\n",
       "  </tbody>\n",
       "</table>\n",
       "</div>"
      ],
      "text/plain": [
       "   Gender Satisfaction Business Travel Department EducationField  Salary  \\\n",
       "0  Female         High            Rare      Sales    Engineering  Medium   \n",
       "1    Male          Low        Frequent      Sales    Engineering     Low   \n",
       "2    Male       Medium            Rare        R&D          Other  Medium   \n",
       "3  Female          Low        Frequent        R&D    Engineering  Medium   \n",
       "4    Male       Medium            Rare        R&D        Medical  Medium   \n",
       "\n",
       "  Home-Office Attrition  \n",
       "0        Near       Yes  \n",
       "1        Near       Yes  \n",
       "2         Far        No  \n",
       "3         Far       Yes  \n",
       "4         Far        No  "
      ]
     },
     "execution_count": 30,
     "metadata": {},
     "output_type": "execute_result"
    }
   ],
   "source": [
    "EmployeeData = pd.read_csv(r\"C:\\Users\\mendi\\Desktop\\USD Class Files\\ADS 502\\Employee Data.csv\")\n",
    "EmployeeData.head(5)"
   ]
  },
  {
   "cell_type": "code",
   "execution_count": 31,
   "metadata": {},
   "outputs": [
    {
     "data": {
      "text/plain": [
       "(100, 8)"
      ]
     },
     "execution_count": 31,
     "metadata": {},
     "output_type": "execute_result"
    }
   ],
   "source": [
    "# Dataframe Dimension\n",
    "EmployeeData.shape"
   ]
  },
  {
   "cell_type": "code",
   "execution_count": 32,
   "metadata": {},
   "outputs": [
    {
     "data": {
      "text/html": [
       "<div>\n",
       "<style scoped>\n",
       "    .dataframe tbody tr th:only-of-type {\n",
       "        vertical-align: middle;\n",
       "    }\n",
       "\n",
       "    .dataframe tbody tr th {\n",
       "        vertical-align: top;\n",
       "    }\n",
       "\n",
       "    .dataframe thead th {\n",
       "        text-align: right;\n",
       "    }\n",
       "</style>\n",
       "<table border=\"1\" class=\"dataframe\">\n",
       "  <thead>\n",
       "    <tr style=\"text-align: right;\">\n",
       "      <th></th>\n",
       "      <th>Gender</th>\n",
       "      <th>Satisfaction</th>\n",
       "      <th>Business Travel</th>\n",
       "      <th>Department</th>\n",
       "      <th>EducationField</th>\n",
       "      <th>Salary</th>\n",
       "      <th>Home-Office</th>\n",
       "      <th>Attrition</th>\n",
       "    </tr>\n",
       "  </thead>\n",
       "  <tbody>\n",
       "    <tr>\n",
       "      <th>count</th>\n",
       "      <td>100</td>\n",
       "      <td>100</td>\n",
       "      <td>100</td>\n",
       "      <td>100</td>\n",
       "      <td>100</td>\n",
       "      <td>100</td>\n",
       "      <td>100</td>\n",
       "      <td>100</td>\n",
       "    </tr>\n",
       "    <tr>\n",
       "      <th>unique</th>\n",
       "      <td>2</td>\n",
       "      <td>3</td>\n",
       "      <td>3</td>\n",
       "      <td>2</td>\n",
       "      <td>5</td>\n",
       "      <td>3</td>\n",
       "      <td>2</td>\n",
       "      <td>2</td>\n",
       "    </tr>\n",
       "    <tr>\n",
       "      <th>top</th>\n",
       "      <td>Male</td>\n",
       "      <td>High</td>\n",
       "      <td>Rare</td>\n",
       "      <td>R&amp;D</td>\n",
       "      <td>Engineering</td>\n",
       "      <td>High</td>\n",
       "      <td>Near</td>\n",
       "      <td>No</td>\n",
       "    </tr>\n",
       "    <tr>\n",
       "      <th>freq</th>\n",
       "      <td>65</td>\n",
       "      <td>47</td>\n",
       "      <td>76</td>\n",
       "      <td>71</td>\n",
       "      <td>44</td>\n",
       "      <td>42</td>\n",
       "      <td>67</td>\n",
       "      <td>82</td>\n",
       "    </tr>\n",
       "  </tbody>\n",
       "</table>\n",
       "</div>"
      ],
      "text/plain": [
       "       Gender Satisfaction Business Travel Department EducationField Salary  \\\n",
       "count     100          100             100        100            100    100   \n",
       "unique      2            3               3          2              5      3   \n",
       "top      Male         High            Rare        R&D    Engineering   High   \n",
       "freq       65           47              76         71             44     42   \n",
       "\n",
       "       Home-Office Attrition  \n",
       "count          100       100  \n",
       "unique           2         2  \n",
       "top           Near        No  \n",
       "freq            67        82  "
      ]
     },
     "execution_count": 32,
     "metadata": {},
     "output_type": "execute_result"
    }
   ],
   "source": [
    "# Descriptive statistics on the dataset\n",
    "EmployeeData.describe()"
   ]
  },
  {
   "cell_type": "code",
   "execution_count": 33,
   "metadata": {},
   "outputs": [
    {
     "name": "stdout",
     "output_type": "stream",
     "text": [
      "<class 'pandas.core.frame.DataFrame'>\n",
      "RangeIndex: 100 entries, 0 to 99\n",
      "Data columns (total 8 columns):\n",
      "Gender             100 non-null object\n",
      "Satisfaction       100 non-null object\n",
      "Business Travel    100 non-null object\n",
      "Department         100 non-null object\n",
      "EducationField     100 non-null object\n",
      "Salary             100 non-null object\n",
      "Home-Office        100 non-null object\n",
      "Attrition          100 non-null object\n",
      "dtypes: object(8)\n",
      "memory usage: 6.3+ KB\n"
     ]
    }
   ],
   "source": [
    "# Checking the data type for each variable\n",
    "EmployeeData.info()"
   ]
  },
  {
   "cell_type": "markdown",
   "metadata": {},
   "source": [
    "### Exploratory Data Analysis"
   ]
  },
  {
   "cell_type": "markdown",
   "metadata": {},
   "source": [
    "#### Variable: Employee Satisfaction"
   ]
  },
  {
   "cell_type": "code",
   "execution_count": 6,
   "metadata": {},
   "outputs": [
    {
     "data": {
      "image/png": "[encoded data removed]",
      "text/plain": [
       "<Figure size 432x288 with 1 Axes>"
      ]
     },
     "metadata": {
      "needs_background": "light"
     },
     "output_type": "display_data"
    }
   ],
   "source": [
    "# Bar graph of employee satisfaction\n",
    "sns.countplot(x='Satisfaction',data=EmployeeData)\n",
    "plt.xlabel(\"Employee Satisfaction Level\")\n",
    "plt.ylabel(\"Count\")\n",
    "plt.title(\"Employee Satisfaction\")\n",
    "plt.show()"
   ]
  },
  {
   "cell_type": "code",
   "execution_count": 7,
   "metadata": {},
   "outputs": [
    {
     "data": {
      "image/png": "[encoded data removed]",
      "text/plain": [
       "<Figure size 432x288 with 1 Axes>"
      ]
     },
     "metadata": {
      "needs_background": "light"
     },
     "output_type": "display_data"
    }
   ],
   "source": [
    "# Bar graph of employee satisfaction with overlay of attrition\n",
    "crosstab2 = pd.crosstab(EmployeeData['Satisfaction'],EmployeeData['Attrition'])\n",
    "crosstab2.plot(kind='bar',stacked=True)\n",
    "plt.xlabel(\"Employee Satisfaction Level With Attrition\")\n",
    "plt.ylabel(\"Count\")\n",
    "plt.title(\"Employee Satisfaction\")\n",
    "plt.show()"
   ]
  },
  {
   "cell_type": "code",
   "execution_count": 8,
   "metadata": {},
   "outputs": [
    {
     "data": {
      "image/png": "[encoded data removed]",
      "text/plain": [
       "<Figure size 432x288 with 1 Axes>"
      ]
     },
     "metadata": {
      "needs_background": "light"
     },
     "output_type": "display_data"
    }
   ],
   "source": [
    "# Normalized Bar graph of employee satisfaction with overlay of attrition\n",
    "ctn2 = crosstab2.div(crosstab2.sum(1),axis=0)\n",
    "ctn2.plot(kind='bar',stacked=True)\n",
    "plt.xlabel(\"Employee Satisfaction Level With Attrition\")\n",
    "plt.ylabel(\"Count\")\n",
    "plt.title(\"Employee Satisfaction\")\n",
    "plt.show()"
   ]
  },
  {
   "cell_type": "markdown",
   "metadata": {},
   "source": [
    "**Initial Finding: Normalizing employee satisfaction by our taget (attrition) helps us conclude the preliminary findings that the lower the employee satisfaction rate, the higher the attrition rate. It is also important to note that, there are more employees who have high satisfaction level to the company.**"
   ]
  },
  {
   "cell_type": "markdown",
   "metadata": {},
   "source": [
    "#### Variable: Employee Salary"
   ]
  },
  {
   "cell_type": "code",
   "execution_count": 9,
   "metadata": {},
   "outputs": [
    {
     "data": {
      "image/png": "[encoded data removed]",
      "text/plain": [
       "<Figure size 432x288 with 1 Axes>"
      ]
     },
     "metadata": {
      "needs_background": "light"
     },
     "output_type": "display_data"
    }
   ],
   "source": [
    "# Bar graph of employee salary\n",
    "sns.countplot(x='Salary',data=EmployeeData)\n",
    "plt.xlabel(\"Employee Salary Level\")\n",
    "plt.ylabel(\"Count\")\n",
    "plt.title(\"Employee Salary\")\n",
    "plt.show()"
   ]
  },
  {
   "cell_type": "code",
   "execution_count": 10,
   "metadata": {},
   "outputs": [
    {
     "data": {
      "image/png": "[encoded data removed]",
      "text/plain": [
       "<Figure size 432x288 with 1 Axes>"
      ]
     },
     "metadata": {
      "needs_background": "light"
     },
     "output_type": "display_data"
    }
   ],
   "source": [
    "# Bar graph of employee salary with overlay of attrition\n",
    "crosstab6 = pd.crosstab(EmployeeData['Salary'],EmployeeData['Attrition'])\n",
    "crosstab6.plot(kind='bar',stacked=True)\n",
    "plt.xlabel(\"Employee Salary Level With Attrition\")\n",
    "plt.ylabel(\"Count\")\n",
    "plt.title(\"Employee Salary\")\n",
    "plt.show()"
   ]
  },
  {
   "cell_type": "code",
   "execution_count": 11,
   "metadata": {},
   "outputs": [
    {
     "data": {
      "image/png": "[encoded data removed]",
      "text/plain": [
       "<Figure size 432x288 with 1 Axes>"
      ]
     },
     "metadata": {
      "needs_background": "light"
     },
     "output_type": "display_data"
    }
   ],
   "source": [
    "# Normalized Bar graph of employee salary with overlay of attrition\n",
    "ctn6 = crosstab6.div(crosstab6.sum(1),axis=0)\n",
    "ctn6.plot(kind='bar',stacked=True)\n",
    "plt.xlabel(\"Employee Salary Level With Attrition\")\n",
    "plt.ylabel(\"Count\")\n",
    "plt.title(\"Employee Salary\")\n",
    "plt.show()"
   ]
  },
  {
   "cell_type": "markdown",
   "metadata": {},
   "source": [
    "**Initial Finding: It is apparent that those with lower salary have a higher attrition rate. Furthermore, those with higher salaries had a lower rate of attrition.**"
   ]
  },
  {
   "cell_type": "markdown",
   "metadata": {},
   "source": [
    "#### Variable: Home-Office"
   ]
  },
  {
   "cell_type": "code",
   "execution_count": 12,
   "metadata": {},
   "outputs": [
    {
     "data": {
      "image/png": "[encoded data removed]",
      "text/plain": [
       "<Figure size 432x288 with 1 Axes>"
      ]
     },
     "metadata": {
      "needs_background": "light"
     },
     "output_type": "display_data"
    }
   ],
   "source": [
    "# Bar graph of office-home distance\n",
    "sns.countplot(x='Home-Office',data=EmployeeData)\n",
    "plt.xlabel(\"Office-home Distance\")\n",
    "plt.ylabel(\"Count\")\n",
    "plt.title(\"Office-home Distance\")\n",
    "plt.show()"
   ]
  },
  {
   "cell_type": "code",
   "execution_count": 13,
   "metadata": {
    "scrolled": true
   },
   "outputs": [
    {
     "data": {
      "image/png": "[encoded data removed]",
      "text/plain": [
       "<Figure size 432x288 with 1 Axes>"
      ]
     },
     "metadata": {
      "needs_background": "light"
     },
     "output_type": "display_data"
    }
   ],
   "source": [
    "# Bar graph of office-home distance with overlay of attrition\n",
    "crosstab7 = pd.crosstab(EmployeeData['Home-Office'],EmployeeData['Attrition'])\n",
    "crosstab7.plot(kind='bar',stacked=True)\n",
    "plt.xlabel(\"Office-Home Distance With Attrition\")\n",
    "plt.ylabel(\"Count\")\n",
    "plt.title(\"Office-Home Distance\")\n",
    "plt.show()"
   ]
  },
  {
   "cell_type": "code",
   "execution_count": 31,
   "metadata": {},
   "outputs": [
    {
     "data": {
      "image/png": "[encoded data removed]",
      "text/plain": [
       "<Figure size 432x288 with 1 Axes>"
      ]
     },
     "metadata": {
      "needs_background": "light"
     },
     "output_type": "display_data"
    }
   ],
   "source": [
    "# Normalized Bar graph of office-home distance with overlay of attrition\n",
    "ctn7 = crosstab7.div(crosstab7.sum(1),axis=0)\n",
    "ctn7.plot(kind='bar',stacked=True)\n",
    "plt.xlabel(\"Office-Home Distance With Attrition\")\n",
    "plt.ylabel(\"Count\")\n",
    "plt.title(\"Office-Home Distance\")\n",
    "plt.show()"
   ]
  },
  {
   "cell_type": "markdown",
   "metadata": {},
   "source": [
    "**Initial Finding: Normalizing home-office distance by our taget (attrition) helps us conclude the preliminary findings that those living closer to their job have a higher rate of attrition. It is also apparent however, that there is not a great contrast between the level of attrition and whether an individual lived near or far from their work.**"
   ]
  },
  {
   "cell_type": "markdown",
   "metadata": {},
   "source": [
    "### Data Preparation & Cleaning"
   ]
  },
  {
   "cell_type": "markdown",
   "metadata": {},
   "source": [
    "#### Checking for missing variables"
   ]
  },
  {
   "cell_type": "code",
   "execution_count": 34,
   "metadata": {},
   "outputs": [
    {
     "data": {
      "text/plain": [
       "Gender             0\n",
       "Satisfaction       0\n",
       "Business Travel    0\n",
       "Department         0\n",
       "EducationField     0\n",
       "Salary             0\n",
       "Home-Office        0\n",
       "Attrition          0\n",
       "dtype: int64"
      ]
     },
     "execution_count": 34,
     "metadata": {},
     "output_type": "execute_result"
    }
   ],
   "source": [
    "# Checking for missing values\n",
    "EmployeeData.isna().sum()"
   ]
  },
  {
   "cell_type": "markdown",
   "metadata": {},
   "source": [
    "**We can see that there is no missing values in this dataset.**"
   ]
  },
  {
   "cell_type": "markdown",
   "metadata": {},
   "source": [
    "#### Converting categorical variable to dummy variables"
   ]
  },
  {
   "cell_type": "code",
   "execution_count": 134,
   "metadata": {
    "scrolled": true
   },
   "outputs": [
    {
     "data": {
      "text/html": [
       "<div>\n",
       "<style scoped>\n",
       "    .dataframe tbody tr th:only-of-type {\n",
       "        vertical-align: middle;\n",
       "    }\n",
       "\n",
       "    .dataframe tbody tr th {\n",
       "        vertical-align: top;\n",
       "    }\n",
       "\n",
       "    .dataframe thead th {\n",
       "        text-align: right;\n",
       "    }\n",
       "</style>\n",
       "<table border=\"1\" class=\"dataframe\">\n",
       "  <thead>\n",
       "    <tr style=\"text-align: right;\">\n",
       "      <th></th>\n",
       "      <th>Gender</th>\n",
       "      <th>Satisfaction</th>\n",
       "      <th>Business Travel</th>\n",
       "      <th>Department</th>\n",
       "      <th>EducationField</th>\n",
       "      <th>Salary</th>\n",
       "      <th>Home-Office</th>\n",
       "      <th>Attrition</th>\n",
       "    </tr>\n",
       "  </thead>\n",
       "  <tbody>\n",
       "    <tr>\n",
       "      <th>0</th>\n",
       "      <td>0</td>\n",
       "      <td>0</td>\n",
       "      <td>2</td>\n",
       "      <td>1</td>\n",
       "      <td>0</td>\n",
       "      <td>2</td>\n",
       "      <td>1</td>\n",
       "      <td>1</td>\n",
       "    </tr>\n",
       "    <tr>\n",
       "      <th>1</th>\n",
       "      <td>1</td>\n",
       "      <td>1</td>\n",
       "      <td>0</td>\n",
       "      <td>1</td>\n",
       "      <td>0</td>\n",
       "      <td>1</td>\n",
       "      <td>1</td>\n",
       "      <td>1</td>\n",
       "    </tr>\n",
       "    <tr>\n",
       "      <th>2</th>\n",
       "      <td>1</td>\n",
       "      <td>2</td>\n",
       "      <td>2</td>\n",
       "      <td>0</td>\n",
       "      <td>3</td>\n",
       "      <td>2</td>\n",
       "      <td>0</td>\n",
       "      <td>0</td>\n",
       "    </tr>\n",
       "    <tr>\n",
       "      <th>3</th>\n",
       "      <td>0</td>\n",
       "      <td>1</td>\n",
       "      <td>0</td>\n",
       "      <td>0</td>\n",
       "      <td>0</td>\n",
       "      <td>2</td>\n",
       "      <td>0</td>\n",
       "      <td>1</td>\n",
       "    </tr>\n",
       "    <tr>\n",
       "      <th>4</th>\n",
       "      <td>1</td>\n",
       "      <td>2</td>\n",
       "      <td>2</td>\n",
       "      <td>0</td>\n",
       "      <td>2</td>\n",
       "      <td>2</td>\n",
       "      <td>0</td>\n",
       "      <td>0</td>\n",
       "    </tr>\n",
       "  </tbody>\n",
       "</table>\n",
       "</div>"
      ],
      "text/plain": [
       "   Gender  Satisfaction  Business Travel  Department  EducationField  Salary  \\\n",
       "0       0             0                2           1               0       2   \n",
       "1       1             1                0           1               0       1   \n",
       "2       1             2                2           0               3       2   \n",
       "3       0             1                0           0               0       2   \n",
       "4       1             2                2           0               2       2   \n",
       "\n",
       "   Home-Office  Attrition  \n",
       "0            1          1  \n",
       "1            1          1  \n",
       "2            0          0  \n",
       "3            0          1  \n",
       "4            0          0  "
      ]
     },
     "execution_count": 134,
     "metadata": {},
     "output_type": "execute_result"
    }
   ],
   "source": [
    "# Creating a dataframe for the data we will be working on\n",
    "data = pd.DataFrame(EmployeeData)\n",
    "\n",
    "# Converting categorical variables into dummy variables for the ML models\n",
    "le = preprocessing.LabelEncoder()\n",
    "data = data.apply(le.fit_transform)\n",
    "data.head(5)"
   ]
  },
  {
   "cell_type": "markdown",
   "metadata": {},
   "source": [
    "#### Splitting the dataset to training set and test set"
   ]
  },
  {
   "cell_type": "code",
   "execution_count": 35,
   "metadata": {},
   "outputs": [],
   "source": [
    "# Subset the predictor variables to X\n",
    "X = data[['Satisfaction','Salary','Home-Office']]\n",
    "\n",
    "# Subset the response variable to y\n",
    "y = data[['Attrition']]"
   ]
  },
  {
   "cell_type": "code",
   "execution_count": 36,
   "metadata": {},
   "outputs": [],
   "source": [
    "# Parition the data set with the test size = 0.20\n",
    "X_train, X_test, y_train, y_test = train_test_split(X, y, test_size=0.2)"
   ]
  },
  {
   "cell_type": "code",
   "execution_count": 37,
   "metadata": {},
   "outputs": [
    {
     "data": {
      "text/plain": [
       "<matplotlib.axes._subplots.AxesSubplot at 0x1d7adde6e10>"
      ]
     },
     "execution_count": 37,
     "metadata": {},
     "output_type": "execute_result"
    },
    {
     "data": {
      "image/png": "[encoded data removed]",
      "text/plain": [
       "<Figure size 432x288 with 1 Axes>"
      ]
     },
     "metadata": {
      "needs_background": "light"
     },
     "output_type": "display_data"
    }
   ],
   "source": [
    "# Collect proportion values in a dataframe\n",
    "df = pd.DataFrame({'Partition':['Train','Test'],\n",
    "                  'Portion':[(X_train.shape[0]/X.shape[0]),\n",
    "                            (X_test.shape[0]/X.shape[0])]\n",
    "                  })\n",
    "\n",
    "# Create barplot\n",
    "df.set_index('Partition').plot(kind='bar')"
   ]
  },
  {
   "cell_type": "markdown",
   "metadata": {},
   "source": [
    "#### Balancing the target variable (Attrition) in the Training set"
   ]
  },
  {
   "cell_type": "code",
   "execution_count": 142,
   "metadata": {},
   "outputs": [
    {
     "name": "stdout",
     "output_type": "stream",
     "text": [
      "The total number of records in the training dataset is 80\n",
      "There are 14 records in the training dataset that have a attrition class of Yes.\n"
     ]
    }
   ],
   "source": [
    "# Idnentify the total number of records in the training dataset\n",
    "print('The total number of records in the training dataset is', y_train.shape[0])\n",
    "\n",
    "# Identify how many records in the training dataset that has attrition = yes\n",
    "print('There are', y_train.loc[y_train['Attrition']==1].shape[0], \n",
    "      'records in the training dataset that have a attrition class of Yes.')"
   ]
  },
  {
   "cell_type": "markdown",
   "metadata": {},
   "source": [
    "**That is about 17.5% of the training dataset with Attrition have the 'Yes' response value. To provide the classification algorithms with a rich selection of records for each category, we will resample the training dataset in order to have 20% of the rebalanced data set have 'yes' attrition values.**\\\n",
    "<br>\n",
    "**To have 20% of the rebalanced dataset have true churn values, we have p=0.2, records=80, rare=14. By substituting the unknowns into the formula 'Rare + x = p(records + x)', we get x=2.5. That is we need to resample 3 records whose Churn response is 'True' and add them to our training dataset.**\\"
   ]
  },
  {
   "cell_type": "code",
   "execution_count": 143,
   "metadata": {},
   "outputs": [
    {
     "data": {
      "text/plain": [
       "0    66\n",
       "1    17\n",
       "Name: Attrition, dtype: int64"
      ]
     },
     "execution_count": 143,
     "metadata": {},
     "output_type": "execute_result"
    }
   ],
   "source": [
    "# Subsetting the records which we want to resample\n",
    "to_resample_y = y_train.loc[y_train['Attrition'] == 1]\n",
    "\n",
    "# sample() draws records at random form, replace 'Yes' specifies to sample with replacement\n",
    "our_resample_y = to_resample_y.sample(n = 3, replace = True)\n",
    "\n",
    "# Add the resampled records to the original dataset\n",
    "y_train_rebal = pd.concat([y_train, our_resample_y])\n",
    "\n",
    "# Confirming that 20% of the records in the rebalanced dataset have 'True' as the Churn values\n",
    "y_train_rebal['Attrition'].value_counts()"
   ]
  },
  {
   "cell_type": "markdown",
   "metadata": {},
   "source": [
    "**Since 17/(66+17) is ~20%, we can confirm that 20% of the records in the rebalanced data set have 'Yes' in attrition values.**"
   ]
  },
  {
   "cell_type": "markdown",
   "metadata": {},
   "source": [
    "#### Balancing the response variable (Satisfaction, Salary and Home-Office) in the Training set"
   ]
  },
  {
   "cell_type": "code",
   "execution_count": 144,
   "metadata": {},
   "outputs": [
    {
     "data": {
      "text/plain": [
       "Int64Index([21, 50, 45], dtype='int64')"
      ]
     },
     "execution_count": 144,
     "metadata": {},
     "output_type": "execute_result"
    }
   ],
   "source": [
    "# Look for the indices of the resampled y \n",
    "our_resample_y.index"
   ]
  },
  {
   "cell_type": "code",
   "execution_count": 145,
   "metadata": {},
   "outputs": [
    {
     "data": {
      "text/html": [
       "<div>\n",
       "<style scoped>\n",
       "    .dataframe tbody tr th:only-of-type {\n",
       "        vertical-align: middle;\n",
       "    }\n",
       "\n",
       "    .dataframe tbody tr th {\n",
       "        vertical-align: top;\n",
       "    }\n",
       "\n",
       "    .dataframe thead th {\n",
       "        text-align: right;\n",
       "    }\n",
       "</style>\n",
       "<table border=\"1\" class=\"dataframe\">\n",
       "  <thead>\n",
       "    <tr style=\"text-align: right;\">\n",
       "      <th></th>\n",
       "      <th>Satisfaction</th>\n",
       "      <th>Salary</th>\n",
       "      <th>Home-Office</th>\n",
       "    </tr>\n",
       "  </thead>\n",
       "  <tbody>\n",
       "    <tr>\n",
       "      <th>21</th>\n",
       "      <td>0</td>\n",
       "      <td>2</td>\n",
       "      <td>1</td>\n",
       "    </tr>\n",
       "    <tr>\n",
       "      <th>50</th>\n",
       "      <td>0</td>\n",
       "      <td>2</td>\n",
       "      <td>1</td>\n",
       "    </tr>\n",
       "    <tr>\n",
       "      <th>45</th>\n",
       "      <td>0</td>\n",
       "      <td>2</td>\n",
       "      <td>0</td>\n",
       "    </tr>\n",
       "  </tbody>\n",
       "</table>\n",
       "</div>"
      ],
      "text/plain": [
       "    Satisfaction  Salary  Home-Office\n",
       "21             0       2            1\n",
       "50             0       2            1\n",
       "45             0       2            0"
      ]
     },
     "execution_count": 145,
     "metadata": {},
     "output_type": "execute_result"
    }
   ],
   "source": [
    "# Grab the same X from indices 21, 50, 45 from X_Train\n",
    "to_resample_X = X_train.loc[[21, 50, 45]]\n",
    "to_resample_X"
   ]
  },
  {
   "cell_type": "code",
   "execution_count": 146,
   "metadata": {},
   "outputs": [
    {
     "data": {
      "text/html": [
       "<div>\n",
       "<style scoped>\n",
       "    .dataframe tbody tr th:only-of-type {\n",
       "        vertical-align: middle;\n",
       "    }\n",
       "\n",
       "    .dataframe tbody tr th {\n",
       "        vertical-align: top;\n",
       "    }\n",
       "\n",
       "    .dataframe thead th {\n",
       "        text-align: right;\n",
       "    }\n",
       "</style>\n",
       "<table border=\"1\" class=\"dataframe\">\n",
       "  <thead>\n",
       "    <tr style=\"text-align: right;\">\n",
       "      <th></th>\n",
       "      <th>Satisfaction</th>\n",
       "      <th>Salary</th>\n",
       "      <th>Home-Office</th>\n",
       "    </tr>\n",
       "  </thead>\n",
       "  <tbody>\n",
       "    <tr>\n",
       "      <th>85</th>\n",
       "      <td>2</td>\n",
       "      <td>1</td>\n",
       "      <td>1</td>\n",
       "    </tr>\n",
       "    <tr>\n",
       "      <th>62</th>\n",
       "      <td>0</td>\n",
       "      <td>1</td>\n",
       "      <td>0</td>\n",
       "    </tr>\n",
       "    <tr>\n",
       "      <th>27</th>\n",
       "      <td>2</td>\n",
       "      <td>0</td>\n",
       "      <td>0</td>\n",
       "    </tr>\n",
       "    <tr>\n",
       "      <th>14</th>\n",
       "      <td>1</td>\n",
       "      <td>0</td>\n",
       "      <td>1</td>\n",
       "    </tr>\n",
       "    <tr>\n",
       "      <th>35</th>\n",
       "      <td>0</td>\n",
       "      <td>2</td>\n",
       "      <td>1</td>\n",
       "    </tr>\n",
       "  </tbody>\n",
       "</table>\n",
       "</div>"
      ],
      "text/plain": [
       "    Satisfaction  Salary  Home-Office\n",
       "85             2       1            1\n",
       "62             0       1            0\n",
       "27             2       0            0\n",
       "14             1       0            1\n",
       "35             0       2            1"
      ]
     },
     "execution_count": 146,
     "metadata": {},
     "output_type": "execute_result"
    }
   ],
   "source": [
    "# sample() draws records at random form, replace 'Yes' specifies to sample with replacement\n",
    "our_resample_X = to_resample_X.sample(n = 3, replace = True)\n",
    "\n",
    "# Add the resampled records to the original dataset\n",
    "X_train_rebal = pd.concat([X_train, our_resample_X])\n",
    "X_train_rebal.head()"
   ]
  },
  {
   "cell_type": "markdown",
   "metadata": {},
   "source": [
    "### Modeling"
   ]
  },
  {
   "cell_type": "markdown",
   "metadata": {},
   "source": [
    "#### CART Algorithm"
   ]
  },
  {
   "cell_type": "code",
   "execution_count": 147,
   "metadata": {},
   "outputs": [
    {
     "data": {
      "image/png": "[encoded data removed]",
      "text/plain": [
       "<Figure size 2160x720 with 1 Axes>"
      ]
     },
     "metadata": {
      "needs_background": "light"
     },
     "output_type": "display_data"
    }
   ],
   "source": [
    "# Train CART model\n",
    "cart01 = DecisionTreeClassifier(criterion = \"gini\", max_leaf_nodes=4).fit(X_train_rebal, y_train_rebal)\n",
    "\n",
    "# Specify the names of each column of X and y\n",
    "X_names = ['Satisfaction', 'Salary', 'Home-Office']\n",
    "y_names = ['Attrition=Yes', 'Attrition=No']\n",
    "\n",
    "# Obtain tree structure with labeles\n",
    "plt.figure(figsize=(30,10))\n",
    "cart01_viz = tree.plot_tree(cart01, feature_names = X_names, class_names = y_names,\n",
    "                            rounded = True, filled = True, fontsize=14)\n",
    "plt.title(\"Decision Tree on Training Set\", fontsize=20)\n",
    "plt.show()"
   ]
  },
  {
   "cell_type": "markdown",
   "metadata": {},
   "source": [
    "**The first split is on the employee salary level at the 0.5 threshold meaning above the salary level. The second split is on employee satisfaction level.**"
   ]
  },
  {
   "cell_type": "code",
   "execution_count": 148,
   "metadata": {},
   "outputs": [
    {
     "data": {
      "text/plain": [
       "0.8"
      ]
     },
     "execution_count": 148,
     "metadata": {},
     "output_type": "execute_result"
    }
   ],
   "source": [
    "# Use model to predict on test data\n",
    "ypred_cart01 = cart01.predict(X_test)\n",
    "\n",
    "# Accuracy of CART model\n",
    "metrics.accuracy_score(y_test, ypred_cart01)"
   ]
  },
  {
   "cell_type": "code",
   "execution_count": 149,
   "metadata": {},
   "outputs": [
    {
     "data": {
      "text/plain": [
       "array([0, 0, 0, 0, 0, 0, 0, 0, 0, 0, 0, 0, 0, 0, 0, 0, 0, 0, 0, 0])"
      ]
     },
     "execution_count": 149,
     "metadata": {},
     "output_type": "execute_result"
    }
   ],
   "source": [
    "ypred_cart01"
   ]
  },
  {
   "cell_type": "code",
   "execution_count": 150,
   "metadata": {},
   "outputs": [
    {
     "name": "stderr",
     "output_type": "stream",
     "text": [
      "<ipython-input-150-fa51bcc48e97>:2: UserWarning: Pandas doesn't allow columns to be created via a new attribute name - see https://pandas.pydata.org/pandas-docs/stable/indexing.html#attribute-access\n",
      "  y_test.array = y_test['Attrition'].to_numpy()\n"
     ]
    },
    {
     "data": {
      "text/plain": [
       "array([1, 0, 0, 1, 0, 1, 0, 1, 0, 0, 0, 0, 0, 0, 0, 0, 0, 0, 0, 0])"
      ]
     },
     "execution_count": 150,
     "metadata": {},
     "output_type": "execute_result"
    }
   ],
   "source": [
    "# Converting y_test in an array for comparision to ypred\n",
    "y_test.array = y_test['Attrition'].to_numpy()\n",
    "y_test.array"
   ]
  },
  {
   "cell_type": "code",
   "execution_count": 151,
   "metadata": {},
   "outputs": [
    {
     "name": "stdout",
     "output_type": "stream",
     "text": [
      "              precision    recall  f1-score   support\n",
      "\n",
      "           0       0.80      1.00      0.89        16\n",
      "           1       0.00      0.00      0.00         4\n",
      "\n",
      "    accuracy                           0.80        20\n",
      "   macro avg       0.40      0.50      0.44        20\n",
      "weighted avg       0.64      0.80      0.71        20\n",
      "\n"
     ]
    },
    {
     "name": "stderr",
     "output_type": "stream",
     "text": [
      "C:\\Users\\annie\\anaconda3\\lib\\site-packages\\sklearn\\metrics\\_classification.py:1245: UndefinedMetricWarning: Precision and F-score are ill-defined and being set to 0.0 in labels with no predicted samples. Use `zero_division` parameter to control this behavior.\n",
      "  _warn_prf(average, modifier, msg_start, len(result))\n",
      "C:\\Users\\annie\\anaconda3\\lib\\site-packages\\sklearn\\metrics\\_classification.py:1245: UndefinedMetricWarning: Precision and F-score are ill-defined and being set to 0.0 in labels with no predicted samples. Use `zero_division` parameter to control this behavior.\n",
      "  _warn_prf(average, modifier, msg_start, len(result))\n",
      "C:\\Users\\annie\\anaconda3\\lib\\site-packages\\sklearn\\metrics\\_classification.py:1245: UndefinedMetricWarning: Precision and F-score are ill-defined and being set to 0.0 in labels with no predicted samples. Use `zero_division` parameter to control this behavior.\n",
      "  _warn_prf(average, modifier, msg_start, len(result))\n"
     ]
    }
   ],
   "source": [
    "# Evaluation of the CART Model\n",
    "print(classification_report(y_test.array, ypred_cart01))"
   ]
  },
  {
   "cell_type": "code",
   "execution_count": 152,
   "metadata": {},
   "outputs": [
    {
     "data": {
      "text/html": [
       "<div>\n",
       "<style scoped>\n",
       "    .dataframe tbody tr th:only-of-type {\n",
       "        vertical-align: middle;\n",
       "    }\n",
       "\n",
       "    .dataframe tbody tr th {\n",
       "        vertical-align: top;\n",
       "    }\n",
       "\n",
       "    .dataframe thead th {\n",
       "        text-align: right;\n",
       "    }\n",
       "</style>\n",
       "<table border=\"1\" class=\"dataframe\">\n",
       "  <thead>\n",
       "    <tr style=\"text-align: right;\">\n",
       "      <th></th>\n",
       "      <th>0</th>\n",
       "      <th>1</th>\n",
       "    </tr>\n",
       "  </thead>\n",
       "  <tbody>\n",
       "    <tr>\n",
       "      <th>0</th>\n",
       "      <td>16</td>\n",
       "      <td>0</td>\n",
       "    </tr>\n",
       "    <tr>\n",
       "      <th>1</th>\n",
       "      <td>4</td>\n",
       "      <td>0</td>\n",
       "    </tr>\n",
       "  </tbody>\n",
       "</table>\n",
       "</div>"
      ],
      "text/plain": [
       "    0  1\n",
       "0  16  0\n",
       "1   4  0"
      ]
     },
     "execution_count": 152,
     "metadata": {},
     "output_type": "execute_result"
    }
   ],
   "source": [
    "# Generate the confusion matrix\n",
    "con_table_cart01 = metrics.confusion_matrix(y_test.array, ypred_cart01)\n",
    "pd.DataFrame(con_table_cart01)"
   ]
  },
  {
   "cell_type": "code",
   "execution_count": 153,
   "metadata": {},
   "outputs": [
    {
     "name": "stdout",
     "output_type": "stream",
     "text": [
      "TN:  16 \n",
      "FP:  0 \n",
      "FN:  4 \n",
      "TP:  0 \n",
      "GT:  20\n"
     ]
    }
   ],
   "source": [
    "# Intepreting the confusion matrix table for further analysis\n",
    "TN_cart = con_table_cart01[0][0]\n",
    "FP_cart = con_table_cart01[0][1]\n",
    "FN_cart = con_table_cart01[1][0]\n",
    "TP_cart = con_table_cart01[1][1]\n",
    "GT_cart = 16+0+4+0\n",
    "print('TN: ', TN_cart,\n",
    "'\\nFP: ', FP_cart,\n",
    "'\\nFN: ', FN_cart,\n",
    "'\\nTP: ', TP_cart,\n",
    "'\\nGT: ', GT_cart)"
   ]
  },
  {
   "cell_type": "code",
   "execution_count": 155,
   "metadata": {},
   "outputs": [
    {
     "name": "stdout",
     "output_type": "stream",
     "text": [
      "Accuracy = (TN + TP)/GT =  0.8 \n",
      "Error Rate = 1 - Accuracy =  0.2 \n",
      "Sensitivity = TP / TAP =  0.0 \n",
      "Specificity = TN / TAN =  1.0\n"
     ]
    },
    {
     "name": "stderr",
     "output_type": "stream",
     "text": [
      "<ipython-input-155-1bf0147df3d5>:6: RuntimeWarning: invalid value encountered in longlong_scalars\n",
      "  Precision_cart = round(TP_cart / (FP_cart + TP_cart), 4)\n"
     ]
    }
   ],
   "source": [
    "# Model Evaluation Measure\n",
    "Accuracy_cart = round((TN_cart + TP_cart)/GT_cart, 4)\n",
    "ErrorRate_cart = round(1 - Accuracy_cart, 4)\n",
    "Sensitivity_cart = round(TP_cart / (FN_cart + TP_cart), 4)\n",
    "Specificity_cart = round(TN_cart / (TN_cart + FP_cart), 4)\n",
    "Precision_cart = round(TP_cart / (FP_cart + TP_cart), 4)\n",
    "\n",
    "print('Accuracy = (TN + TP)/GT = ', Accuracy_cart,\n",
    "'\\nError Rate = 1 - Accuracy = ', ErrorRate_cart,\n",
    "'\\nSensitivity = TP / TAP = ', Sensitivity_cart,\n",
    "'\\nSpecificity = TN / TAN = ', Specificity_cart)"
   ]
  },
  {
   "cell_type": "markdown",
   "metadata": {},
   "source": [
    "#### C5.0 Algorithm"
   ]
  },
  {
   "cell_type": "code",
   "execution_count": 156,
   "metadata": {},
   "outputs": [
    {
     "data": {
      "image/png": "[encoded data removed]",
      "text/plain": [
       "<Figure size 2160x720 with 1 Axes>"
      ]
     },
     "metadata": {
      "needs_background": "light"
     },
     "output_type": "display_data"
    }
   ],
   "source": [
    "# Train C5.0 Algorithm with test data set\n",
    "c50 = DecisionTreeClassifier(criterion=\"entropy\", \n",
    "                                max_leaf_nodes=4).fit(X_train_rebal, y_train_rebal)\n",
    "\n",
    "# Visualizing the decision tree\n",
    "plt.figure(figsize=(30,10))\n",
    "c50_viz = tree.plot_tree(c50, feature_names = X_names, class_names = y_names,\n",
    "rounded = True, filled = True, fontsize=14)\n",
    "plt.title(\"Decision Tree on Training Set\", fontsize=20)\n",
    "plt.show()"
   ]
  },
  {
   "cell_type": "code",
   "execution_count": 157,
   "metadata": {},
   "outputs": [
    {
     "data": {
      "text/plain": [
       "0.8"
      ]
     },
     "execution_count": 157,
     "metadata": {},
     "output_type": "execute_result"
    }
   ],
   "source": [
    "# Use model to predict on test data\n",
    "ypred_c50 = c50.predict(X_test)\n",
    "\n",
    "# Accuracy of C5.0 model\n",
    "metrics.accuracy_score(y_test, ypred_c50)"
   ]
  },
  {
   "cell_type": "code",
   "execution_count": 158,
   "metadata": {},
   "outputs": [
    {
     "data": {
      "text/plain": [
       "array([0, 0, 0, 0, 0, 0, 0, 0, 0, 0, 0, 0, 0, 0, 0, 0, 0, 0, 0, 0])"
      ]
     },
     "execution_count": 158,
     "metadata": {},
     "output_type": "execute_result"
    }
   ],
   "source": [
    "ypred_c50"
   ]
  },
  {
   "cell_type": "code",
   "execution_count": 161,
   "metadata": {},
   "outputs": [
    {
     "name": "stdout",
     "output_type": "stream",
     "text": [
      "              precision    recall  f1-score   support\n",
      "\n",
      "           0       0.80      1.00      0.89        16\n",
      "           1       0.00      0.00      0.00         4\n",
      "\n",
      "    accuracy                           0.80        20\n",
      "   macro avg       0.40      0.50      0.44        20\n",
      "weighted avg       0.64      0.80      0.71        20\n",
      "\n"
     ]
    },
    {
     "name": "stderr",
     "output_type": "stream",
     "text": [
      "C:\\Users\\annie\\anaconda3\\lib\\site-packages\\sklearn\\metrics\\_classification.py:1245: UndefinedMetricWarning: Precision and F-score are ill-defined and being set to 0.0 in labels with no predicted samples. Use `zero_division` parameter to control this behavior.\n",
      "  _warn_prf(average, modifier, msg_start, len(result))\n",
      "C:\\Users\\annie\\anaconda3\\lib\\site-packages\\sklearn\\metrics\\_classification.py:1245: UndefinedMetricWarning: Precision and F-score are ill-defined and being set to 0.0 in labels with no predicted samples. Use `zero_division` parameter to control this behavior.\n",
      "  _warn_prf(average, modifier, msg_start, len(result))\n",
      "C:\\Users\\annie\\anaconda3\\lib\\site-packages\\sklearn\\metrics\\_classification.py:1245: UndefinedMetricWarning: Precision and F-score are ill-defined and being set to 0.0 in labels with no predicted samples. Use `zero_division` parameter to control this behavior.\n",
      "  _warn_prf(average, modifier, msg_start, len(result))\n"
     ]
    }
   ],
   "source": [
    "# Evaluation of the C5.0 Model\n",
    "print(classification_report(y_test.array, ypred_c50))"
   ]
  },
  {
   "cell_type": "code",
   "execution_count": 160,
   "metadata": {},
   "outputs": [
    {
     "data": {
      "text/html": [
       "<div>\n",
       "<style scoped>\n",
       "    .dataframe tbody tr th:only-of-type {\n",
       "        vertical-align: middle;\n",
       "    }\n",
       "\n",
       "    .dataframe tbody tr th {\n",
       "        vertical-align: top;\n",
       "    }\n",
       "\n",
       "    .dataframe thead th {\n",
       "        text-align: right;\n",
       "    }\n",
       "</style>\n",
       "<table border=\"1\" class=\"dataframe\">\n",
       "  <thead>\n",
       "    <tr style=\"text-align: right;\">\n",
       "      <th></th>\n",
       "      <th>0</th>\n",
       "      <th>1</th>\n",
       "    </tr>\n",
       "  </thead>\n",
       "  <tbody>\n",
       "    <tr>\n",
       "      <th>0</th>\n",
       "      <td>16</td>\n",
       "      <td>0</td>\n",
       "    </tr>\n",
       "    <tr>\n",
       "      <th>1</th>\n",
       "      <td>4</td>\n",
       "      <td>0</td>\n",
       "    </tr>\n",
       "  </tbody>\n",
       "</table>\n",
       "</div>"
      ],
      "text/plain": [
       "    0  1\n",
       "0  16  0\n",
       "1   4  0"
      ]
     },
     "execution_count": 160,
     "metadata": {},
     "output_type": "execute_result"
    }
   ],
   "source": [
    "# Generate the confusion matrix\n",
    "con_table_c50 = metrics.confusion_matrix(y_test.array, ypred_c50)\n",
    "pd.DataFrame(con_table_c50)"
   ]
  },
  {
   "cell_type": "code",
   "execution_count": 162,
   "metadata": {},
   "outputs": [
    {
     "name": "stdout",
     "output_type": "stream",
     "text": [
      "TN:  16 \n",
      "FP:  0 \n",
      "FN:  4 \n",
      "TP:  0 \n",
      "GT:  20\n"
     ]
    }
   ],
   "source": [
    "# Intepreting the confusion matrix table for further analysis\n",
    "TN_c50 = con_table_c50[0][0]\n",
    "FP_c50 = con_table_c50[0][1]\n",
    "FN_c50 = con_table_c50[1][0]\n",
    "TP_c50 = con_table_c50[1][1]\n",
    "GT_c50 = 16+0+4+0\n",
    "print('TN: ', TN_c50,\n",
    "'\\nFP: ', FP_c50,\n",
    "'\\nFN: ', FN_c50,\n",
    "'\\nTP: ', TP_c50,\n",
    "'\\nGT: ', GT_c50)"
   ]
  },
  {
   "cell_type": "code",
   "execution_count": 164,
   "metadata": {},
   "outputs": [
    {
     "name": "stdout",
     "output_type": "stream",
     "text": [
      "Accuracy = (TN + TP)/GT =  0.8 \n",
      "Error Rate = 1 - Accuracy =  0.2 \n",
      "Sensitivity = TP / TAP =  0.0 \n",
      "Specificity = TN / TAN =  1.0\n"
     ]
    },
    {
     "name": "stderr",
     "output_type": "stream",
     "text": [
      "<ipython-input-164-b094d6321b2a>:6: RuntimeWarning: invalid value encountered in longlong_scalars\n",
      "  Precision_c50 = round(TP_c50 / (FP_c50 + TP_c50), 4)\n"
     ]
    }
   ],
   "source": [
    "# Model Evaluation Measure\n",
    "Accuracy_c50 = round((TN_c50 + TP_c50)/GT_c50, 4)\n",
    "ErrorRate_c50 = round(1 - Accuracy_c50, 4)\n",
    "Sensitivity_c50 = round(TP_c50 / (FN_c50 + TP_c50), 4)\n",
    "Specificity_c50 = round(TN_c50 / (TN_c50 + FP_c50), 4)\n",
    "Precision_c50 = round(TP_c50 / (FP_c50 + TP_c50), 4)\n",
    "\n",
    "print('Accuracy = (TN + TP)/GT = ', Accuracy_c50,\n",
    "'\\nError Rate = 1 - Accuracy = ', ErrorRate_c50,\n",
    "'\\nSensitivity = TP / TAP = ', Sensitivity_c50,\n",
    "'\\nSpecificity = TN / TAN = ', Specificity_c50)"
   ]
  },
  {
   "cell_type": "markdown",
   "metadata": {},
   "source": [
    "#### Logistic Regression Model"
   ]
  },
  {
   "cell_type": "code",
   "execution_count": 51,
   "metadata": {},
   "outputs": [
    {
     "name": "stdout",
     "output_type": "stream",
     "text": [
      "Optimization terminated successfully.\n",
      "         Current function value: 0.475370\n",
      "         Iterations 6\n"
     ]
    },
    {
     "data": {
      "text/html": [
       "<table class=\"simpletable\">\n",
       "<tr>\n",
       "        <td>Model:</td>              <td>Logit</td>      <td>Pseudo R-squared:</td>  <td>0.015</td> \n",
       "</tr>\n",
       "<tr>\n",
       "  <td>Dependent Variable:</td>     <td>Attrition</td>          <td>AIC:</td>        <td>84.0593</td>\n",
       "</tr>\n",
       "<tr>\n",
       "         <td>Date:</td>        <td>2022-04-15 21:59</td>       <td>BIC:</td>        <td>93.5874</td>\n",
       "</tr>\n",
       "<tr>\n",
       "   <td>No. Observations:</td>         <td>80</td>         <td>Log-Likelihood:</td>  <td>-38.030</td>\n",
       "</tr>\n",
       "<tr>\n",
       "       <td>Df Model:</td>              <td>3</td>            <td>LL-Null:</td>      <td>-38.606</td>\n",
       "</tr>\n",
       "<tr>\n",
       "     <td>Df Residuals:</td>           <td>76</td>          <td>LLR p-value:</td>    <td>0.76427</td>\n",
       "</tr>\n",
       "<tr>\n",
       "      <td>Converged:</td>           <td>1.0000</td>           <td>Scale:</td>       <td>1.0000</td> \n",
       "</tr>\n",
       "<tr>\n",
       "    <td>No. Iterations:</td>        <td>6.0000</td>              <td></td>             <td></td>    \n",
       "</tr>\n",
       "</table>\n",
       "<table class=\"simpletable\">\n",
       "<tr>\n",
       "        <td></td>        <th>Coef.</th>  <th>Std.Err.</th>    <th>z</th>     <th>P>|z|</th> <th>[0.025</th>  <th>0.975]</th> \n",
       "</tr>\n",
       "<tr>\n",
       "  <th>const</th>        <td>-1.9477</td>  <td>0.6862</td>  <td>-2.8384</td> <td>0.0045</td> <td>-3.2927</td> <td>-0.6028</td>\n",
       "</tr>\n",
       "<tr>\n",
       "  <th>Satisfaction</th> <td>0.1771</td>   <td>0.3372</td>  <td>0.5252</td>  <td>0.5994</td> <td>-0.4838</td> <td>0.8379</td> \n",
       "</tr>\n",
       "<tr>\n",
       "  <th>Salary</th>       <td>0.3206</td>   <td>0.3331</td>  <td>0.9623</td>  <td>0.3359</td> <td>-0.3323</td> <td>0.9735</td> \n",
       "</tr>\n",
       "<tr>\n",
       "  <th>Home-Office</th>  <td>0.0003</td>   <td>0.6288</td>  <td>0.0005</td>  <td>0.9996</td> <td>-1.2321</td> <td>1.2328</td> \n",
       "</tr>\n",
       "</table>"
      ],
      "text/plain": [
       "<class 'statsmodels.iolib.summary2.Summary'>\n",
       "\"\"\"\n",
       "                        Results: Logit\n",
       "==============================================================\n",
       "Model:              Logit            Pseudo R-squared: 0.015  \n",
       "Dependent Variable: Attrition        AIC:              84.0593\n",
       "Date:               2022-04-15 21:59 BIC:              93.5874\n",
       "No. Observations:   80               Log-Likelihood:   -38.030\n",
       "Df Model:           3                LL-Null:          -38.606\n",
       "Df Residuals:       76               LLR p-value:      0.76427\n",
       "Converged:          1.0000           Scale:            1.0000 \n",
       "No. Iterations:     6.0000                                    \n",
       "--------------------------------------------------------------\n",
       "                Coef.  Std.Err.    z    P>|z|   [0.025  0.975]\n",
       "--------------------------------------------------------------\n",
       "const          -1.9477   0.6862 -2.8384 0.0045 -3.2927 -0.6028\n",
       "Satisfaction    0.1771   0.3372  0.5252 0.5994 -0.4838  0.8379\n",
       "Salary          0.3206   0.3331  0.9623 0.3359 -0.3323  0.9735\n",
       "Home-Office     0.0003   0.6288  0.0005 0.9996 -1.2321  1.2328\n",
       "==============================================================\n",
       "\n",
       "\"\"\""
      ]
     },
     "execution_count": 51,
     "metadata": {},
     "output_type": "execute_result"
    }
   ],
   "source": [
    "# Running a regression prediction\n",
    "X = sm.add_constant(X_train)\n",
    "y = pd.DataFrame(y_train)\n",
    "logreg01 = sm.Logit(y,X).fit()\n",
    "logreg01.summary2()"
   ]
  },
  {
   "cell_type": "code",
   "execution_count": 52,
   "metadata": {},
   "outputs": [
    {
     "name": "stdout",
     "output_type": "stream",
     "text": [
      "Warning: Maximum number of iterations has been exceeded.\n",
      "         Current function value: 0.349685\n",
      "         Iterations: 35\n"
     ]
    },
    {
     "name": "stderr",
     "output_type": "stream",
     "text": [
      "C:\\Users\\mendi\\Anaconda3\\lib\\site-packages\\statsmodels\\base\\model.py:512: ConvergenceWarning: Maximum Likelihood optimization failed to converge. Check mle_retvals\n",
      "  \"Check mle_retvals\", ConvergenceWarning)\n"
     ]
    },
    {
     "data": {
      "text/html": [
       "<table class=\"simpletable\">\n",
       "<tr>\n",
       "        <td>Model:</td>              <td>Logit</td>      <td>Pseudo R-squared:</td>  <td>0.173</td> \n",
       "</tr>\n",
       "<tr>\n",
       "  <td>Dependent Variable:</td>     <td>Attrition</td>          <td>AIC:</td>        <td>21.9874</td>\n",
       "</tr>\n",
       "<tr>\n",
       "         <td>Date:</td>        <td>2022-04-15 21:59</td>       <td>BIC:</td>        <td>25.9703</td>\n",
       "</tr>\n",
       "<tr>\n",
       "   <td>No. Observations:</td>         <td>20</td>         <td>Log-Likelihood:</td>  <td>-6.9937</td>\n",
       "</tr>\n",
       "<tr>\n",
       "       <td>Df Model:</td>              <td>3</td>            <td>LL-Null:</td>      <td>-8.4542</td>\n",
       "</tr>\n",
       "<tr>\n",
       "     <td>Df Residuals:</td>           <td>16</td>          <td>LLR p-value:</td>    <td>0.40398</td>\n",
       "</tr>\n",
       "<tr>\n",
       "      <td>Converged:</td>           <td>0.0000</td>           <td>Scale:</td>       <td>1.0000</td> \n",
       "</tr>\n",
       "<tr>\n",
       "    <td>No. Iterations:</td>        <td>35.0000</td>             <td></td>             <td></td>    \n",
       "</tr>\n",
       "</table>\n",
       "<table class=\"simpletable\">\n",
       "<tr>\n",
       "        <td></td>         <th>Coef.</th>   <th>Std.Err.</th>     <th>z</th>     <th>P>|z|</th>    <th>[0.025</th>      <th>0.975]</th>   \n",
       "</tr>\n",
       "<tr>\n",
       "  <th>const</th>        <td>-25.0229</td> <td>90114.8391</td> <td>-0.0003</td> <td>0.9998</td> <td>-176646.8621</td> <td>176596.8162</td>\n",
       "</tr>\n",
       "<tr>\n",
       "  <th>Satisfaction</th>  <td>-0.3605</td>   <td>0.8386</td>   <td>-0.4298</td> <td>0.6673</td>    <td>-2.0041</td>     <td>1.2832</td>   \n",
       "</tr>\n",
       "<tr>\n",
       "  <th>Salary</th>        <td>0.5127</td>    <td>0.9223</td>   <td>0.5559</td>  <td>0.5783</td>    <td>-1.2950</td>     <td>2.3204</td>   \n",
       "</tr>\n",
       "<tr>\n",
       "  <th>Home-Office</th>   <td>23.4100</td> <td>90114.8391</td> <td>0.0003</td>  <td>0.9998</td> <td>-176598.4291</td> <td>176645.2492</td>\n",
       "</tr>\n",
       "</table>"
      ],
      "text/plain": [
       "<class 'statsmodels.iolib.summary2.Summary'>\n",
       "\"\"\"\n",
       "                             Results: Logit\n",
       "========================================================================\n",
       "Model:                  Logit               Pseudo R-squared:    0.173  \n",
       "Dependent Variable:     Attrition           AIC:                 21.9874\n",
       "Date:                   2022-04-15 21:59    BIC:                 25.9703\n",
       "No. Observations:       20                  Log-Likelihood:      -6.9937\n",
       "Df Model:               3                   LL-Null:             -8.4542\n",
       "Df Residuals:           16                  LLR p-value:         0.40398\n",
       "Converged:              0.0000              Scale:               1.0000 \n",
       "No. Iterations:         35.0000                                         \n",
       "------------------------------------------------------------------------\n",
       "              Coef.    Std.Err.     z    P>|z|     [0.025       0.975]  \n",
       "------------------------------------------------------------------------\n",
       "const        -25.0229 90114.8391 -0.0003 0.9998 -176646.8621 176596.8162\n",
       "Satisfaction  -0.3605     0.8386 -0.4298 0.6673      -2.0041      1.2832\n",
       "Salary         0.5127     0.9223  0.5559 0.5783      -1.2950      2.3204\n",
       "Home-Office   23.4100 90114.8391  0.0003 0.9998 -176598.4291 176645.2492\n",
       "========================================================================\n",
       "\n",
       "\"\"\""
      ]
     },
     "execution_count": 52,
     "metadata": {},
     "output_type": "execute_result"
    }
   ],
   "source": [
    "# Validating the model using the test data set\n",
    "X_test = sm.add_constant(X_test)\n",
    "y_test = pd.DataFrame(y_test)\n",
    "logreg01_test = sm.Logit(y_test, X_test).fit()\n",
    "logreg01_test.summary2()"
   ]
  },
  {
   "cell_type": "code",
   "execution_count": 68,
   "metadata": {},
   "outputs": [
    {
     "ename": "TypeError",
     "evalue": "Expected sequence or array-like, got <class 'statsmodels.discrete.discrete_model.BinaryResultsWrapper'>",
     "output_type": "error",
     "traceback": [
      "\u001b[1;31m---------------------------------------------------------------------------\u001b[0m",
      "\u001b[1;31mTypeError\u001b[0m                                 Traceback (most recent call last)",
      "\u001b[1;32m<ipython-input-68-b0cbe7b86862>\u001b[0m in \u001b[0;36m<module>\u001b[1;34m\u001b[0m\n\u001b[1;32m----> 1\u001b[1;33m \u001b[0mprint\u001b[0m\u001b[1;33m(\u001b[0m\u001b[0maccuracy_score\u001b[0m\u001b[1;33m(\u001b[0m\u001b[0my_test\u001b[0m\u001b[1;33m,\u001b[0m \u001b[0mlogreg01\u001b[0m\u001b[1;33m,\u001b[0m\u001b[0mnormalize\u001b[0m\u001b[1;33m=\u001b[0m\u001b[1;32mFalse\u001b[0m\u001b[1;33m)\u001b[0m\u001b[1;33m)\u001b[0m\u001b[1;33m\u001b[0m\u001b[1;33m\u001b[0m\u001b[0m\n\u001b[0m",
      "\u001b[1;32m~\\Anaconda3\\lib\\site-packages\\sklearn\\metrics\\classification.py\u001b[0m in \u001b[0;36maccuracy_score\u001b[1;34m(y_true, y_pred, normalize, sample_weight)\u001b[0m\n\u001b[0;32m    174\u001b[0m \u001b[1;33m\u001b[0m\u001b[0m\n\u001b[0;32m    175\u001b[0m     \u001b[1;31m# Compute accuracy for each possible representation\u001b[0m\u001b[1;33m\u001b[0m\u001b[1;33m\u001b[0m\u001b[1;33m\u001b[0m\u001b[0m\n\u001b[1;32m--> 176\u001b[1;33m     \u001b[0my_type\u001b[0m\u001b[1;33m,\u001b[0m \u001b[0my_true\u001b[0m\u001b[1;33m,\u001b[0m \u001b[0my_pred\u001b[0m \u001b[1;33m=\u001b[0m \u001b[0m_check_targets\u001b[0m\u001b[1;33m(\u001b[0m\u001b[0my_true\u001b[0m\u001b[1;33m,\u001b[0m \u001b[0my_pred\u001b[0m\u001b[1;33m)\u001b[0m\u001b[1;33m\u001b[0m\u001b[1;33m\u001b[0m\u001b[0m\n\u001b[0m\u001b[0;32m    177\u001b[0m     \u001b[0mcheck_consistent_length\u001b[0m\u001b[1;33m(\u001b[0m\u001b[0my_true\u001b[0m\u001b[1;33m,\u001b[0m \u001b[0my_pred\u001b[0m\u001b[1;33m,\u001b[0m \u001b[0msample_weight\u001b[0m\u001b[1;33m)\u001b[0m\u001b[1;33m\u001b[0m\u001b[1;33m\u001b[0m\u001b[0m\n\u001b[0;32m    178\u001b[0m     \u001b[1;32mif\u001b[0m \u001b[0my_type\u001b[0m\u001b[1;33m.\u001b[0m\u001b[0mstartswith\u001b[0m\u001b[1;33m(\u001b[0m\u001b[1;34m'multilabel'\u001b[0m\u001b[1;33m)\u001b[0m\u001b[1;33m:\u001b[0m\u001b[1;33m\u001b[0m\u001b[1;33m\u001b[0m\u001b[0m\n",
      "\u001b[1;32m~\\Anaconda3\\lib\\site-packages\\sklearn\\metrics\\classification.py\u001b[0m in \u001b[0;36m_check_targets\u001b[1;34m(y_true, y_pred)\u001b[0m\n\u001b[0;32m     69\u001b[0m     \u001b[0my_pred\u001b[0m \u001b[1;33m:\u001b[0m \u001b[0marray\u001b[0m \u001b[1;32mor\u001b[0m \u001b[0mindicator\u001b[0m \u001b[0mmatrix\u001b[0m\u001b[1;33m\u001b[0m\u001b[1;33m\u001b[0m\u001b[0m\n\u001b[0;32m     70\u001b[0m     \"\"\"\n\u001b[1;32m---> 71\u001b[1;33m     \u001b[0mcheck_consistent_length\u001b[0m\u001b[1;33m(\u001b[0m\u001b[0my_true\u001b[0m\u001b[1;33m,\u001b[0m \u001b[0my_pred\u001b[0m\u001b[1;33m)\u001b[0m\u001b[1;33m\u001b[0m\u001b[1;33m\u001b[0m\u001b[0m\n\u001b[0m\u001b[0;32m     72\u001b[0m     \u001b[0mtype_true\u001b[0m \u001b[1;33m=\u001b[0m \u001b[0mtype_of_target\u001b[0m\u001b[1;33m(\u001b[0m\u001b[0my_true\u001b[0m\u001b[1;33m)\u001b[0m\u001b[1;33m\u001b[0m\u001b[1;33m\u001b[0m\u001b[0m\n\u001b[0;32m     73\u001b[0m     \u001b[0mtype_pred\u001b[0m \u001b[1;33m=\u001b[0m \u001b[0mtype_of_target\u001b[0m\u001b[1;33m(\u001b[0m\u001b[0my_pred\u001b[0m\u001b[1;33m)\u001b[0m\u001b[1;33m\u001b[0m\u001b[1;33m\u001b[0m\u001b[0m\n",
      "\u001b[1;32m~\\Anaconda3\\lib\\site-packages\\sklearn\\utils\\validation.py\u001b[0m in \u001b[0;36mcheck_consistent_length\u001b[1;34m(*arrays)\u001b[0m\n\u001b[0;32m    199\u001b[0m     \"\"\"\n\u001b[0;32m    200\u001b[0m \u001b[1;33m\u001b[0m\u001b[0m\n\u001b[1;32m--> 201\u001b[1;33m     \u001b[0mlengths\u001b[0m \u001b[1;33m=\u001b[0m \u001b[1;33m[\u001b[0m\u001b[0m_num_samples\u001b[0m\u001b[1;33m(\u001b[0m\u001b[0mX\u001b[0m\u001b[1;33m)\u001b[0m \u001b[1;32mfor\u001b[0m \u001b[0mX\u001b[0m \u001b[1;32min\u001b[0m \u001b[0marrays\u001b[0m \u001b[1;32mif\u001b[0m \u001b[0mX\u001b[0m \u001b[1;32mis\u001b[0m \u001b[1;32mnot\u001b[0m \u001b[1;32mNone\u001b[0m\u001b[1;33m]\u001b[0m\u001b[1;33m\u001b[0m\u001b[1;33m\u001b[0m\u001b[0m\n\u001b[0m\u001b[0;32m    202\u001b[0m     \u001b[0muniques\u001b[0m \u001b[1;33m=\u001b[0m \u001b[0mnp\u001b[0m\u001b[1;33m.\u001b[0m\u001b[0munique\u001b[0m\u001b[1;33m(\u001b[0m\u001b[0mlengths\u001b[0m\u001b[1;33m)\u001b[0m\u001b[1;33m\u001b[0m\u001b[1;33m\u001b[0m\u001b[0m\n\u001b[0;32m    203\u001b[0m     \u001b[1;32mif\u001b[0m \u001b[0mlen\u001b[0m\u001b[1;33m(\u001b[0m\u001b[0muniques\u001b[0m\u001b[1;33m)\u001b[0m \u001b[1;33m>\u001b[0m \u001b[1;36m1\u001b[0m\u001b[1;33m:\u001b[0m\u001b[1;33m\u001b[0m\u001b[1;33m\u001b[0m\u001b[0m\n",
      "\u001b[1;32m~\\Anaconda3\\lib\\site-packages\\sklearn\\utils\\validation.py\u001b[0m in \u001b[0;36m<listcomp>\u001b[1;34m(.0)\u001b[0m\n\u001b[0;32m    199\u001b[0m     \"\"\"\n\u001b[0;32m    200\u001b[0m \u001b[1;33m\u001b[0m\u001b[0m\n\u001b[1;32m--> 201\u001b[1;33m     \u001b[0mlengths\u001b[0m \u001b[1;33m=\u001b[0m \u001b[1;33m[\u001b[0m\u001b[0m_num_samples\u001b[0m\u001b[1;33m(\u001b[0m\u001b[0mX\u001b[0m\u001b[1;33m)\u001b[0m \u001b[1;32mfor\u001b[0m \u001b[0mX\u001b[0m \u001b[1;32min\u001b[0m \u001b[0marrays\u001b[0m \u001b[1;32mif\u001b[0m \u001b[0mX\u001b[0m \u001b[1;32mis\u001b[0m \u001b[1;32mnot\u001b[0m \u001b[1;32mNone\u001b[0m\u001b[1;33m]\u001b[0m\u001b[1;33m\u001b[0m\u001b[1;33m\u001b[0m\u001b[0m\n\u001b[0m\u001b[0;32m    202\u001b[0m     \u001b[0muniques\u001b[0m \u001b[1;33m=\u001b[0m \u001b[0mnp\u001b[0m\u001b[1;33m.\u001b[0m\u001b[0munique\u001b[0m\u001b[1;33m(\u001b[0m\u001b[0mlengths\u001b[0m\u001b[1;33m)\u001b[0m\u001b[1;33m\u001b[0m\u001b[1;33m\u001b[0m\u001b[0m\n\u001b[0;32m    203\u001b[0m     \u001b[1;32mif\u001b[0m \u001b[0mlen\u001b[0m\u001b[1;33m(\u001b[0m\u001b[0muniques\u001b[0m\u001b[1;33m)\u001b[0m \u001b[1;33m>\u001b[0m \u001b[1;36m1\u001b[0m\u001b[1;33m:\u001b[0m\u001b[1;33m\u001b[0m\u001b[1;33m\u001b[0m\u001b[0m\n",
      "\u001b[1;32m~\\Anaconda3\\lib\\site-packages\\sklearn\\utils\\validation.py\u001b[0m in \u001b[0;36m_num_samples\u001b[1;34m(x)\u001b[0m\n\u001b[0;32m    140\u001b[0m         \u001b[1;32melse\u001b[0m\u001b[1;33m:\u001b[0m\u001b[1;33m\u001b[0m\u001b[1;33m\u001b[0m\u001b[0m\n\u001b[0;32m    141\u001b[0m             raise TypeError(\"Expected sequence or array-like, got %s\" %\n\u001b[1;32m--> 142\u001b[1;33m                             type(x))\n\u001b[0m\u001b[0;32m    143\u001b[0m     \u001b[1;32mif\u001b[0m \u001b[0mhasattr\u001b[0m\u001b[1;33m(\u001b[0m\u001b[0mx\u001b[0m\u001b[1;33m,\u001b[0m \u001b[1;34m'shape'\u001b[0m\u001b[1;33m)\u001b[0m\u001b[1;33m:\u001b[0m\u001b[1;33m\u001b[0m\u001b[1;33m\u001b[0m\u001b[0m\n\u001b[0;32m    144\u001b[0m         \u001b[1;32mif\u001b[0m \u001b[0mlen\u001b[0m\u001b[1;33m(\u001b[0m\u001b[0mx\u001b[0m\u001b[1;33m.\u001b[0m\u001b[0mshape\u001b[0m\u001b[1;33m)\u001b[0m \u001b[1;33m==\u001b[0m \u001b[1;36m0\u001b[0m\u001b[1;33m:\u001b[0m\u001b[1;33m\u001b[0m\u001b[1;33m\u001b[0m\u001b[0m\n",
      "\u001b[1;31mTypeError\u001b[0m: Expected sequence or array-like, got <class 'statsmodels.discrete.discrete_model.BinaryResultsWrapper'>"
     ]
    }
   ],
   "source": [
    "print(accuracy_score(y_test, logreg01,normalize=False))"
   ]
  },
  {
   "cell_type": "markdown",
   "metadata": {},
   "source": [
    "**The estimated Attrition equals negative 1.9477 plus 0.1771 times the Employee satisfaction plus 0.3206 times Salary plus 0.0003 times the Home to Office.**"
   ]
  },
  {
   "cell_type": "markdown",
   "metadata": {},
   "source": [
    "#### Naive Bayes Classifier"
   ]
  },
  {
   "cell_type": "code",
   "execution_count": 35,
   "metadata": {},
   "outputs": [],
   "source": [
    "#Running the Naive Bayes classifier on Attrition based on Satisfaction, Salary, and Home-Office\n",
    "X_Satis_ind = np.array(X_train['Satisfaction'])\n",
    "(X_Satis_ind,X_Satis_ind_dict)=stattools.categorical(X_Satis_ind,drop=True,\n",
    "                                                     dictnames=True)\n",
    "X_Satis_ind = pd.DataFrame(X_Satis_ind)\n",
    "X_Salary_ind = np.array(X_train['Salary'])\n",
    "(X_Salary_ind,X_Salary_ind_dict)=stattools.categorical(X_Salary_ind, \n",
    "                                                       drop=True,dictnames=True)\n",
    "X_Salary_ind = pd.DataFrame(X_Salary_ind)\n",
    "X_HO_ind = np.array(X_train['Home-Office'])\n",
    "(X_HO_ind,X_HO_ind_dict)=stattools.categorical(X_HO_ind,drop=True,\n",
    "                                               dictnames=True)\n",
    "X_HO_ind = pd.DataFrame(X_HO_ind)\n",
    "\n",
    "X = pd.concat((X_Satis_ind,X_Salary_ind,X_HO_ind),axis = 1)\n",
    "Y = y_train['Attrition']\n",
    "nb_01 = MultinomialNB().fit(X,Y)"
   ]
  },
  {
   "cell_type": "code",
   "execution_count": 65,
   "metadata": {},
   "outputs": [
    {
     "data": {
      "text/html": [
       "<div>\n",
       "<style scoped>\n",
       "    .dataframe tbody tr th:only-of-type {\n",
       "        vertical-align: middle;\n",
       "    }\n",
       "\n",
       "    .dataframe tbody tr th {\n",
       "        vertical-align: top;\n",
       "    }\n",
       "\n",
       "    .dataframe thead th {\n",
       "        text-align: right;\n",
       "    }\n",
       "</style>\n",
       "<table border=\"1\" class=\"dataframe\">\n",
       "  <thead>\n",
       "    <tr style=\"text-align: right;\">\n",
       "      <th>Predicted</th>\n",
       "      <th>0</th>\n",
       "      <th>Total</th>\n",
       "    </tr>\n",
       "    <tr>\n",
       "      <th>Actual</th>\n",
       "      <th></th>\n",
       "      <th></th>\n",
       "    </tr>\n",
       "  </thead>\n",
       "  <tbody>\n",
       "    <tr>\n",
       "      <th>0</th>\n",
       "      <td>17</td>\n",
       "      <td>17</td>\n",
       "    </tr>\n",
       "    <tr>\n",
       "      <th>1</th>\n",
       "      <td>3</td>\n",
       "      <td>3</td>\n",
       "    </tr>\n",
       "    <tr>\n",
       "      <th>Total</th>\n",
       "      <td>20</td>\n",
       "      <td>20</td>\n",
       "    </tr>\n",
       "  </tbody>\n",
       "</table>\n",
       "</div>"
      ],
      "text/plain": [
       "Predicted   0  Total\n",
       "Actual              \n",
       "0          17     17\n",
       "1           3      3\n",
       "Total      20     20"
      ]
     },
     "execution_count": 65,
     "metadata": {},
     "output_type": "execute_result"
    }
   ],
   "source": [
    "# Evaluating the Naive Bayes model on the test data set\n",
    "X_Satis_ind_test = np.array(X_test['Satisfaction'])\n",
    "(X_Satis_ind_test,X_Satis_ind_dict_test)=stattools.categorical(X_Satis_ind_test,\n",
    "                                                               drop=True,dictnames=True)\n",
    "X_Satis_ind_test=pd.DataFrame(X_Satis_ind_test)\n",
    "X_Salary_ind_test = np.array(X_test['Salary'])\n",
    "(X_Salary_ind_test,X_Salary_ind_dict_test)=stattools.categorical(X_Salary_ind_test,\n",
    "                                                            drop=True,dictnames=True)\n",
    "X_Salary_ind_test=pd.DataFrame(X_Salary_ind_test)\n",
    "X_HO_ind_test = np.array(X_test['Home-Office'])\n",
    "(X_HO_ind_test,X_HO_ind_dict_test)=stattools.categorical(X_HO_ind_test,\n",
    "                                                         drop=True,dictnames=True)\n",
    "X_HO_ind_test = pd.DataFrame(X_HO_ind_test)\n",
    "\n",
    "X_testing = pd.concat((X_Satis_ind_test,X_Salary_ind_test,X_HO_ind_test),axis=1)\n",
    "Y_predicted = nb_01.predict(X_testing)\n",
    "ypred = pd.crosstab(y_test['Attrition'],Y_predicted,rownames=['Actual'],colnames = ['Predicted'])\n",
    "ypred['Total']=ypred.sum(axis=1);ypred.loc['Total']=ypred.sum();ypred"
   ]
  },
  {
   "cell_type": "code",
   "execution_count": 69,
   "metadata": {},
   "outputs": [
    {
     "name": "stdout",
     "output_type": "stream",
     "text": [
      "Wall time: 26.9 ms\n"
     ]
    },
    {
     "name": "stderr",
     "output_type": "stream",
     "text": [
      "C:\\Users\\mendi\\Anaconda3\\lib\\site-packages\\sklearn\\utils\\validation.py:724: DataConversionWarning: A column-vector y was passed when a 1d array was expected. Please change the shape of y to (n_samples, ), for example using ravel().\n",
      "  y = column_or_1d(y, warn=True)\n"
     ]
    },
    {
     "data": {
      "text/plain": [
       "MultinomialNB(alpha=1.0, class_prior=None, fit_prior=True)"
      ]
     },
     "execution_count": 69,
     "metadata": {},
     "output_type": "execute_result"
    }
   ],
   "source": [
    "%time MultinomialNB().fit(X_train_rebal,y_train_rebal)"
   ]
  },
  {
   "cell_type": "code",
   "execution_count": 70,
   "metadata": {},
   "outputs": [
    {
     "data": {
      "text/plain": [
       "0.85"
      ]
     },
     "execution_count": 70,
     "metadata": {},
     "output_type": "execute_result"
    }
   ],
   "source": [
    "#Calculating the accuracy of the predictions\n",
    "ypred=nb_01.predict(X_testing)\n",
    "metrics.accuracy_score(y_test,ypred)"
   ]
  },
  {
   "cell_type": "code",
   "execution_count": 71,
   "metadata": {},
   "outputs": [
    {
     "data": {
      "text/plain": [
       "array([[17,  0],\n",
       "       [ 3,  0]], dtype=int64)"
      ]
     },
     "execution_count": 71,
     "metadata": {},
     "output_type": "execute_result"
    }
   ],
   "source": [
    "metrics.confusion_matrix(y_test,ypred)"
   ]
  },
  {
   "cell_type": "markdown",
   "metadata": {},
   "source": [
    "#### Confusion Matrix\n",
    "[TN FP\n",
    "\n",
    " FN TP]"
   ]
  },
  {
   "cell_type": "markdown",
   "metadata": {},
   "source": [
    "#### Random Forest Classifier"
   ]
  },
  {
   "cell_type": "code",
   "execution_count": 165,
   "metadata": {},
   "outputs": [
    {
     "data": {
      "text/plain": [
       "array([0, 0, 0, 1, 0, 0, 0, 0, 0, 0, 0, 0, 0, 0, 0, 0, 0, 0, 0, 0, 0, 0,\n",
       "       0, 0, 0, 0, 1, 0, 0, 0, 1, 0, 1, 0, 0, 0, 1, 0, 0, 0, 0, 0, 0, 0,\n",
       "       0, 1, 0, 0, 0, 0, 0, 0, 0, 0, 1, 0, 0, 0, 0, 0, 0, 1, 0, 0, 0, 0,\n",
       "       0, 0, 1, 0, 1, 1, 0, 0, 1, 0, 0, 1, 0, 1, 1, 1, 1])"
      ]
     },
     "execution_count": 165,
     "metadata": {},
     "output_type": "execute_result"
    }
   ],
   "source": [
    "# Random Forest requires a response variable formatted as a one-dimensional\n",
    "# array, so that we use numpy's ravel() command to create that format\n",
    "rfy = np.ravel(y_train_rebal)\n",
    "rfy"
   ]
  },
  {
   "cell_type": "code",
   "execution_count": 166,
   "metadata": {},
   "outputs": [],
   "source": [
    "# Use the RandomForestClassifier() command to create the random forest\n",
    "rf01 = RandomForestClassifier(n_estimators = 100, criterion = \"gini\").fit(X_train_rebal,rfy)\n",
    "# n_estimators input specifies the number of trees to be built"
   ]
  },
  {
   "cell_type": "code",
   "execution_count": 167,
   "metadata": {},
   "outputs": [
    {
     "data": {
      "text/plain": [
       "array([0, 0, 0, 0, 0, 0, 0, 0, 0, 0, 0, 0, 0, 0, 0, 0, 0, 0, 0, 0, 0, 0,\n",
       "       0, 0, 0, 0, 0, 0, 0, 0, 0, 0, 0, 0, 0, 0, 0, 0, 0, 0, 0, 0, 0, 0,\n",
       "       0, 0, 0, 0, 0, 0, 0, 0, 0, 0, 0, 0, 0, 0, 0, 0, 0, 0, 0, 0, 0, 0,\n",
       "       0, 0, 0, 0, 0, 0, 0, 0, 1, 0, 0, 1, 0, 0, 0, 0, 0])"
      ]
     },
     "execution_count": 167,
     "metadata": {},
     "output_type": "execute_result"
    }
   ],
   "source": [
    "# To review the classification made on training data set\n",
    "rf_train = rf01.predict(X_train_rebal)\n",
    "rf_train"
   ]
  },
  {
   "cell_type": "code",
   "execution_count": 168,
   "metadata": {},
   "outputs": [
    {
     "data": {
      "text/plain": [
       "0    0.975904\n",
       "1    0.024096\n",
       "Name: 0, dtype: float64"
      ]
     },
     "execution_count": 168,
     "metadata": {},
     "output_type": "execute_result"
    }
   ],
   "source": [
    "rf_train = pd.DataFrame(rf_train)\n",
    "rf_train[0].value_counts()/len(rf_train)"
   ]
  },
  {
   "cell_type": "code",
   "execution_count": 169,
   "metadata": {},
   "outputs": [
    {
     "data": {
      "text/plain": [
       "array([1, 0, 0, 1, 0, 1, 0, 1, 0, 0, 0, 0, 0, 0, 0, 0, 0, 0, 0, 0])"
      ]
     },
     "execution_count": 169,
     "metadata": {},
     "output_type": "execute_result"
    }
   ],
   "source": [
    "# Validate the model using the test data set. \n",
    "\n",
    "# Random Forest requires a response variable formatted as a one-dimensional\n",
    "# array, so that we use numpy's ravel() command to create that format\n",
    "rfy_test = np.ravel(y_test)\n",
    "rfy_test"
   ]
  },
  {
   "cell_type": "code",
   "execution_count": 170,
   "metadata": {},
   "outputs": [],
   "source": [
    "# Use the RandomForestClassifier() command to create the random forest\n",
    "rf01_test = RandomForestClassifier(n_estimators = 100, criterion = \"gini\").fit(X_test,rfy_test)\n",
    "# n_estimators input specifies the number of trees to be built"
   ]
  },
  {
   "cell_type": "code",
   "execution_count": 171,
   "metadata": {},
   "outputs": [
    {
     "data": {
      "text/plain": [
       "array([1, 0, 0, 1, 0, 0, 0, 0, 0, 0, 0, 0, 0, 0, 0, 0, 0, 0, 0, 0])"
      ]
     },
     "execution_count": 171,
     "metadata": {},
     "output_type": "execute_result"
    }
   ],
   "source": [
    "# To review the classification made on test data set\n",
    "rf_test = rf01_test.predict(X_test)\n",
    "rf_test"
   ]
  },
  {
   "cell_type": "code",
   "execution_count": 172,
   "metadata": {},
   "outputs": [
    {
     "data": {
      "text/plain": [
       "0    0.9\n",
       "1    0.1\n",
       "Name: 0, dtype: float64"
      ]
     },
     "execution_count": 172,
     "metadata": {},
     "output_type": "execute_result"
    }
   ],
   "source": [
    "rf_test = pd.DataFrame(rf_test)\n",
    "rf_test[0].value_counts()/len(rf_test)"
   ]
  },
  {
   "cell_type": "markdown",
   "metadata": {},
   "source": [
    "**Both models classify the data as ~90% as no attrition and ~10% as yes attrition.**"
   ]
  },
  {
   "cell_type": "code",
   "execution_count": 173,
   "metadata": {},
   "outputs": [
    {
     "data": {
      "text/plain": [
       "0.9"
      ]
     },
     "execution_count": 173,
     "metadata": {},
     "output_type": "execute_result"
    }
   ],
   "source": [
    "# Accuracy of Random Forest model\n",
    "metrics.accuracy_score(y_test.array, rf_test)"
   ]
  },
  {
   "cell_type": "code",
   "execution_count": 174,
   "metadata": {},
   "outputs": [
    {
     "data": {
      "text/html": [
       "<div>\n",
       "<style scoped>\n",
       "    .dataframe tbody tr th:only-of-type {\n",
       "        vertical-align: middle;\n",
       "    }\n",
       "\n",
       "    .dataframe tbody tr th {\n",
       "        vertical-align: top;\n",
       "    }\n",
       "\n",
       "    .dataframe thead th {\n",
       "        text-align: right;\n",
       "    }\n",
       "</style>\n",
       "<table border=\"1\" class=\"dataframe\">\n",
       "  <thead>\n",
       "    <tr style=\"text-align: right;\">\n",
       "      <th></th>\n",
       "      <th>0</th>\n",
       "      <th>1</th>\n",
       "    </tr>\n",
       "  </thead>\n",
       "  <tbody>\n",
       "    <tr>\n",
       "      <th>0</th>\n",
       "      <td>16</td>\n",
       "      <td>0</td>\n",
       "    </tr>\n",
       "    <tr>\n",
       "      <th>1</th>\n",
       "      <td>2</td>\n",
       "      <td>2</td>\n",
       "    </tr>\n",
       "  </tbody>\n",
       "</table>\n",
       "</div>"
      ],
      "text/plain": [
       "    0  1\n",
       "0  16  0\n",
       "1   2  2"
      ]
     },
     "execution_count": 174,
     "metadata": {},
     "output_type": "execute_result"
    }
   ],
   "source": [
    "# Generate the confusion matrix\n",
    "con_table_rf = metrics.confusion_matrix(y_test.array, rf_test)\n",
    "pd.DataFrame(con_table_rf)"
   ]
  },
  {
   "cell_type": "code",
   "execution_count": 175,
   "metadata": {},
   "outputs": [
    {
     "name": "stdout",
     "output_type": "stream",
     "text": [
      "              precision    recall  f1-score   support\n",
      "\n",
      "           0       0.89      1.00      0.94        16\n",
      "           1       1.00      0.50      0.67         4\n",
      "\n",
      "    accuracy                           0.90        20\n",
      "   macro avg       0.94      0.75      0.80        20\n",
      "weighted avg       0.91      0.90      0.89        20\n",
      "\n"
     ]
    }
   ],
   "source": [
    "# Evaluation of the Random Forest Model\n",
    "print(classification_report(y_test.array, rf_test))"
   ]
  },
  {
   "cell_type": "code",
   "execution_count": 176,
   "metadata": {},
   "outputs": [
    {
     "name": "stdout",
     "output_type": "stream",
     "text": [
      "TN:  16 \n",
      "FP:  0 \n",
      "FN:  2 \n",
      "TP:  2 \n",
      "GT:  20\n"
     ]
    }
   ],
   "source": [
    "# Intepreting the confusion matrix table for further analysis\n",
    "TN_rf = con_table_rf[0][0]\n",
    "FP_rf = con_table_rf[0][1]\n",
    "FN_rf = con_table_rf[1][0]\n",
    "TP_rf = con_table_rf[1][1]\n",
    "GT_rf = 16+0+4+0\n",
    "print('TN: ', TN_rf,\n",
    "'\\nFP: ', FP_rf,\n",
    "'\\nFN: ', FN_rf,\n",
    "'\\nTP: ', TP_rf,\n",
    "'\\nGT: ', GT_rf)"
   ]
  },
  {
   "cell_type": "code",
   "execution_count": 177,
   "metadata": {},
   "outputs": [
    {
     "name": "stdout",
     "output_type": "stream",
     "text": [
      "Accuracy = (TN + TP)/GT =  0.9 \n",
      "Error Rate = 1 - Accuracy =  0.1 \n",
      "Sensitivity = TP / TAP =  0.5 \n",
      "Specificity = TN / TAN =  1.0\n"
     ]
    }
   ],
   "source": [
    "# Model Evaluation Measure\n",
    "Accuracy_rf = round((TN_rf + TP_rf)/GT_rf, 4)\n",
    "ErrorRate_rf = round(1 - Accuracy_rf, 4)\n",
    "Sensitivity_rf = round(TP_rf / (FN_rf + TP_rf), 4)\n",
    "Specificity_rf = round(TN_rf / (TN_rf + FP_rf), 4)\n",
    "Precision_rf = round(TP_rf / (FP_rf + TP_rf), 4)\n",
    "\n",
    "print('Accuracy = (TN + TP)/GT = ', Accuracy_rf,\n",
    "'\\nError Rate = 1 - Accuracy = ', ErrorRate_rf,\n",
    "'\\nSensitivity = TP / TAP = ', Sensitivity_rf,\n",
    "'\\nSpecificity = TN / TAN = ', Specificity_rf)"
   ]
  }
 ],
 "metadata": {
  "kernelspec": {
   "display_name": "Python 3",
   "language": "python",
   "name": "python3"
  },
  "language_info": {
   "codemirror_mode": {
    "name": "ipython",
    "version": 3
   },
   "file_extension": ".py",
   "mimetype": "text/x-python",
   "name": "python",
   "nbconvert_exporter": "python",
   "pygments_lexer": "ipython3",
   "version": "3.7.3"
  }
 },
 "nbformat": 4,
 "nbformat_minor": 2
}
