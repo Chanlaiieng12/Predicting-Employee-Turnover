{
 "cells": [
  {
   "cell_type": "markdown",
   "metadata": {},
   "source": [
    "### Final Team Project: Predicting Employee Turnover\n",
    "#### Authors: Lai Ieng Chan, Kyle Esteban Dalope, Mendelina Renee Lopez"
   ]
  },
  {
   "cell_type": "code",
   "execution_count": 1,
   "metadata": {},
   "outputs": [],
   "source": [
    "# Importing all packages and libraries\n",
    "\n",
    "import pandas as pd\n",
    "import numpy as np\n",
    "import matplotlib.pyplot as plt\n",
    "import statsmodels.api as sm\n",
    "import statsmodels.stats.outliers_influence as inf\n",
    "from sklearn import preprocessing\n",
    "from sklearn.preprocessing import MinMaxScaler\n",
    "import seaborn as sns\n",
    "\n",
    "# For Decision Trees\n",
    "import statsmodels.tools.tools as stattools \n",
    "from sklearn import tree\n",
    "from sklearn.tree import DecisionTreeClassifier, export_graphviz\n",
    "\n",
    "# For Logistic Regression model\n",
    "from sklearn import linear_model\n",
    "from sklearn.metrics import mean_absolute_error, r2_score, mean_squared_error\n",
    "from scipy import stats\n",
    "\n",
    "# For Partitioning the data\n",
    "from sklearn.model_selection import train_test_split\n",
    "import random\n",
    "\n",
    "# For Naive Bayes\n",
    "from sklearn.naive_bayes import MultinomialNB\n",
    "from sklearn import metrics\n",
    "\n",
    "# For Random Forest\n",
    "from sklearn.ensemble import RandomForestClassifier"
   ]
  },
  {
   "cell_type": "markdown",
   "metadata": {},
   "source": [
    "### Data Importing and Preprocessing"
   ]
  },
  {
   "cell_type": "code",
   "execution_count": 3,
   "metadata": {},
   "outputs": [
    {
     "data": {
      "text/html": [
       "<div>\n",
       "<style scoped>\n",
       "    .dataframe tbody tr th:only-of-type {\n",
       "        vertical-align: middle;\n",
       "    }\n",
       "\n",
       "    .dataframe tbody tr th {\n",
       "        vertical-align: top;\n",
       "    }\n",
       "\n",
       "    .dataframe thead th {\n",
       "        text-align: right;\n",
       "    }\n",
       "</style>\n",
       "<table border=\"1\" class=\"dataframe\">\n",
       "  <thead>\n",
       "    <tr style=\"text-align: right;\">\n",
       "      <th></th>\n",
       "      <th>Gender</th>\n",
       "      <th>Satisfaction</th>\n",
       "      <th>Business Travel</th>\n",
       "      <th>Department</th>\n",
       "      <th>EducationField</th>\n",
       "      <th>Salary</th>\n",
       "      <th>Home-Office</th>\n",
       "      <th>Attrition</th>\n",
       "    </tr>\n",
       "  </thead>\n",
       "  <tbody>\n",
       "    <tr>\n",
       "      <th>0</th>\n",
       "      <td>Female</td>\n",
       "      <td>High</td>\n",
       "      <td>Rare</td>\n",
       "      <td>Sales</td>\n",
       "      <td>Engineering</td>\n",
       "      <td>Medium</td>\n",
       "      <td>Near</td>\n",
       "      <td>Yes</td>\n",
       "    </tr>\n",
       "    <tr>\n",
       "      <th>1</th>\n",
       "      <td>Male</td>\n",
       "      <td>Low</td>\n",
       "      <td>Frequent</td>\n",
       "      <td>Sales</td>\n",
       "      <td>Engineering</td>\n",
       "      <td>Low</td>\n",
       "      <td>Near</td>\n",
       "      <td>Yes</td>\n",
       "    </tr>\n",
       "    <tr>\n",
       "      <th>2</th>\n",
       "      <td>Male</td>\n",
       "      <td>Medium</td>\n",
       "      <td>Rare</td>\n",
       "      <td>R&amp;D</td>\n",
       "      <td>Other</td>\n",
       "      <td>Medium</td>\n",
       "      <td>Far</td>\n",
       "      <td>No</td>\n",
       "    </tr>\n",
       "    <tr>\n",
       "      <th>3</th>\n",
       "      <td>Female</td>\n",
       "      <td>Low</td>\n",
       "      <td>Frequent</td>\n",
       "      <td>R&amp;D</td>\n",
       "      <td>Engineering</td>\n",
       "      <td>Medium</td>\n",
       "      <td>Far</td>\n",
       "      <td>Yes</td>\n",
       "    </tr>\n",
       "    <tr>\n",
       "      <th>4</th>\n",
       "      <td>Male</td>\n",
       "      <td>Medium</td>\n",
       "      <td>Rare</td>\n",
       "      <td>R&amp;D</td>\n",
       "      <td>Medical</td>\n",
       "      <td>Medium</td>\n",
       "      <td>Far</td>\n",
       "      <td>No</td>\n",
       "    </tr>\n",
       "  </tbody>\n",
       "</table>\n",
       "</div>"
      ],
      "text/plain": [
       "   Gender Satisfaction Business Travel Department EducationField  Salary  \\\n",
       "0  Female         High            Rare      Sales    Engineering  Medium   \n",
       "1    Male          Low        Frequent      Sales    Engineering     Low   \n",
       "2    Male       Medium            Rare        R&D          Other  Medium   \n",
       "3  Female          Low        Frequent        R&D    Engineering  Medium   \n",
       "4    Male       Medium            Rare        R&D        Medical  Medium   \n",
       "\n",
       "  Home-Office Attrition  \n",
       "0        Near       Yes  \n",
       "1        Near       Yes  \n",
       "2         Far        No  \n",
       "3         Far       Yes  \n",
       "4         Far        No  "
      ]
     },
     "execution_count": 3,
     "metadata": {},
     "output_type": "execute_result"
    }
   ],
   "source": [
    "EmployeeData = pd.read_csv(\"C:\\\\Users\\\\annie\\\\ADS 502 Applied Data Mining\\\\Employee Data.csv\")\n",
    "EmployeeData.head(5)"
   ]
  },
  {
   "cell_type": "code",
   "execution_count": 4,
   "metadata": {},
   "outputs": [
    {
     "data": {
      "text/plain": [
       "(100, 8)"
      ]
     },
     "execution_count": 4,
     "metadata": {},
     "output_type": "execute_result"
    }
   ],
   "source": [
    "# Dataframe Dimension\n",
    "EmployeeData.shape"
   ]
  },
  {
   "cell_type": "code",
   "execution_count": 5,
   "metadata": {},
   "outputs": [
    {
     "data": {
      "text/html": [
       "<div>\n",
       "<style scoped>\n",
       "    .dataframe tbody tr th:only-of-type {\n",
       "        vertical-align: middle;\n",
       "    }\n",
       "\n",
       "    .dataframe tbody tr th {\n",
       "        vertical-align: top;\n",
       "    }\n",
       "\n",
       "    .dataframe thead th {\n",
       "        text-align: right;\n",
       "    }\n",
       "</style>\n",
       "<table border=\"1\" class=\"dataframe\">\n",
       "  <thead>\n",
       "    <tr style=\"text-align: right;\">\n",
       "      <th></th>\n",
       "      <th>Gender</th>\n",
       "      <th>Satisfaction</th>\n",
       "      <th>Business Travel</th>\n",
       "      <th>Department</th>\n",
       "      <th>EducationField</th>\n",
       "      <th>Salary</th>\n",
       "      <th>Home-Office</th>\n",
       "      <th>Attrition</th>\n",
       "    </tr>\n",
       "  </thead>\n",
       "  <tbody>\n",
       "    <tr>\n",
       "      <th>count</th>\n",
       "      <td>100</td>\n",
       "      <td>100</td>\n",
       "      <td>100</td>\n",
       "      <td>100</td>\n",
       "      <td>100</td>\n",
       "      <td>100</td>\n",
       "      <td>100</td>\n",
       "      <td>100</td>\n",
       "    </tr>\n",
       "    <tr>\n",
       "      <th>unique</th>\n",
       "      <td>2</td>\n",
       "      <td>3</td>\n",
       "      <td>3</td>\n",
       "      <td>2</td>\n",
       "      <td>5</td>\n",
       "      <td>3</td>\n",
       "      <td>2</td>\n",
       "      <td>2</td>\n",
       "    </tr>\n",
       "    <tr>\n",
       "      <th>top</th>\n",
       "      <td>Male</td>\n",
       "      <td>High</td>\n",
       "      <td>Rare</td>\n",
       "      <td>R&amp;D</td>\n",
       "      <td>Engineering</td>\n",
       "      <td>High</td>\n",
       "      <td>Near</td>\n",
       "      <td>No</td>\n",
       "    </tr>\n",
       "    <tr>\n",
       "      <th>freq</th>\n",
       "      <td>65</td>\n",
       "      <td>47</td>\n",
       "      <td>76</td>\n",
       "      <td>71</td>\n",
       "      <td>44</td>\n",
       "      <td>42</td>\n",
       "      <td>67</td>\n",
       "      <td>82</td>\n",
       "    </tr>\n",
       "  </tbody>\n",
       "</table>\n",
       "</div>"
      ],
      "text/plain": [
       "       Gender Satisfaction Business Travel Department EducationField Salary  \\\n",
       "count     100          100             100        100            100    100   \n",
       "unique      2            3               3          2              5      3   \n",
       "top      Male         High            Rare        R&D    Engineering   High   \n",
       "freq       65           47              76         71             44     42   \n",
       "\n",
       "       Home-Office Attrition  \n",
       "count          100       100  \n",
       "unique           2         2  \n",
       "top           Near        No  \n",
       "freq            67        82  "
      ]
     },
     "execution_count": 5,
     "metadata": {},
     "output_type": "execute_result"
    }
   ],
   "source": [
    "# Descriptive statistics on the dataset\n",
    "EmployeeData.describe()"
   ]
  },
  {
   "cell_type": "code",
   "execution_count": 6,
   "metadata": {},
   "outputs": [
    {
     "name": "stdout",
     "output_type": "stream",
     "text": [
      "<class 'pandas.core.frame.DataFrame'>\n",
      "RangeIndex: 100 entries, 0 to 99\n",
      "Data columns (total 8 columns):\n",
      " #   Column           Non-Null Count  Dtype \n",
      "---  ------           --------------  ----- \n",
      " 0   Gender           100 non-null    object\n",
      " 1   Satisfaction     100 non-null    object\n",
      " 2   Business Travel  100 non-null    object\n",
      " 3   Department       100 non-null    object\n",
      " 4   EducationField   100 non-null    object\n",
      " 5   Salary           100 non-null    object\n",
      " 6   Home-Office      100 non-null    object\n",
      " 7   Attrition        100 non-null    object\n",
      "dtypes: object(8)\n",
      "memory usage: 6.4+ KB\n"
     ]
    }
   ],
   "source": [
    "# Checking the data type for each variable\n",
    "EmployeeData.info()"
   ]
  },
  {
   "cell_type": "markdown",
   "metadata": {},
   "source": [
    "### Exploratory Data Analysis"
   ]
  },
  {
   "cell_type": "markdown",
   "metadata": {},
   "source": [
    "#### Variable: Employee Satisfaction"
   ]
  },
  {
   "cell_type": "code",
   "execution_count": 6,
   "metadata": {},
   "outputs": [
    {
     "data": {
      "image/png": "[encoded data removed]",
      "text/plain": [
       "<Figure size 432x288 with 1 Axes>"
      ]
     },
     "metadata": {
      "needs_background": "light"
     },
     "output_type": "display_data"
    }
   ],
   "source": [
    "# Bar graph of employee satisfaction\n",
    "sns.countplot(x='Satisfaction',data=EmployeeData)\n",
    "plt.xlabel(\"Employee Satisfaction Level\")\n",
    "plt.ylabel(\"Count\")\n",
    "plt.title(\"Employee Satisfaction\")\n",
    "plt.show()"
   ]
  },
  {
   "cell_type": "code",
   "execution_count": 7,
   "metadata": {},
   "outputs": [
    {
     "data": {
      "image/png": "[encoded data removed]",
      "text/plain": [
       "<Figure size 432x288 with 1 Axes>"
      ]
     },
     "metadata": {
      "needs_background": "light"
     },
     "output_type": "display_data"
    }
   ],
   "source": [
    "# Bar graph of employee satisfaction with overlay of attrition\n",
    "crosstab2 = pd.crosstab(EmployeeData['Satisfaction'],EmployeeData['Attrition'])\n",
    "crosstab2.plot(kind='bar',stacked=True)\n",
    "plt.xlabel(\"Employee Satisfaction Level With Attrition\")\n",
    "plt.ylabel(\"Count\")\n",
    "plt.title(\"Employee Satisfaction\")\n",
    "plt.show()"
   ]
  },
  {
   "cell_type": "code",
   "execution_count": 8,
   "metadata": {},
   "outputs": [
    {
     "data": {
      "image/png": "[encoded data removed]",
      "text/plain": [
       "<Figure size 432x288 with 1 Axes>"
      ]
     },
     "metadata": {
      "needs_background": "light"
     },
     "output_type": "display_data"
    }
   ],
   "source": [
    "# Normalized Bar graph of employee satisfaction with overlay of attrition\n",
    "ctn2 = crosstab2.div(crosstab2.sum(1),axis=0)\n",
    "ctn2.plot(kind='bar',stacked=True)\n",
    "plt.xlabel(\"Employee Satisfaction Level With Attrition\")\n",
    "plt.ylabel(\"Count\")\n",
    "plt.title(\"Employee Satisfaction\")\n",
    "plt.show()"
   ]
  },
  {
   "cell_type": "markdown",
   "metadata": {},
   "source": [
    "**Initial Finding: Normalizing employee satisfaction by our taget (attrition) helps us conclude the preliminary findings that the lower the employee satisfaction rate, the higher the attrition rate. It is also important to note that, there are more employees who have high satisfaction level to the company.**"
   ]
  },
  {
   "cell_type": "markdown",
   "metadata": {},
   "source": [
    "#### Variable: Employee Salary"
   ]
  },
  {
   "cell_type": "code",
   "execution_count": 9,
   "metadata": {},
   "outputs": [
    {
     "data": {
      "image/png": "[encoded data removed]",
      "text/plain": [
       "<Figure size 432x288 with 1 Axes>"
      ]
     },
     "metadata": {
      "needs_background": "light"
     },
     "output_type": "display_data"
    }
   ],
   "source": [
    "# Bar graph of employee salary\n",
    "sns.countplot(x='Salary',data=EmployeeData)\n",
    "plt.xlabel(\"Employee Salary Level\")\n",
    "plt.ylabel(\"Count\")\n",
    "plt.title(\"Employee Salary\")\n",
    "plt.show()"
   ]
  },
  {
   "cell_type": "code",
   "execution_count": 10,
   "metadata": {},
   "outputs": [
    {
     "data": {
      "image/png": "[encoded data removed]",
      "text/plain": [
       "<Figure size 432x288 with 1 Axes>"
      ]
     },
     "metadata": {
      "needs_background": "light"
     },
     "output_type": "display_data"
    }
   ],
   "source": [
    "# Bar graph of employee salary with overlay of attrition\n",
    "crosstab6 = pd.crosstab(EmployeeData['Salary'],EmployeeData['Attrition'])\n",
    "crosstab6.plot(kind='bar',stacked=True)\n",
    "plt.xlabel(\"Employee Salary Level With Attrition\")\n",
    "plt.ylabel(\"Count\")\n",
    "plt.title(\"Employee Salary\")\n",
    "plt.show()"
   ]
  },
  {
   "cell_type": "code",
   "execution_count": 11,
   "metadata": {},
   "outputs": [
    {
     "data": {
      "image/png": "[encoded data removed]",
      "text/plain": [
       "<Figure size 432x288 with 1 Axes>"
      ]
     },
     "metadata": {
      "needs_background": "light"
     },
     "output_type": "display_data"
    }
   ],
   "source": [
    "# Normalized Bar graph of employee salary with overlay of attrition\n",
    "ctn6 = crosstab6.div(crosstab6.sum(1),axis=0)\n",
    "ctn6.plot(kind='bar',stacked=True)\n",
    "plt.xlabel(\"Employee Salary Level With Attrition\")\n",
    "plt.ylabel(\"Count\")\n",
    "plt.title(\"Employee Salary\")\n",
    "plt.show()"
   ]
  },
  {
   "cell_type": "markdown",
   "metadata": {},
   "source": [
    "**Initial Finding: It is apparent that those with lower salary have a higher attrition rate. Furthermore, those with higher salaries had a lower rate of attrition.**"
   ]
  },
  {
   "cell_type": "markdown",
   "metadata": {},
   "source": [
    "#### Variable: Home-Office"
   ]
  },
  {
   "cell_type": "code",
   "execution_count": 12,
   "metadata": {},
   "outputs": [
    {
     "data": {
      "image/png": "[encoded data removed]",
      "text/plain": [
       "<Figure size 432x288 with 1 Axes>"
      ]
     },
     "metadata": {
      "needs_background": "light"
     },
     "output_type": "display_data"
    }
   ],
   "source": [
    "# Bar graph of office-home distance\n",
    "sns.countplot(x='Home-Office',data=EmployeeData)\n",
    "plt.xlabel(\"Office-home Distance\")\n",
    "plt.ylabel(\"Count\")\n",
    "plt.title(\"Office-home Distance\")\n",
    "plt.show()"
   ]
  },
  {
   "cell_type": "code",
   "execution_count": 13,
   "metadata": {
    "scrolled": true
   },
   "outputs": [
    {
     "data": {
      "image/png": "[encoded data removed]",
      "text/plain": [
       "<Figure size 432x288 with 1 Axes>"
      ]
     },
     "metadata": {
      "needs_background": "light"
     },
     "output_type": "display_data"
    }
   ],
   "source": [
    "# Bar graph of office-home distance with overlay of attrition\n",
    "crosstab7 = pd.crosstab(EmployeeData['Home-Office'],EmployeeData['Attrition'])\n",
    "crosstab7.plot(kind='bar',stacked=True)\n",
    "plt.xlabel(\"Office-Home Distance With Attrition\")\n",
    "plt.ylabel(\"Count\")\n",
    "plt.title(\"Office-Home Distance\")\n",
    "plt.show()"
   ]
  },
  {
   "cell_type": "code",
   "execution_count": 14,
   "metadata": {},
   "outputs": [
    {
     "data": {
      "image/png": "[encoded data removed]",
      "text/plain": [
       "<Figure size 432x288 with 1 Axes>"
      ]
     },
     "metadata": {
      "needs_background": "light"
     },
     "output_type": "display_data"
    }
   ],
   "source": [
    "# Normalized Bar graph of office-home distance with overlay of attrition\n",
    "ctn7 = crosstab7.div(crosstab7.sum(1),axis=0)\n",
    "ctn7.plot(kind='bar',stacked=True)\n",
    "plt.xlabel(\"Office-Home Distance With Attrition\")\n",
    "plt.ylabel(\"Count\")\n",
    "plt.title(\"Office-Home Distance\")\n",
    "plt.show()"
   ]
  },
  {
   "cell_type": "markdown",
   "metadata": {},
   "source": [
    "**Initial Finding: Normalizing home-office distance by our taget (attrition) helps us conclude the preliminary findings that those living closer to their job have a higher rate of attrition. It is also apparent however, that there is not a great contrast between the level of attrition and whether an individual lived near or far from their work.**"
   ]
  },
  {
   "cell_type": "markdown",
   "metadata": {},
   "source": [
    "### Data Preparation & Cleaning"
   ]
  },
  {
   "cell_type": "markdown",
   "metadata": {},
   "source": [
    "#### Checking for missing variables"
   ]
  },
  {
   "cell_type": "code",
   "execution_count": 7,
   "metadata": {},
   "outputs": [
    {
     "data": {
      "text/plain": [
       "Gender             0\n",
       "Satisfaction       0\n",
       "Business Travel    0\n",
       "Department         0\n",
       "EducationField     0\n",
       "Salary             0\n",
       "Home-Office        0\n",
       "Attrition          0\n",
       "dtype: int64"
      ]
     },
     "execution_count": 7,
     "metadata": {},
     "output_type": "execute_result"
    }
   ],
   "source": [
    "# Checking for missing values\n",
    "EmployeeData.isna().sum()"
   ]
  },
  {
   "cell_type": "markdown",
   "metadata": {},
   "source": [
    "**We can see that there is no missing values in this dataset.**"
   ]
  },
  {
   "cell_type": "markdown",
   "metadata": {},
   "source": [
    "#### Converting categorical variable to dummy variables"
   ]
  },
  {
   "cell_type": "code",
   "execution_count": 8,
   "metadata": {
    "scrolled": true
   },
   "outputs": [
    {
     "data": {
      "text/html": [
       "<div>\n",
       "<style scoped>\n",
       "    .dataframe tbody tr th:only-of-type {\n",
       "        vertical-align: middle;\n",
       "    }\n",
       "\n",
       "    .dataframe tbody tr th {\n",
       "        vertical-align: top;\n",
       "    }\n",
       "\n",
       "    .dataframe thead th {\n",
       "        text-align: right;\n",
       "    }\n",
       "</style>\n",
       "<table border=\"1\" class=\"dataframe\">\n",
       "  <thead>\n",
       "    <tr style=\"text-align: right;\">\n",
       "      <th></th>\n",
       "      <th>Gender</th>\n",
       "      <th>Satisfaction</th>\n",
       "      <th>Business Travel</th>\n",
       "      <th>Department</th>\n",
       "      <th>EducationField</th>\n",
       "      <th>Salary</th>\n",
       "      <th>Home-Office</th>\n",
       "      <th>Attrition</th>\n",
       "    </tr>\n",
       "  </thead>\n",
       "  <tbody>\n",
       "    <tr>\n",
       "      <th>0</th>\n",
       "      <td>0</td>\n",
       "      <td>0</td>\n",
       "      <td>2</td>\n",
       "      <td>1</td>\n",
       "      <td>0</td>\n",
       "      <td>2</td>\n",
       "      <td>1</td>\n",
       "      <td>1</td>\n",
       "    </tr>\n",
       "    <tr>\n",
       "      <th>1</th>\n",
       "      <td>1</td>\n",
       "      <td>1</td>\n",
       "      <td>0</td>\n",
       "      <td>1</td>\n",
       "      <td>0</td>\n",
       "      <td>1</td>\n",
       "      <td>1</td>\n",
       "      <td>1</td>\n",
       "    </tr>\n",
       "    <tr>\n",
       "      <th>2</th>\n",
       "      <td>1</td>\n",
       "      <td>2</td>\n",
       "      <td>2</td>\n",
       "      <td>0</td>\n",
       "      <td>3</td>\n",
       "      <td>2</td>\n",
       "      <td>0</td>\n",
       "      <td>0</td>\n",
       "    </tr>\n",
       "    <tr>\n",
       "      <th>3</th>\n",
       "      <td>0</td>\n",
       "      <td>1</td>\n",
       "      <td>0</td>\n",
       "      <td>0</td>\n",
       "      <td>0</td>\n",
       "      <td>2</td>\n",
       "      <td>0</td>\n",
       "      <td>1</td>\n",
       "    </tr>\n",
       "    <tr>\n",
       "      <th>4</th>\n",
       "      <td>1</td>\n",
       "      <td>2</td>\n",
       "      <td>2</td>\n",
       "      <td>0</td>\n",
       "      <td>2</td>\n",
       "      <td>2</td>\n",
       "      <td>0</td>\n",
       "      <td>0</td>\n",
       "    </tr>\n",
       "  </tbody>\n",
       "</table>\n",
       "</div>"
      ],
      "text/plain": [
       "   Gender  Satisfaction  Business Travel  Department  EducationField  Salary  \\\n",
       "0       0             0                2           1               0       2   \n",
       "1       1             1                0           1               0       1   \n",
       "2       1             2                2           0               3       2   \n",
       "3       0             1                0           0               0       2   \n",
       "4       1             2                2           0               2       2   \n",
       "\n",
       "   Home-Office  Attrition  \n",
       "0            1          1  \n",
       "1            1          1  \n",
       "2            0          0  \n",
       "3            0          1  \n",
       "4            0          0  "
      ]
     },
     "execution_count": 8,
     "metadata": {},
     "output_type": "execute_result"
    }
   ],
   "source": [
    "# Creating a dataframe for the data we will be working on\n",
    "data = pd.DataFrame(EmployeeData)\n",
    "\n",
    "# Converting categorical variables into dummy variables for the ML models\n",
    "le = preprocessing.LabelEncoder()\n",
    "data = data.apply(le.fit_transform)\n",
    "data.head(5)"
   ]
  },
  {
   "cell_type": "markdown",
   "metadata": {},
   "source": [
    "#### Splitting the dataset to training set and test set"
   ]
  },
  {
   "cell_type": "code",
   "execution_count": 9,
   "metadata": {},
   "outputs": [],
   "source": [
    "# Subset the predictor variables to X\n",
    "X = data[['Satisfaction','Salary','Home-Office']]\n",
    "\n",
    "# Subset the response variable to y\n",
    "y = data[['Attrition']]"
   ]
  },
  {
   "cell_type": "code",
   "execution_count": 10,
   "metadata": {},
   "outputs": [],
   "source": [
    "# Parition the data set with the test size = 0.20\n",
    "X_train, X_test, y_train, y_test = train_test_split(X, y, test_size=0.2)"
   ]
  },
  {
   "cell_type": "code",
   "execution_count": 11,
   "metadata": {},
   "outputs": [
    {
     "data": {
      "text/plain": [
       "<AxesSubplot:xlabel='Partition'>"
      ]
     },
     "execution_count": 11,
     "metadata": {},
     "output_type": "execute_result"
    },
    {
     "data": {
      "image/png": "[encoded data removed]",
      "text/plain": [
       "<Figure size 432x288 with 1 Axes>"
      ]
     },
     "metadata": {
      "needs_background": "light"
     },
     "output_type": "display_data"
    }
   ],
   "source": [
    "# Collect proportion values in a dataframe\n",
    "df = pd.DataFrame({'Partition':['Train','Test'],\n",
    "                  'Portion':[(X_train.shape[0]/X.shape[0]),\n",
    "                            (X_test.shape[0]/X.shape[0])]\n",
    "                  })\n",
    "\n",
    "# Create barplot\n",
    "df.set_index('Partition').plot(kind='bar')"
   ]
  },
  {
   "cell_type": "markdown",
   "metadata": {},
   "source": [
    "#### Balancing the target variable (Attrition) in the Training set"
   ]
  },
  {
   "cell_type": "code",
   "execution_count": 12,
   "metadata": {},
   "outputs": [
    {
     "name": "stdout",
     "output_type": "stream",
     "text": [
      "The total number of records in the training dataset is 80\n",
      "There are 14 records in the training dataset that have a attrition class of Yes.\n"
     ]
    }
   ],
   "source": [
    "# Idnentify the total number of records in the training dataset\n",
    "print('The total number of records in the training dataset is', y_train.shape[0])\n",
    "\n",
    "# Identify how many records in the training dataset that has attrition = yes\n",
    "print('There are', y_train.loc[y_train['Attrition']==1].shape[0], \n",
    "      'records in the training dataset that have a attrition class of Yes.')"
   ]
  },
  {
   "cell_type": "markdown",
   "metadata": {},
   "source": [
    "**That is about 17.5% of the training dataset with Attrition have the 'Yes' response value. To provide the classification algorithms with a rich selection of records for each category, we will resample the training dataset in order to have 20% of the rebalanced data set have 'yes' attrition values.**\\\n",
    "<br>\n",
    "**To have 20% of the rebalanced dataset have true churn values, we have p=0.2, records=80, rare=14. By substituting the unknowns into the formula 'Rare + x = p(records + x)', we get x=2.5. That is we need to resample 3 records whose Churn response is 'True' and add them to our training dataset.**\\"
   ]
  },
  {
   "cell_type": "code",
   "execution_count": 18,
   "metadata": {},
   "outputs": [
    {
     "data": {
      "text/plain": [
       "0    66\n",
       "1    17\n",
       "Name: Attrition, dtype: int64"
      ]
     },
     "execution_count": 18,
     "metadata": {},
     "output_type": "execute_result"
    }
   ],
   "source": [
    "# Subsetting the records which we want to resample\n",
    "to_resample_y = y_train.loc[y_train['Attrition'] == 1]\n",
    "\n",
    "# sample() draws records at random form, replace 'Yes' specifies to sample with replacement\n",
    "our_resample_y = to_resample_y.sample(n = 3, replace = True)\n",
    "\n",
    "# Add the resampled records to the original dataset\n",
    "y_train_rebal = pd.concat([y_train, our_resample_y])\n",
    "\n",
    "# Confirming that 20% of the records in the rebalanced dataset have 'True' as the Churn values\n",
    "y_train_rebal['Attrition'].value_counts()"
   ]
  },
  {
   "cell_type": "markdown",
   "metadata": {},
   "source": [
    "**Since 17/(66+17) is ~20%, we can confirm that 20% of the records in the rebalanced data set have 'Yes' in attrition values.**"
   ]
  },
  {
   "cell_type": "markdown",
   "metadata": {},
   "source": [
    "#### Balancing the response variable (Satisfaction, Salary and Home-Office) in the Training set"
   ]
  },
  {
   "cell_type": "code",
   "execution_count": 19,
   "metadata": {},
   "outputs": [
    {
     "data": {
      "text/plain": [
       "Int64Index([89, 69, 26], dtype='int64')"
      ]
     },
     "execution_count": 19,
     "metadata": {},
     "output_type": "execute_result"
    }
   ],
   "source": [
    "# Look for the indices of the resampled y \n",
    "our_resample_y.index"
   ]
  },
  {
   "cell_type": "code",
   "execution_count": 20,
   "metadata": {},
   "outputs": [
    {
     "data": {
      "text/html": [
       "<div>\n",
       "<style scoped>\n",
       "    .dataframe tbody tr th:only-of-type {\n",
       "        vertical-align: middle;\n",
       "    }\n",
       "\n",
       "    .dataframe tbody tr th {\n",
       "        vertical-align: top;\n",
       "    }\n",
       "\n",
       "    .dataframe thead th {\n",
       "        text-align: right;\n",
       "    }\n",
       "</style>\n",
       "<table border=\"1\" class=\"dataframe\">\n",
       "  <thead>\n",
       "    <tr style=\"text-align: right;\">\n",
       "      <th></th>\n",
       "      <th>Satisfaction</th>\n",
       "      <th>Salary</th>\n",
       "      <th>Home-Office</th>\n",
       "    </tr>\n",
       "  </thead>\n",
       "  <tbody>\n",
       "    <tr>\n",
       "      <th>89</th>\n",
       "      <td>2</td>\n",
       "      <td>1</td>\n",
       "      <td>1</td>\n",
       "    </tr>\n",
       "    <tr>\n",
       "      <th>69</th>\n",
       "      <td>2</td>\n",
       "      <td>0</td>\n",
       "      <td>0</td>\n",
       "    </tr>\n",
       "    <tr>\n",
       "      <th>26</th>\n",
       "      <td>2</td>\n",
       "      <td>0</td>\n",
       "      <td>0</td>\n",
       "    </tr>\n",
       "  </tbody>\n",
       "</table>\n",
       "</div>"
      ],
      "text/plain": [
       "    Satisfaction  Salary  Home-Office\n",
       "89             2       1            1\n",
       "69             2       0            0\n",
       "26             2       0            0"
      ]
     },
     "execution_count": 20,
     "metadata": {},
     "output_type": "execute_result"
    }
   ],
   "source": [
    "# Grab the same X from indices 89, 69, 26 from X_Train\n",
    "to_resample_X = X_train.loc[[89, 69, 26]]\n",
    "to_resample_X"
   ]
  },
  {
   "cell_type": "code",
   "execution_count": 21,
   "metadata": {},
   "outputs": [
    {
     "data": {
      "text/html": [
       "<div>\n",
       "<style scoped>\n",
       "    .dataframe tbody tr th:only-of-type {\n",
       "        vertical-align: middle;\n",
       "    }\n",
       "\n",
       "    .dataframe tbody tr th {\n",
       "        vertical-align: top;\n",
       "    }\n",
       "\n",
       "    .dataframe thead th {\n",
       "        text-align: right;\n",
       "    }\n",
       "</style>\n",
       "<table border=\"1\" class=\"dataframe\">\n",
       "  <thead>\n",
       "    <tr style=\"text-align: right;\">\n",
       "      <th></th>\n",
       "      <th>Satisfaction</th>\n",
       "      <th>Salary</th>\n",
       "      <th>Home-Office</th>\n",
       "    </tr>\n",
       "  </thead>\n",
       "  <tbody>\n",
       "    <tr>\n",
       "      <th>19</th>\n",
       "      <td>2</td>\n",
       "      <td>1</td>\n",
       "      <td>1</td>\n",
       "    </tr>\n",
       "    <tr>\n",
       "      <th>67</th>\n",
       "      <td>0</td>\n",
       "      <td>2</td>\n",
       "      <td>0</td>\n",
       "    </tr>\n",
       "    <tr>\n",
       "      <th>44</th>\n",
       "      <td>0</td>\n",
       "      <td>0</td>\n",
       "      <td>0</td>\n",
       "    </tr>\n",
       "    <tr>\n",
       "      <th>32</th>\n",
       "      <td>0</td>\n",
       "      <td>0</td>\n",
       "      <td>1</td>\n",
       "    </tr>\n",
       "    <tr>\n",
       "      <th>91</th>\n",
       "      <td>0</td>\n",
       "      <td>0</td>\n",
       "      <td>1</td>\n",
       "    </tr>\n",
       "  </tbody>\n",
       "</table>\n",
       "</div>"
      ],
      "text/plain": [
       "    Satisfaction  Salary  Home-Office\n",
       "19             2       1            1\n",
       "67             0       2            0\n",
       "44             0       0            0\n",
       "32             0       0            1\n",
       "91             0       0            1"
      ]
     },
     "execution_count": 21,
     "metadata": {},
     "output_type": "execute_result"
    }
   ],
   "source": [
    "# sample() draws records at random form, replace 'Yes' specifies to sample with replacement\n",
    "our_resample_X = to_resample_X.sample(n = 3, replace = True)\n",
    "\n",
    "# Add the resampled records to the original dataset\n",
    "X_train_rebal = pd.concat([X_train, our_resample_X])\n",
    "X_train_rebal.head()"
   ]
  },
  {
   "cell_type": "markdown",
   "metadata": {},
   "source": [
    "### Modeling"
   ]
  },
  {
   "cell_type": "markdown",
   "metadata": {},
   "source": [
    "#### CART Algorithm"
   ]
  },
  {
   "cell_type": "code",
   "execution_count": 22,
   "metadata": {},
   "outputs": [
    {
     "data": {
      "image/png": "[encoded data removed]",
      "text/plain": [
       "<Figure size 2160x720 with 1 Axes>"
      ]
     },
     "metadata": {
      "needs_background": "light"
     },
     "output_type": "display_data"
    }
   ],
   "source": [
    "# Train CART model\n",
    "cart01 = DecisionTreeClassifier(criterion = \"gini\", max_leaf_nodes=4).fit(X_train_rebal, y_train_rebal)\n",
    "\n",
    "# Specify the names of each column of X and y\n",
    "X_names = ['Satisfaction', 'Salary', 'Home-Office']\n",
    "y_names = ['Attrition=Yes', 'Attrition=No']\n",
    "\n",
    "# Obtain tree structure with labeles\n",
    "plt.figure(figsize=(30,10))\n",
    "cart01_viz = tree.plot_tree(cart01, feature_names = X_names, class_names = y_names,\n",
    "                            rounded = True, filled = True, fontsize=14)\n",
    "plt.title(\"Decision Tree on Training Set\", fontsize=20)\n",
    "plt.show()"
   ]
  },
  {
   "cell_type": "markdown",
   "metadata": {},
   "source": [
    "**The first split is on the employee salary level at the 0.5 threshold meaning the low salary level. The second split is on employee satisfaction level.**"
   ]
  },
  {
   "cell_type": "code",
   "execution_count": 24,
   "metadata": {},
   "outputs": [
    {
     "data": {
      "text/plain": [
       "0.8"
      ]
     },
     "execution_count": 24,
     "metadata": {},
     "output_type": "execute_result"
    }
   ],
   "source": [
    "# Use model to predict on test data\n",
    "ypred_cart01 = cart01.predict(X_test)\n",
    "\n",
    "# Accuracy of CART model\n",
    "metrics.accuracy_score(y_test, ypred_cart01)"
   ]
  },
  {
   "cell_type": "code",
   "execution_count": 34,
   "metadata": {},
   "outputs": [
    {
     "data": {
      "text/plain": [
       "array([[16,  0],\n",
       "       [ 4,  0]], dtype=int64)"
      ]
     },
     "execution_count": 34,
     "metadata": {},
     "output_type": "execute_result"
    }
   ],
   "source": [
    "con_table_cart01 = metrics.confusion_matrix(y_test, ypred_cart01)\n",
    "con_table_cart01"
   ]
  },
  {
   "cell_type": "markdown",
   "metadata": {},
   "source": [
    "#### C5.0 Algorithm"
   ]
  },
  {
   "cell_type": "code",
   "execution_count": 32,
   "metadata": {},
   "outputs": [
    {
     "data": {
      "image/png": "[encoded data removed]",
      "text/plain": [
       "<Figure size 2160x720 with 1 Axes>"
      ]
     },
     "metadata": {
      "needs_background": "light"
     },
     "output_type": "display_data"
    }
   ],
   "source": [
    "# Train C5.0 Algorithm with test data set\n",
    "c50 = DecisionTreeClassifier(criterion=\"entropy\", \n",
    "                                max_leaf_nodes=4).fit(X_train_rebal, y_train_rebal)\n",
    "\n",
    "# Visualizing the decision tree\n",
    "plt.figure(figsize=(30,10))\n",
    "c50_viz = tree.plot_tree(c50, feature_names = X_names, class_names = y_names,\n",
    "rounded = True, filled = True, fontsize=14)\n",
    "plt.title(\"Decision Tree on Training Set\", fontsize=20)\n",
    "plt.show()"
   ]
  },
  {
   "cell_type": "code",
   "execution_count": 33,
   "metadata": {},
   "outputs": [
    {
     "data": {
      "text/plain": [
       "0.8"
      ]
     },
     "execution_count": 33,
     "metadata": {},
     "output_type": "execute_result"
    }
   ],
   "source": [
    "# Use model to predict on test data\n",
    "ypred_c50 = c50.predict(X_test)\n",
    "\n",
    "# Accuracy of C5.0 model\n",
    "metrics.accuracy_score(y_test, ypred_c50)"
   ]
  },
  {
   "cell_type": "code",
   "execution_count": 35,
   "metadata": {},
   "outputs": [
    {
     "data": {
      "text/plain": [
       "array([[16,  0],\n",
       "       [ 4,  0]], dtype=int64)"
      ]
     },
     "execution_count": 35,
     "metadata": {},
     "output_type": "execute_result"
    }
   ],
   "source": [
    "con_table_c50 = metrics.confusion_matrix(y_test, ypred_c50)\n",
    "con_table_c50"
   ]
  },
  {
   "cell_type": "markdown",
   "metadata": {},
   "source": [
    "#### Logistic Regression Model"
   ]
  },
  {
   "cell_type": "code",
   "execution_count": 33,
   "metadata": {},
   "outputs": [
    {
     "name": "stderr",
     "output_type": "stream",
     "text": [
      "C:\\Users\\mendi\\Anaconda3\\lib\\site-packages\\numpy\\core\\fromnumeric.py:2389: FutureWarning: Method .ptp is deprecated and will be removed in a future version. Use numpy.ptp instead.\n",
      "  return ptp(axis=axis, out=out, **kwargs)\n"
     ]
    },
    {
     "name": "stdout",
     "output_type": "stream",
     "text": [
      "Optimization terminated successfully.\n",
      "         Current function value: 0.484998\n",
      "         Iterations 6\n"
     ]
    },
    {
     "data": {
      "text/html": [
       "<table class=\"simpletable\">\n",
       "<tr>\n",
       "        <td>Model:</td>              <td>Logit</td>      <td>Pseudo R-squared:</td>  <td>0.031</td> \n",
       "</tr>\n",
       "<tr>\n",
       "  <td>Dependent Variable:</td>     <td>Attrition</td>          <td>AIC:</td>        <td>85.5997</td>\n",
       "</tr>\n",
       "<tr>\n",
       "         <td>Date:</td>        <td>2022-04-13 21:59</td>       <td>BIC:</td>        <td>95.1278</td>\n",
       "</tr>\n",
       "<tr>\n",
       "   <td>No. Observations:</td>         <td>80</td>         <td>Log-Likelihood:</td>  <td>-38.800</td>\n",
       "</tr>\n",
       "<tr>\n",
       "       <td>Df Model:</td>              <td>3</td>            <td>LL-Null:</td>      <td>-40.032</td>\n",
       "</tr>\n",
       "<tr>\n",
       "     <td>Df Residuals:</td>           <td>76</td>          <td>LLR p-value:</td>    <td>0.48171</td>\n",
       "</tr>\n",
       "<tr>\n",
       "      <td>Converged:</td>           <td>1.0000</td>           <td>Scale:</td>       <td>1.0000</td> \n",
       "</tr>\n",
       "<tr>\n",
       "    <td>No. Iterations:</td>        <td>6.0000</td>              <td></td>             <td></td>    \n",
       "</tr>\n",
       "</table>\n",
       "<table class=\"simpletable\">\n",
       "<tr>\n",
       "        <td></td>        <th>Coef.</th>  <th>Std.Err.</th>    <th>z</th>     <th>P>|z|</th> <th>[0.025</th>  <th>0.975]</th> \n",
       "</tr>\n",
       "<tr>\n",
       "  <th>const</th>        <td>-2.2016</td>  <td>0.7175</td>  <td>-3.0686</td> <td>0.0022</td> <td>-3.6079</td> <td>-0.7954</td>\n",
       "</tr>\n",
       "<tr>\n",
       "  <th>Satisfaction</th> <td>0.1198</td>   <td>0.3376</td>  <td>0.3549</td>  <td>0.7227</td> <td>-0.5419</td> <td>0.7816</td> \n",
       "</tr>\n",
       "<tr>\n",
       "  <th>Salary</th>       <td>0.4607</td>   <td>0.3378</td>  <td>1.3637</td>  <td>0.1726</td> <td>-0.2014</td> <td>1.1229</td> \n",
       "</tr>\n",
       "<tr>\n",
       "  <th>Home-Office</th>  <td>0.3569</td>   <td>0.6448</td>  <td>0.5535</td>  <td>0.5799</td> <td>-0.9069</td> <td>1.6206</td> \n",
       "</tr>\n",
       "</table>"
      ],
      "text/plain": [
       "<class 'statsmodels.iolib.summary2.Summary'>\n",
       "\"\"\"\n",
       "                        Results: Logit\n",
       "==============================================================\n",
       "Model:              Logit            Pseudo R-squared: 0.031  \n",
       "Dependent Variable: Attrition        AIC:              85.5997\n",
       "Date:               2022-04-13 21:59 BIC:              95.1278\n",
       "No. Observations:   80               Log-Likelihood:   -38.800\n",
       "Df Model:           3                LL-Null:          -40.032\n",
       "Df Residuals:       76               LLR p-value:      0.48171\n",
       "Converged:          1.0000           Scale:            1.0000 \n",
       "No. Iterations:     6.0000                                    \n",
       "--------------------------------------------------------------\n",
       "                Coef.  Std.Err.    z    P>|z|   [0.025  0.975]\n",
       "--------------------------------------------------------------\n",
       "const          -2.2016   0.7175 -3.0686 0.0022 -3.6079 -0.7954\n",
       "Satisfaction    0.1198   0.3376  0.3549 0.7227 -0.5419  0.7816\n",
       "Salary          0.4607   0.3378  1.3637 0.1726 -0.2014  1.1229\n",
       "Home-Office     0.3569   0.6448  0.5535 0.5799 -0.9069  1.6206\n",
       "==============================================================\n",
       "\n",
       "\"\"\""
      ]
     },
     "execution_count": 33,
     "metadata": {},
     "output_type": "execute_result"
    }
   ],
   "source": [
    "# Running a regression prediction\n",
    "X = sm.add_constant(X_train)\n",
    "y = pd.DataFrame(y_train)\n",
    "logreg01 = sm.Logit(y,X).fit()\n",
    "logreg01.summary2()"
   ]
  },
  {
   "cell_type": "code",
   "execution_count": 34,
   "metadata": {},
   "outputs": [
    {
     "name": "stdout",
     "output_type": "stream",
     "text": [
      "Optimization terminated successfully.\n",
      "         Current function value: 0.309640\n",
      "         Iterations 7\n"
     ]
    },
    {
     "data": {
      "text/html": [
       "<table class=\"simpletable\">\n",
       "<tr>\n",
       "        <td>Model:</td>              <td>Logit</td>      <td>Pseudo R-squared:</td>  <td>0.048</td> \n",
       "</tr>\n",
       "<tr>\n",
       "  <td>Dependent Variable:</td>     <td>Attrition</td>          <td>AIC:</td>        <td>20.3856</td>\n",
       "</tr>\n",
       "<tr>\n",
       "         <td>Date:</td>        <td>2022-04-13 22:02</td>       <td>BIC:</td>        <td>24.3685</td>\n",
       "</tr>\n",
       "<tr>\n",
       "   <td>No. Observations:</td>         <td>20</td>         <td>Log-Likelihood:</td>  <td>-6.1928</td>\n",
       "</tr>\n",
       "<tr>\n",
       "       <td>Df Model:</td>              <td>3</td>            <td>LL-Null:</td>      <td>-6.5017</td>\n",
       "</tr>\n",
       "<tr>\n",
       "     <td>Df Residuals:</td>           <td>16</td>          <td>LLR p-value:</td>    <td>0.89237</td>\n",
       "</tr>\n",
       "<tr>\n",
       "      <td>Converged:</td>           <td>1.0000</td>           <td>Scale:</td>       <td>1.0000</td> \n",
       "</tr>\n",
       "<tr>\n",
       "    <td>No. Iterations:</td>        <td>7.0000</td>              <td></td>             <td></td>    \n",
       "</tr>\n",
       "</table>\n",
       "<table class=\"simpletable\">\n",
       "<tr>\n",
       "        <td></td>        <th>Coef.</th>  <th>Std.Err.</th>    <th>z</th>     <th>P>|z|</th> <th>[0.025</th>  <th>0.975]</th>\n",
       "</tr>\n",
       "<tr>\n",
       "  <th>const</th>        <td>-2.7293</td>  <td>2.1301</td>  <td>-1.2813</td> <td>0.2001</td> <td>-6.9042</td> <td>1.4457</td>\n",
       "</tr>\n",
       "<tr>\n",
       "  <th>Satisfaction</th> <td>0.6015</td>   <td>1.0042</td>  <td>0.5990</td>  <td>0.5492</td> <td>-1.3666</td> <td>2.5696</td>\n",
       "</tr>\n",
       "<tr>\n",
       "  <th>Salary</th>       <td>0.0985</td>   <td>0.8491</td>  <td>0.1160</td>  <td>0.9076</td> <td>-1.5657</td> <td>1.7628</td>\n",
       "</tr>\n",
       "<tr>\n",
       "  <th>Home-Office</th>  <td>-0.5930</td>  <td>1.5826</td>  <td>-0.3747</td> <td>0.7079</td> <td>-3.6949</td> <td>2.5089</td>\n",
       "</tr>\n",
       "</table>"
      ],
      "text/plain": [
       "<class 'statsmodels.iolib.summary2.Summary'>\n",
       "\"\"\"\n",
       "                        Results: Logit\n",
       "==============================================================\n",
       "Model:              Logit            Pseudo R-squared: 0.048  \n",
       "Dependent Variable: Attrition        AIC:              20.3856\n",
       "Date:               2022-04-13 22:02 BIC:              24.3685\n",
       "No. Observations:   20               Log-Likelihood:   -6.1928\n",
       "Df Model:           3                LL-Null:          -6.5017\n",
       "Df Residuals:       16               LLR p-value:      0.89237\n",
       "Converged:          1.0000           Scale:            1.0000 \n",
       "No. Iterations:     7.0000                                    \n",
       "--------------------------------------------------------------\n",
       "                 Coef.  Std.Err.    z    P>|z|   [0.025 0.975]\n",
       "--------------------------------------------------------------\n",
       "const           -2.7293   2.1301 -1.2813 0.2001 -6.9042 1.4457\n",
       "Satisfaction     0.6015   1.0042  0.5990 0.5492 -1.3666 2.5696\n",
       "Salary           0.0985   0.8491  0.1160 0.9076 -1.5657 1.7628\n",
       "Home-Office     -0.5930   1.5826 -0.3747 0.7079 -3.6949 2.5089\n",
       "==============================================================\n",
       "\n",
       "\"\"\""
      ]
     },
     "execution_count": 34,
     "metadata": {},
     "output_type": "execute_result"
    }
   ],
   "source": [
    "# Validating the model using the test data set\n",
    "X_test = sm.add_constant(X_test)\n",
    "y_test = pd.DataFrame(y_test)\n",
    "logreg01_test = sm.Logit(y_test, X_test).fit()\n",
    "logreg01_test.summary2()"
   ]
  },
  {
   "cell_type": "markdown",
   "metadata": {},
   "source": [
    "**The estimated Attrition equals negative 2.2016 plus 0.1198 times the Employee satisfaction plus 0.4607 times Salary plus 0.3569 times the Home to Office.**"
   ]
  },
  {
   "cell_type": "markdown",
   "metadata": {},
   "source": [
    "#### Naive Bayes Classifier"
   ]
  },
  {
   "cell_type": "code",
   "execution_count": 35,
   "metadata": {},
   "outputs": [],
   "source": [
    "#Running the Naive Bayes classifier on Attrition based on Satisfaction, Salary, and Home-Office\n",
    "X_Satis_ind = np.array(X_train['Satisfaction'])\n",
    "(X_Satis_ind,X_Satis_ind_dict)=stattools.categorical(X_Satis_ind,drop=True,\n",
    "                                                     dictnames=True)\n",
    "X_Satis_ind = pd.DataFrame(X_Satis_ind)\n",
    "X_Salary_ind = np.array(X_train['Salary'])\n",
    "(X_Salary_ind,X_Salary_ind_dict)=stattools.categorical(X_Salary_ind, \n",
    "                                                       drop=True,dictnames=True)\n",
    "X_Salary_ind = pd.DataFrame(X_Salary_ind)\n",
    "X_HO_ind = np.array(X_train['Home-Office'])\n",
    "(X_HO_ind,X_HO_ind_dict)=stattools.categorical(X_HO_ind,drop=True,\n",
    "                                               dictnames=True)\n",
    "X_HO_ind = pd.DataFrame(X_HO_ind)\n",
    "\n",
    "X = pd.concat((X_Satis_ind,X_Salary_ind,X_HO_ind),axis = 1)\n",
    "Y = y_train['Attrition']\n",
    "nb_01 = MultinomialNB().fit(X,Y)"
   ]
  },
  {
   "cell_type": "code",
   "execution_count": 65,
   "metadata": {},
   "outputs": [
    {
     "data": {
      "text/html": [
       "<div>\n",
       "<style scoped>\n",
       "    .dataframe tbody tr th:only-of-type {\n",
       "        vertical-align: middle;\n",
       "    }\n",
       "\n",
       "    .dataframe tbody tr th {\n",
       "        vertical-align: top;\n",
       "    }\n",
       "\n",
       "    .dataframe thead th {\n",
       "        text-align: right;\n",
       "    }\n",
       "</style>\n",
       "<table border=\"1\" class=\"dataframe\">\n",
       "  <thead>\n",
       "    <tr style=\"text-align: right;\">\n",
       "      <th>Predicted</th>\n",
       "      <th>0</th>\n",
       "      <th>Total</th>\n",
       "    </tr>\n",
       "    <tr>\n",
       "      <th>Actual</th>\n",
       "      <th></th>\n",
       "      <th></th>\n",
       "    </tr>\n",
       "  </thead>\n",
       "  <tbody>\n",
       "    <tr>\n",
       "      <th>0</th>\n",
       "      <td>17</td>\n",
       "      <td>17</td>\n",
       "    </tr>\n",
       "    <tr>\n",
       "      <th>1</th>\n",
       "      <td>3</td>\n",
       "      <td>3</td>\n",
       "    </tr>\n",
       "    <tr>\n",
       "      <th>Total</th>\n",
       "      <td>20</td>\n",
       "      <td>20</td>\n",
       "    </tr>\n",
       "  </tbody>\n",
       "</table>\n",
       "</div>"
      ],
      "text/plain": [
       "Predicted   0  Total\n",
       "Actual              \n",
       "0          17     17\n",
       "1           3      3\n",
       "Total      20     20"
      ]
     },
     "execution_count": 65,
     "metadata": {},
     "output_type": "execute_result"
    }
   ],
   "source": [
    "# Evaluating the Naive Bayes model on the test data set\n",
    "X_Satis_ind_test = np.array(X_test['Satisfaction'])\n",
    "(X_Satis_ind_test,X_Satis_ind_dict_test)=stattools.categorical(X_Satis_ind_test,\n",
    "                                                               drop=True,dictnames=True)\n",
    "X_Satis_ind_test=pd.DataFrame(X_Satis_ind_test)\n",
    "X_Salary_ind_test = np.array(X_test['Salary'])\n",
    "(X_Salary_ind_test,X_Salary_ind_dict_test)=stattools.categorical(X_Salary_ind_test,\n",
    "                                                            drop=True,dictnames=True)\n",
    "X_Salary_ind_test=pd.DataFrame(X_Salary_ind_test)\n",
    "X_HO_ind_test = np.array(X_test['Home-Office'])\n",
    "(X_HO_ind_test,X_HO_ind_dict_test)=stattools.categorical(X_HO_ind_test,\n",
    "                                                         drop=True,dictnames=True)\n",
    "X_HO_ind_test = pd.DataFrame(X_HO_ind_test)\n",
    "\n",
    "X_testing = pd.concat((X_Satis_ind_test,X_Salary_ind_test,X_HO_ind_test),axis=1)\n",
    "Y_predicted = nb_01.predict(X_testing)\n",
    "ypred = pd.crosstab(y_test['Attrition'],Y_predicted,rownames=['Actual'],colnames = ['Predicted'])\n",
    "ypred['Total']=ypred.sum(axis=1);ypred.loc['Total']=ypred.sum();ypred"
   ]
  },
  {
   "cell_type": "code",
   "execution_count": 69,
   "metadata": {},
   "outputs": [
    {
     "name": "stdout",
     "output_type": "stream",
     "text": [
      "Wall time: 26.9 ms\n"
     ]
    },
    {
     "name": "stderr",
     "output_type": "stream",
     "text": [
      "C:\\Users\\mendi\\Anaconda3\\lib\\site-packages\\sklearn\\utils\\validation.py:724: DataConversionWarning: A column-vector y was passed when a 1d array was expected. Please change the shape of y to (n_samples, ), for example using ravel().\n",
      "  y = column_or_1d(y, warn=True)\n"
     ]
    },
    {
     "data": {
      "text/plain": [
       "MultinomialNB(alpha=1.0, class_prior=None, fit_prior=True)"
      ]
     },
     "execution_count": 69,
     "metadata": {},
     "output_type": "execute_result"
    }
   ],
   "source": [
    "%time MultinomialNB().fit(X_train_rebal,y_train_rebal)"
   ]
  },
  {
   "cell_type": "code",
   "execution_count": 70,
   "metadata": {},
   "outputs": [
    {
     "data": {
      "text/plain": [
       "0.85"
      ]
     },
     "execution_count": 70,
     "metadata": {},
     "output_type": "execute_result"
    }
   ],
   "source": [
    "#Calculating the accuracy of the predictions\n",
    "ypred=nb_01.predict(X_testing)\n",
    "metrics.accuracy_score(y_test,ypred)"
   ]
  },
  {
   "cell_type": "code",
   "execution_count": 71,
   "metadata": {},
   "outputs": [
    {
     "data": {
      "text/plain": [
       "array([[17,  0],\n",
       "       [ 3,  0]], dtype=int64)"
      ]
     },
     "execution_count": 71,
     "metadata": {},
     "output_type": "execute_result"
    }
   ],
   "source": [
    "metrics.confusion_matrix(y_test,ypred)"
   ]
  },
  {
   "cell_type": "markdown",
   "metadata": {},
   "source": [
    "#### Confusion Matrix\n",
    "[TN FP\n",
    "\n",
    " FN TP]"
   ]
  },
  {
   "cell_type": "markdown",
   "metadata": {},
   "source": [
    "#### Random Forest Classifier"
   ]
  },
  {
   "cell_type": "code",
   "execution_count": 37,
   "metadata": {},
   "outputs": [
    {
     "data": {
      "text/plain": [
       "array([0, 0, 0, 0, 1, 0, 0, 0, 0, 0, 0, 0, 0, 0, 0, 0, 1, 1, 0, 0, 0, 0,\n",
       "       0, 0, 1, 0, 0, 0, 0, 0, 0, 0, 0, 1, 1, 0, 0, 0, 0, 0, 0, 0, 0, 0,\n",
       "       0, 1, 0, 0, 0, 0, 0, 0, 0, 0, 0, 0, 0, 0, 0, 1, 0, 1, 1, 0, 0, 0,\n",
       "       0, 1, 0, 0, 1, 1, 1, 1, 0, 0, 0, 0, 0, 0, 1, 1, 1])"
      ]
     },
     "execution_count": 37,
     "metadata": {},
     "output_type": "execute_result"
    }
   ],
   "source": [
    "# Random Forest requires a response variable formatted as a one-dimensional\n",
    "# array, so that we use numpy's ravel() command to create that format\n",
    "rfy = np.ravel(y_train_rebal)\n",
    "rfy"
   ]
  },
  {
   "cell_type": "code",
   "execution_count": 38,
   "metadata": {},
   "outputs": [],
   "source": [
    "# Use the RandomForestClassifier() command to create the random forest\n",
    "rf01 = RandomForestClassifier(n_estimators = 100, criterion = \"gini\").fit(X_train_rebal,rfy)\n",
    "# n_estimators input specifies the number of trees to be built"
   ]
  },
  {
   "cell_type": "code",
   "execution_count": 39,
   "metadata": {},
   "outputs": [
    {
     "data": {
      "text/plain": [
       "array([0, 0, 0, 0, 0, 0, 0, 0, 0, 0, 0, 0, 0, 0, 0, 0, 0, 0, 0, 0, 0, 0,\n",
       "       0, 0, 0, 0, 0, 0, 0, 0, 0, 0, 1, 0, 0, 0, 0, 0, 0, 0, 0, 0, 0, 0,\n",
       "       0, 0, 0, 0, 0, 0, 0, 0, 0, 0, 0, 0, 0, 0, 0, 0, 0, 1, 1, 0, 0, 0,\n",
       "       0, 1, 0, 0, 0, 1, 0, 1, 0, 0, 0, 0, 0, 0, 1, 1, 1])"
      ]
     },
     "execution_count": 39,
     "metadata": {},
     "output_type": "execute_result"
    }
   ],
   "source": [
    "# To review the classification made on training data set\n",
    "rf_train = rf01.predict(X_train_rebal)\n",
    "rf_train"
   ]
  },
  {
   "cell_type": "code",
   "execution_count": 40,
   "metadata": {},
   "outputs": [
    {
     "data": {
      "text/plain": [
       "0    0.891566\n",
       "1    0.108434\n",
       "Name: 0, dtype: float64"
      ]
     },
     "execution_count": 40,
     "metadata": {},
     "output_type": "execute_result"
    }
   ],
   "source": [
    "rf_train = pd.DataFrame(rf_train)\n",
    "rf_train[0].value_counts()/len(rf_train)"
   ]
  },
  {
   "cell_type": "code",
   "execution_count": 41,
   "metadata": {},
   "outputs": [
    {
     "data": {
      "text/plain": [
       "array([1, 0, 0, 0, 0, 1, 0, 0, 0, 0, 0, 0, 0, 0, 0, 0, 0, 0, 1, 0])"
      ]
     },
     "execution_count": 41,
     "metadata": {},
     "output_type": "execute_result"
    }
   ],
   "source": [
    "# Validate the model using the test data set. \n",
    "\n",
    "# Random Forest requires a response variable formatted as a one-dimensional\n",
    "# array, so that we use numpy's ravel() command to create that format\n",
    "rfy_test = np.ravel(y_test)\n",
    "rfy_test"
   ]
  },
  {
   "cell_type": "code",
   "execution_count": 42,
   "metadata": {},
   "outputs": [],
   "source": [
    "# Use the RandomForestClassifier() command to create the random forest\n",
    "rf01_test = RandomForestClassifier(n_estimators = 100, criterion = \"gini\").fit(X_test,rfy_test)\n",
    "# n_estimators input specifies the number of trees to be built"
   ]
  },
  {
   "cell_type": "code",
   "execution_count": 43,
   "metadata": {},
   "outputs": [
    {
     "data": {
      "text/plain": [
       "array([0, 0, 0, 0, 0, 1, 0, 0, 0, 0, 0, 0, 0, 0, 0, 0, 0, 0, 1, 0])"
      ]
     },
     "execution_count": 43,
     "metadata": {},
     "output_type": "execute_result"
    }
   ],
   "source": [
    "# To review the classification made on test data set\n",
    "rf_test = rf01_test.predict(X_test)\n",
    "rf_test"
   ]
  },
  {
   "cell_type": "code",
   "execution_count": 45,
   "metadata": {},
   "outputs": [
    {
     "data": {
      "text/plain": [
       "0    0.9\n",
       "1    0.1\n",
       "Name: 0, dtype: float64"
      ]
     },
     "execution_count": 45,
     "metadata": {},
     "output_type": "execute_result"
    }
   ],
   "source": [
    "rf_test = pd.DataFrame(rf_test)\n",
    "rf_test[0].value_counts()/len(rf_test)"
   ]
  },
  {
   "cell_type": "markdown",
   "metadata": {},
   "source": [
    "**Both models classify the data as ~85-89% as no attrition and ~15-10% as yes attrition.**"
   ]
  },
  {
   "cell_type": "code",
   "execution_count": null,
   "metadata": {},
   "outputs": [],
   "source": []
  },
  {
   "cell_type": "markdown",
   "metadata": {},
   "source": [
    "### Notes/May Not include"
   ]
  },
  {
   "cell_type": "code",
   "execution_count": null,
   "metadata": {},
   "outputs": [],
   "source": [
    "X['EducationField'].value_counts(normalize=True) * 100"
   ]
  },
  {
   "cell_type": "code",
   "execution_count": null,
   "metadata": {},
   "outputs": [],
   "source": [
    "# Bar graph of gender\n",
    "sns.countplot(x='Gender', data=EmployeeData)\n",
    "plt.xlabel(\"Gender\")\n",
    "plt.ylabel(\"Count\")\n",
    "plt.title(\"Gender Count\")\n",
    "plt.show()"
   ]
  },
  {
   "cell_type": "code",
   "execution_count": null,
   "metadata": {},
   "outputs": [],
   "source": [
    "# Bar graph of gender with overlay of attrition\n",
    "crosstab1 = pd.crosstab(EmployeeData['Gender'],EmployeeData['Attrition'])\n",
    "crosstab1.plot(kind='bar',stacked=True)\n",
    "plt.xlabel(\"Gender With Attrition\")\n",
    "plt.ylabel(\"Count\")\n",
    "plt.title(\"Gender Count With Attrition Overlay\")\n",
    "plt.show()"
   ]
  },
  {
   "cell_type": "code",
   "execution_count": null,
   "metadata": {},
   "outputs": [],
   "source": [
    "sns.countplot(x='Department',data=EmployeeData)"
   ]
  },
  {
   "cell_type": "code",
   "execution_count": null,
   "metadata": {},
   "outputs": [],
   "source": [
    "crosstab4 = pd.crosstab(EmployeeData['Department'],EmployeeData['Attrition'])\n",
    "crosstab4.plot(kind='bar',stacked=True)"
   ]
  },
  {
   "cell_type": "code",
   "execution_count": null,
   "metadata": {},
   "outputs": [],
   "source": [
    "ctn4 = crosstab4.div(crosstab4.sum(1),axis=0)\n",
    "ctn4.plot(kind='bar',stacked=True)"
   ]
  },
  {
   "cell_type": "code",
   "execution_count": null,
   "metadata": {},
   "outputs": [],
   "source": [
    "sns.countplot(x='EducationField',data=EmployeeData)"
   ]
  },
  {
   "cell_type": "code",
   "execution_count": null,
   "metadata": {},
   "outputs": [],
   "source": [
    "crosstab5 = pd.crosstab(EmployeeData['EducationField'],EmployeeData['Attrition'])\n",
    "crosstab5.plot(kind='bar',stacked=True)"
   ]
  },
  {
   "cell_type": "code",
   "execution_count": null,
   "metadata": {},
   "outputs": [],
   "source": [
    "ctn5 = crosstab5.div(crosstab5.sum(1),axis=0)\n",
    "ctn5.plot(kind='bar',stacked=True)"
   ]
  },
  {
   "cell_type": "code",
   "execution_count": null,
   "metadata": {},
   "outputs": [],
   "source": [
    "#### Multicollinearity Analysis\n",
    "# Identify Multicollinearity\n",
    "# Subseting the three predictor variables and put them in their own data frame\n",
    "X = pd.DataFrame(EmployeeData[['Salary', 'Satisfaction', 'Home-Office']])\n",
    "X = sm.add_constant(X)\n",
    "\n",
    "# Run the variance_inflation_factor() command as given below to obtain the VIF values\n",
    "[inf.variance_inflation_factor(X.values, i) for i in range(X.shape[1])]"
   ]
  },
  {
   "cell_type": "code",
   "execution_count": null,
   "metadata": {},
   "outputs": [],
   "source": [
    "X_names = ['Cap_Gains_Losses', 'Divorced', 'Married', 'Never-married', 'Separated', 'Widowed']\n",
    "y_names = ['<=50K', '>50K']"
   ]
  },
  {
   "cell_type": "markdown",
   "metadata": {},
   "source": [
    "c. Data preparation/cleaning\n",
    "\n",
    "        1) Missing variables\n",
    "        \n",
    "        2) Outliers\n",
    "        \n",
    "        3) Correlation Analysis\n",
    "        \n",
    "        4) Multicollinearity Analysis (If strong multicollinearity exist, apply PCA)\n",
    "        \n",
    "        5) Balancing the train dataset\n",
    "        \n",
    "        6) Splitting the data"
   ]
  },
  {
   "cell_type": "code",
   "execution_count": null,
   "metadata": {},
   "outputs": [],
   "source": []
  },
  {
   "cell_type": "code",
   "execution_count": null,
   "metadata": {},
   "outputs": [],
   "source": []
  },
  {
   "cell_type": "code",
   "execution_count": null,
   "metadata": {},
   "outputs": [],
   "source": []
  }
 ],
 "metadata": {
  "kernelspec": {
   "display_name": "Python 3",
   "language": "python",
   "name": "python3"
  },
  "language_info": {
   "codemirror_mode": {
    "name": "ipython",
    "version": 3
   },
   "file_extension": ".py",
   "mimetype": "text/x-python",
   "name": "python",
   "nbconvert_exporter": "python",
   "pygments_lexer": "ipython3",
   "version": "3.8.8"
  }
 },
 "nbformat": 4,
 "nbformat_minor": 2
}
