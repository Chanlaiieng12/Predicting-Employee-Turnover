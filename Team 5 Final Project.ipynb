{
 "cells": [
  {
   "cell_type": "markdown",
   "metadata": {},
   "source": [
    "### Final Team Project: Predicting Employee Turnover\n",
    "#### Authors: Lai Ieng Chan, Kyle Esteban Dalope, Mendelina Renee Lopez"
   ]
  },
  {
   "cell_type": "code",

   "metadata": {},
   "outputs": [],
   "source": [
    "# Importing all packages and libraries\n",
    "\n",
    "import pandas as pd\n",
    "import numpy as np\n",
    "import matplotlib.pyplot as plt\n",
    "import statsmodels.api as sm\n",
    "import statsmodels.stats.outliers_influence as inf\n",
    "from sklearn import preprocessing\n",
    "from sklearn.preprocessing import MinMaxScaler\n",
    "import seaborn as sns\n",
    "\n",
    "# For Decision Trees\n",
    "import statsmodels.tools.tools as stattools \n",
    "from sklearn import tree\n",
    "from sklearn.tree import DecisionTreeClassifier, export_graphviz\n",
    "\n",
    "# For Regression model\n",
    "from sklearn import linear_model\n",
    "from sklearn.metrics import mean_absolute_error, r2_score, mean_squared_error\n",
    "\n",
    "# For Partitioning the data\n",
    "from sklearn.model_selection import train_test_split\n",
    "import random\n",
    "\n",
    "# For Naive Bayes\n",
    "from sklearn.naive_bayes import MultinomialNB\n",
    "\n",
    "# For Random Forest\n",
    "from sklearn.ensemble import RandomForestClassifier"
   ]
  },
  {
   "cell_type": "markdown",
   "metadata": {},
   "source": [
    "### Data Importing and Preprocessing"
   ]
  },
  {
   "cell_type": "code",

   "metadata": {},
   "outputs": [
    {
     "data": {
      "text/html": [
       "<div>\n",
       "<style scoped>\n",
       "    .dataframe tbody tr th:only-of-type {\n",
       "        vertical-align: middle;\n",
       "    }\n",
       "\n",
       "    .dataframe tbody tr th {\n",
       "        vertical-align: top;\n",
       "    }\n",
       "\n",
       "    .dataframe thead th {\n",
       "        text-align: right;\n",
       "    }\n",
       "</style>\n",
       "<table border=\"1\" class=\"dataframe\">\n",
       "  <thead>\n",
       "    <tr style=\"text-align: right;\">\n",
       "      <th></th>\n",
       "      <th>Gender</th>\n",
       "      <th>Satisfaction</th>\n",
       "      <th>Business Travel</th>\n",
       "      <th>Department</th>\n",
       "      <th>EducationField</th>\n",
       "      <th>Salary</th>\n",
       "      <th>Home-Office</th>\n",
       "      <th>Attrition</th>\n",
       "    </tr>\n",
       "  </thead>\n",
       "  <tbody>\n",
       "    <tr>\n",
       "      <th>0</th>\n",
       "      <td>Female</td>\n",
       "      <td>High</td>\n",
       "      <td>Rare</td>\n",
       "      <td>Sales</td>\n",
       "      <td>Engineering</td>\n",
       "      <td>Medium</td>\n",
       "      <td>Near</td>\n",
       "      <td>Yes</td>\n",
       "    </tr>\n",
       "    <tr>\n",
       "      <th>1</th>\n",
       "      <td>Male</td>\n",
       "      <td>Low</td>\n",
       "      <td>Frequent</td>\n",
       "      <td>Sales</td>\n",
       "      <td>Engineering</td>\n",
       "      <td>Low</td>\n",
       "      <td>Near</td>\n",
       "      <td>Yes</td>\n",
       "    </tr>\n",
       "    <tr>\n",
       "      <th>2</th>\n",
       "      <td>Male</td>\n",
       "      <td>Medium</td>\n",
       "      <td>Rare</td>\n",
       "      <td>R&amp;D</td>\n",
       "      <td>Other</td>\n",
       "      <td>Medium</td>\n",
       "      <td>Far</td>\n",
       "      <td>No</td>\n",
       "    </tr>\n",
       "    <tr>\n",
       "      <th>3</th>\n",
       "      <td>Female</td>\n",
       "      <td>Low</td>\n",
       "      <td>Frequent</td>\n",
       "      <td>R&amp;D</td>\n",
       "      <td>Engineering</td>\n",
       "      <td>Medium</td>\n",
       "      <td>Far</td>\n",
       "      <td>Yes</td>\n",
       "    </tr>\n",
       "    <tr>\n",
       "      <th>4</th>\n",
       "      <td>Male</td>\n",
       "      <td>Medium</td>\n",
       "      <td>Rare</td>\n",
       "      <td>R&amp;D</td>\n",
       "      <td>Medical</td>\n",
       "      <td>Medium</td>\n",
       "      <td>Far</td>\n",
       "      <td>No</td>\n",
       "    </tr>\n",
       "  </tbody>\n",
       "</table>\n",
       "</div>"
      ],
      "text/plain": [
       "   Gender Satisfaction Business Travel Department EducationField  Salary  \\\n",
       "0  Female         High            Rare      Sales    Engineering  Medium   \n",
       "1    Male          Low        Frequent      Sales    Engineering     Low   \n",
       "2    Male       Medium            Rare        R&D          Other  Medium   \n",
       "3  Female          Low        Frequent        R&D    Engineering  Medium   \n",
       "4    Male       Medium            Rare        R&D        Medical  Medium   \n",
       "\n",
       "  Home-Office Attrition  \n",
       "0        Near       Yes  \n",
       "1        Near       Yes  \n",
       "2         Far        No  \n",
       "3         Far       Yes  \n",
       "4         Far        No  "
      ]
     },

     "metadata": {},
     "output_type": "execute_result"
    }
   ],
   "source": [

    "EmployeeData.head(5)"
   ]
  },
  {
   "cell_type": "code",

   "metadata": {},
   "outputs": [
    {
     "data": {
      "text/plain": [
       "(100, 8)"
      ]
     },

     "metadata": {},
     "output_type": "execute_result"
    }
   ],
   "source": [
    "# Dataframe Dimension\n",
    "EmployeeData.shape"
   ]
  },
  {
   "cell_type": "code",

   "metadata": {},
   "outputs": [
    {
     "data": {
      "text/html": [
       "<div>\n",
       "<style scoped>\n",
       "    .dataframe tbody tr th:only-of-type {\n",
       "        vertical-align: middle;\n",
       "    }\n",
       "\n",
       "    .dataframe tbody tr th {\n",
       "        vertical-align: top;\n",
       "    }\n",
       "\n",
       "    .dataframe thead th {\n",
       "        text-align: right;\n",
       "    }\n",
       "</style>\n",
       "<table border=\"1\" class=\"dataframe\">\n",
       "  <thead>\n",
       "    <tr style=\"text-align: right;\">\n",
       "      <th></th>\n",
       "      <th>Gender</th>\n",
       "      <th>Satisfaction</th>\n",
       "      <th>Business Travel</th>\n",
       "      <th>Department</th>\n",
       "      <th>EducationField</th>\n",
       "      <th>Salary</th>\n",
       "      <th>Home-Office</th>\n",
       "      <th>Attrition</th>\n",
       "    </tr>\n",
       "  </thead>\n",
       "  <tbody>\n",
       "    <tr>\n",
       "      <th>count</th>\n",
       "      <td>100</td>\n",
       "      <td>100</td>\n",
       "      <td>100</td>\n",
       "      <td>100</td>\n",
       "      <td>100</td>\n",
       "      <td>100</td>\n",
       "      <td>100</td>\n",
       "      <td>100</td>\n",
       "    </tr>\n",
       "    <tr>\n",
       "      <th>unique</th>\n",
       "      <td>2</td>\n",
       "      <td>3</td>\n",
       "      <td>3</td>\n",
       "      <td>2</td>\n",
       "      <td>5</td>\n",
       "      <td>3</td>\n",
       "      <td>2</td>\n",
       "      <td>2</td>\n",
       "    </tr>\n",
       "    <tr>\n",
       "      <th>top</th>\n",
       "      <td>Male</td>\n",
       "      <td>High</td>\n",
       "      <td>Rare</td>\n",
       "      <td>R&amp;D</td>\n",
       "      <td>Engineering</td>\n",
       "      <td>High</td>\n",
       "      <td>Near</td>\n",
       "      <td>No</td>\n",
       "    </tr>\n",
       "    <tr>\n",
       "      <th>freq</th>\n",
       "      <td>65</td>\n",
       "      <td>47</td>\n",
       "      <td>76</td>\n",
       "      <td>71</td>\n",
       "      <td>44</td>\n",
       "      <td>42</td>\n",
       "      <td>67</td>\n",
       "      <td>82</td>\n",
       "    </tr>\n",
       "  </tbody>\n",
       "</table>\n",
       "</div>"
      ],
      "text/plain": [
       "       Gender Satisfaction Business Travel Department EducationField Salary  \\\n",
       "count     100          100             100        100            100    100   \n",
       "unique      2            3               3          2              5      3   \n",
       "top      Male         High            Rare        R&D    Engineering   High   \n",
       "freq       65           47              76         71             44     42   \n",
       "\n",
       "       Home-Office Attrition  \n",
       "count          100       100  \n",
       "unique           2         2  \n",
       "top           Near        No  \n",
       "freq            67        82  "
      ]
     },

     "metadata": {},
     "output_type": "execute_result"
    }
   ],
   "source": [
    "# Descriptive statistics on the dataset\n",
    "EmployeeData.describe()"
   ]
  },
  {
   "cell_type": "code",

   "metadata": {},
   "outputs": [
    {
     "name": "stdout",
     "output_type": "stream",
     "text": [
      "<class 'pandas.core.frame.DataFrame'>\n",
      "RangeIndex: 100 entries, 0 to 99\n",
      "Data columns (total 8 columns):\n",
      "Gender             100 non-null object\n",
      "Satisfaction       100 non-null object\n",
      "Business Travel    100 non-null object\n",
      "Department         100 non-null object\n",
      "EducationField     100 non-null object\n",
      "Salary             100 non-null object\n",
      "Home-Office        100 non-null object\n",
      "Attrition          100 non-null object\n",
      "dtypes: object(8)\n",
      "memory usage: 6.3+ KB\n"
     ]
    }
   ],
   "source": [
    "# Checking the data type for each variable\n",
    "EmployeeData.info()"
   ]
  },
  {
   "cell_type": "markdown",
   "metadata": {},
   "source": [
    "### Exploratory Data Analysis"
   ]
  },
  {
   "cell_type": "markdown",
   "metadata": {},
   "source": [
    "#### Variable: Employee Satisfaction"
   ]
  },
  {
   "cell_type": "code",

   "metadata": {},
   "outputs": [
    {
     "data": {
      "image/png": "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\n",
      "text/plain": [
       "<Figure size 432x288 with 1 Axes>"
      ]
     },
     "metadata": {
      "needs_background": "light"
     },
     "output_type": "display_data"
    }
   ],
   "source": [
    "# Bar graph of employee satisfaction\n",
    "sns.countplot(x='Satisfaction',data=EmployeeData)\n",
    "plt.xlabel(\"Employee Satisfaction Level\")\n",
    "plt.ylabel(\"Count\")\n",
    "plt.title(\"Employee Satisfaction\")\n",
    "plt.show()"
   ]
  },
  {
   "cell_type": "code",

   "metadata": {},
   "outputs": [
    {
     "data": {
      "image/png": "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\n",
      "text/plain": [
       "<Figure size 432x288 with 1 Axes>"
      ]
     },
     "metadata": {
      "needs_background": "light"
     },
     "output_type": "display_data"
    }
   ],
   "source": [
    "# Bar graph of employee satisfaction with overlay of attrition\n",
    "crosstab2 = pd.crosstab(EmployeeData['Satisfaction'],EmployeeData['Attrition'])\n",
    "crosstab2.plot(kind='bar',stacked=True)\n",
    "plt.xlabel(\"Employee Satisfaction Level With Attrition\")\n",
    "plt.ylabel(\"Count\")\n",
    "plt.title(\"Employee Satisfaction\")\n",
    "plt.show()"
   ]
  },
  {
   "cell_type": "code",

   "metadata": {},
   "outputs": [
    {
     "data": {
      "image/png": "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\n",
      "text/plain": [
       "<Figure size 432x288 with 1 Axes>"
      ]
     },
     "metadata": {
      "needs_background": "light"
     },
     "output_type": "display_data"
    }
   ],
   "source": [
    "# Normalized Bar graph of employee satisfaction with overlay of attrition\n",
    "ctn2 = crosstab2.div(crosstab2.sum(1),axis=0)\n",
    "ctn2.plot(kind='bar',stacked=True)\n",
    "plt.xlabel(\"Employee Satisfaction Level With Attrition\")\n",
    "plt.ylabel(\"Count\")\n",
    "plt.title(\"Employee Satisfaction\")\n",
    "plt.show()"
   ]
  },
  {
   "cell_type": "markdown",
   "metadata": {},
   "source": [
    "**Normalizing employee satisfaction by our taget (attrition) helps us conclude the preliminary findings that the lower the employee satisfaction rate, the higher the attrition rate. It is also important to note that, there are more employees who have high satisfaction level to the company.**"
   ]
  },
  {
   "cell_type": "markdown",
   "metadata": {},
   "source": [
    "#### Variable: Employee Salary"
   ]
  },
  {
   "cell_type": "code",

   "metadata": {},
   "outputs": [
    {
     "data": {
      "image/png": "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\n",
      "text/plain": [
       "<Figure size 432x288 with 1 Axes>"
      ]
     },
     "metadata": {
      "needs_background": "light"
     },
     "output_type": "display_data"
    }
   ],
   "source": [
    "# Bar graph of employee salary\n",
    "sns.countplot(x='Salary',data=EmployeeData)\n",
    "plt.xlabel(\"Employee Salary Level\")\n",
    "plt.ylabel(\"Count\")\n",
    "plt.title(\"Employee Salary\")\n",
    "plt.show()"
   ]
  },
  {
   "cell_type": "code",

   "metadata": {},
   "outputs": [
    {
     "data": {
      "image/png": "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\n",
      "text/plain": [
       "<Figure size 432x288 with 1 Axes>"
      ]
     },
     "metadata": {
      "needs_background": "light"
     },
     "output_type": "display_data"
    }
   ],
   "source": [
    "# Bar graph of employee salary with overlay of attrition\n",
    "crosstab6 = pd.crosstab(EmployeeData['Salary'],EmployeeData['Attrition'])\n",
    "crosstab6.plot(kind='bar',stacked=True)\n",
    "plt.xlabel(\"Employee Salary Level With Attrition\")\n",
    "plt.ylabel(\"Count\")\n",
    "plt.title(\"Employee Salary\")\n",
    "plt.show()"
   ]
  },
  {
   "cell_type": "code",

   "metadata": {},
   "outputs": [
    {
     "data": {
      "image/png": "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\n",
      "text/plain": [
       "<Figure size 432x288 with 1 Axes>"
      ]
     },
     "metadata": {
      "needs_background": "light"
     },
     "output_type": "display_data"
    }
   ],
   "source": [
    "# Normalized Bar graph of employee salary with overlay of attrition\n",
    "ctn6 = crosstab6.div(crosstab6.sum(1),axis=0)\n",
    "ctn6.plot(kind='bar',stacked=True)\n",
    "plt.xlabel(\"Employee Salary Level With Attrition\")\n",
    "plt.ylabel(\"Count\")\n",
    "plt.title(\"Employee Salary\")\n",
    "plt.show()"
   ]
  },
  {
   "cell_type": "markdown",
   "metadata": {},
   "source": [
    "**Normalizing employee salary level by our taget (attrition) helps us conclude the preliminary findings that the lower the employee salary level, the higher the attrition rate. It is also important to note that, there are more employees who are making high-leveled salary in this company.** "
   ]
  },
  {
   "cell_type": "markdown",
   "metadata": {},
   "source": [
    "#### Variable: Home-Office"
   ]
  },
  {
   "cell_type": "code",

   "metadata": {},
   "outputs": [
    {
     "data": {
      "image/png": "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\n",
      "text/plain": [
       "<Figure size 432x288 with 1 Axes>"
      ]
     },
     "metadata": {
      "needs_background": "light"
     },
     "output_type": "display_data"
    }
   ],
   "source": [
    "# Bar graph of office-home distance\n",
    "sns.countplot(x='Home-Office',data=EmployeeData)\n",
    "plt.xlabel(\"Office-home Distance\")\n",
    "plt.ylabel(\"Count\")\n",
    "plt.title(\"Office-home Distance\")\n",
    "plt.show()"
   ]
  },
  {
   "cell_type": "code",

   "metadata": {
    "scrolled": true
   },
   "outputs": [
    {
     "data": {
      "image/png": "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\n",
      "text/plain": [
       "<Figure size 432x288 with 1 Axes>"
      ]
     },
     "metadata": {
      "needs_background": "light"
     },
     "output_type": "display_data"
    }
   ],
   "source": [
    "# Bar graph of office-home distance with overlay of attrition\n",
    "crosstab7 = pd.crosstab(EmployeeData['Home-Office'],EmployeeData['Attrition'])\n",
    "crosstab7.plot(kind='bar',stacked=True)\n",
    "plt.xlabel(\"Office-Home Distance With Attrition\")\n",
    "plt.ylabel(\"Count\")\n",
    "plt.title(\"Office-Home Distance\")\n",
    "plt.show()"
   ]
  },
  {
   "cell_type": "code",

   "metadata": {},
   "outputs": [
    {
     "data": {
      "image/png": "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\n",
      "text/plain": [
       "<Figure size 432x288 with 1 Axes>"
      ]
     },
     "metadata": {
      "needs_background": "light"
     },
     "output_type": "display_data"
    }
   ],
   "source": [
    "# Normalized Bar graph of office-home distance with overlay of attrition\n",
    "ctn7 = crosstab7.div(crosstab7.sum(1),axis=0)\n",
    "ctn7.plot(kind='bar',stacked=True)\n",
    "plt.xlabel(\"Office-Home Distance With Attrition\")\n",
    "plt.ylabel(\"Count\")\n",
    "plt.title(\"Office-Home Distance\")\n",
    "plt.show()"
   ]
  },
  {
   "cell_type": "markdown",
   "metadata": {},
   "source": [
    "### Data Preparation & Cleaning"
   ]
  },
  {
   "cell_type": "markdown",
   "metadata": {},
   "source": [
    "#### Checking for missing variables"
   ]
  },
  {
   "cell_type": "code",

   "metadata": {},
   "outputs": [
    {
     "data": {
      "text/plain": [
       "Gender             0\n",
       "Satisfaction       0\n",
       "Business Travel    0\n",
       "Department         0\n",
       "EducationField     0\n",
       "Salary             0\n",
       "Home-Office        0\n",
       "Attrition          0\n",
       "dtype: int64"
      ]
     },

     "metadata": {},
     "output_type": "execute_result"
    }
   ],
   "source": [
    "# Checking for missing values\n",
    "EmployeeData.isna().sum()"
   ]
  },
  {
   "cell_type": "markdown",
   "metadata": {},
   "source": [
    "**We can see that there is no missing values in this dataset.**"
   ]
  },
  {
   "cell_type": "markdown",
   "metadata": {},
   "source": [
    "#### Converting categorical variable to dummy variables"
   ]
  },
  {
   "cell_type": "code",

   "metadata": {
    "scrolled": true
   },
   "outputs": [
    {
     "data": {
      "text/html": [
       "<div>\n",
       "<style scoped>\n",
       "    .dataframe tbody tr th:only-of-type {\n",
       "        vertical-align: middle;\n",
       "    }\n",
       "\n",
       "    .dataframe tbody tr th {\n",
       "        vertical-align: top;\n",
       "    }\n",
       "\n",
       "    .dataframe thead th {\n",
       "        text-align: right;\n",
       "    }\n",
       "</style>\n",
       "<table border=\"1\" class=\"dataframe\">\n",
       "  <thead>\n",
       "    <tr style=\"text-align: right;\">\n",
       "      <th></th>\n",
       "      <th>Gender</th>\n",
       "      <th>Satisfaction</th>\n",
       "      <th>Business Travel</th>\n",
       "      <th>Department</th>\n",
       "      <th>EducationField</th>\n",
       "      <th>Salary</th>\n",
       "      <th>Home-Office</th>\n",
       "      <th>Attrition</th>\n",
       "    </tr>\n",
       "  </thead>\n",
       "  <tbody>\n",
       "    <tr>\n",
       "      <th>0</th>\n",
       "      <td>0</td>\n",
       "      <td>0</td>\n",
       "      <td>2</td>\n",
       "      <td>1</td>\n",
       "      <td>0</td>\n",
       "      <td>2</td>\n",
       "      <td>1</td>\n",
       "      <td>1</td>\n",
       "    </tr>\n",
       "    <tr>\n",
       "      <th>1</th>\n",
       "      <td>1</td>\n",
       "      <td>1</td>\n",
       "      <td>0</td>\n",
       "      <td>1</td>\n",
       "      <td>0</td>\n",
       "      <td>1</td>\n",
       "      <td>1</td>\n",
       "      <td>1</td>\n",
       "    </tr>\n",
       "    <tr>\n",
       "      <th>2</th>\n",
       "      <td>1</td>\n",
       "      <td>2</td>\n",
       "      <td>2</td>\n",
       "      <td>0</td>\n",
       "      <td>3</td>\n",
       "      <td>2</td>\n",
       "      <td>0</td>\n",
       "      <td>0</td>\n",
       "    </tr>\n",
       "    <tr>\n",
       "      <th>3</th>\n",
       "      <td>0</td>\n",
       "      <td>1</td>\n",
       "      <td>0</td>\n",
       "      <td>0</td>\n",
       "      <td>0</td>\n",
       "      <td>2</td>\n",
       "      <td>0</td>\n",
       "      <td>1</td>\n",
       "    </tr>\n",
       "    <tr>\n",
       "      <th>4</th>\n",
       "      <td>1</td>\n",
       "      <td>2</td>\n",
       "      <td>2</td>\n",
       "      <td>0</td>\n",
       "      <td>2</td>\n",
       "      <td>2</td>\n",
       "      <td>0</td>\n",
       "      <td>0</td>\n",
       "    </tr>\n",
       "  </tbody>\n",
       "</table>\n",
       "</div>"
      ],
      "text/plain": [
       "   Gender  Satisfaction  Business Travel  Department  EducationField  Salary  \\\n",
       "0       0             0                2           1               0       2   \n",
       "1       1             1                0           1               0       1   \n",
       "2       1             2                2           0               3       2   \n",
       "3       0             1                0           0               0       2   \n",
       "4       1             2                2           0               2       2   \n",
       "\n",
       "   Home-Office  Attrition  \n",
       "0            1          1  \n",
       "1            1          1  \n",
       "2            0          0  \n",
       "3            0          1  \n",
       "4            0          0  "
      ]
     },

     "metadata": {},
     "output_type": "execute_result"
    }
   ],
   "source": [
    "# Creating a dataframe for the data we will be working on\n",
    "data = pd.DataFrame(EmployeeData)\n",
    "\n",
    "# Converting categorical variables into dummy variables for the ML models\n",
    "le = preprocessing.LabelEncoder()\n",
    "data = data.apply(le.fit_transform)\n",
    "data.head(5)"
   ]
  },
  {
   "cell_type": "markdown",
   "metadata": {},
   "source": [
    "#### Splitting the dataset to training set and test set"
   ]
  },
  {
   "cell_type": "code",

   "metadata": {},
   "outputs": [],
   "source": [
    "# Subset the predictor variables to X\n",
    "X = data[['Satisfaction','Salary','Home-Office']]\n",
    "\n",
    "# Subset the response variable to y\n",
    "y = data[['Attrition']]"
   ]
  },
  {
   "cell_type": "code",

   "metadata": {},
   "outputs": [],
   "source": [
    "# Parition the data set with the test size = 0.20\n",
    "X_train, X_test, y_train, y_test = train_test_split(X, y, test_size=0.2)"
   ]
  },
  {
   "cell_type": "code",

   "metadata": {},
   "outputs": [
    {
     "data": {
      "text/plain": [
       "<matplotlib.axes._subplots.AxesSubplot at 0x1482ac771d0>"
      ]
     },

     "metadata": {},
     "output_type": "execute_result"
    },
    {
     "data": {
      "image/png": "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\n",
      "text/plain": [
       "<Figure size 432x288 with 1 Axes>"
      ]
     },
     "metadata": {
      "needs_background": "light"
     },
     "output_type": "display_data"
    }
   ],
   "source": [
    "# Collect proportion values in a dataframe\n",
    "df = pd.DataFrame({'Partition':['Train','Test'],\n",
    "                  'Portion':[(X_train.shape[0]/X.shape[0]),\n",
    "                            (X_test.shape[0]/X.shape[0])]\n",
    "                  })\n",
    "\n",
    "# Create barplot\n",
    "df.set_index('Partition').plot(kind='bar')"
   ]
  },
  {
   "cell_type": "markdown",
   "metadata": {},
   "source": [
    "#### Balancing the target variable (Attrition) in the Training set"
   ]
  },
  {
   "cell_type": "code",

   "metadata": {},
   "outputs": [
    {
     "name": "stdout",
     "output_type": "stream",
     "text": [
      "The total number of records in the training dataset is 80\n",
      "There are 17 records in the training dataset that have a attrition class of Yes.\n"
     ]
    }
   ],
   "source": [
    "# Idnentify the total number of records in the training dataset\n",
    "print('The total number of records in the training dataset is', y_train.shape[0])\n",
    "\n",
    "# Identify how many records in the training dataset that has attrition = yes\n",
    "print('There are', y_train.loc[y_train['Attrition']==1].shape[0], \n",
    "      'records in the training dataset that have a attrition class of Yes.')"
   ]
  },
  {
   "cell_type": "markdown",
   "metadata": {},
   "source": [
    "**That is about 17.5% of the training dataset with Attrition have the 'Yes' response value. To provide the classification algorithms with a rich selection of records for each category, we will resample the training dataset in order to have 20% of the rebalanced data set have 'yes' attrition values.**\\\n",
    "<br>\n",
    "**To have 20% of the rebalanced dataset have true churn values, we have p=0.2, records=80, rare=14. By substituting the unknowns into the formula 'Rare + x = p(records + x)', we get x=2.5. That is we need to resample 3 records whose Churn response is 'True' and add them to our training dataset.**\\"
   ]
  },
  {
   "cell_type": "code",

   "metadata": {},
   "outputs": [
    {
     "data": {
      "text/plain": [
       "0    63\n",
       "1    20\n",
       "Name: Attrition, dtype: int64"
      ]
     },

     "metadata": {},
     "output_type": "execute_result"
    }
   ],
   "source": [
    "# Subsetting the records which we want to resample\n",
    "to_resample_y = y_train.loc[y_train['Attrition'] == 1]\n",
    "\n",
    "# sample() draws records at random form, replace 'Yes' specifies to sample with replacement\n",
    "our_resample_y = to_resample_y.sample(n = 3, replace = True)\n",
    "\n",
    "# Add the resampled records to the original dataset\n",
    "y_train_rebal = pd.concat([y_train, our_resample_y])\n",
    "\n",
    "# Confirming that 20% of the records in the rebalanced dataset have 'True' as the Churn values\n",
    "y_train_rebal['Attrition'].value_counts()"
   ]
  },
  {
   "cell_type": "markdown",
   "metadata": {},
   "source": [
    "**Since 17/(66+17) is ~20%, we can confirm that 20% of the records in the rebalanced data set have 'Yes' in attrition values.**"
   ]
  },
  {
   "cell_type": "markdown",
   "metadata": {},
   "source": [
    "#### Balancing the response variable (Satisfaction, Salary and Home-Office) in the Training set"
   ]
  },
  {
   "cell_type": "code",
   "execution_count": 84,
   "metadata": {},
   "outputs": [
    {
     "data": {
      "text/plain": [
       "Int64Index([14, 36, 89], dtype='int64')"
      ]
     },
     "execution_count": 84,
     "metadata": {},
     "output_type": "execute_result"
    }
   ],
   "source": [
    "# Look for the indices of the resampled y \n",
    "our_resample_y.index"
   ]
  },
  {
   "cell_type": "code",
   "execution_count": 85,
   "metadata": {},
   "outputs": [
    {
     "data": {
      "text/html": [
       "<div>\n",
       "<style scoped>\n",
       "    .dataframe tbody tr th:only-of-type {\n",
       "        vertical-align: middle;\n",
       "    }\n",
       "\n",
       "    .dataframe tbody tr th {\n",
       "        vertical-align: top;\n",
       "    }\n",
       "\n",
       "    .dataframe thead th {\n",
       "        text-align: right;\n",
       "    }\n",
       "</style>\n",
       "<table border=\"1\" class=\"dataframe\">\n",
       "  <thead>\n",
       "    <tr style=\"text-align: right;\">\n",
       "      <th></th>\n",
       "      <th>Satisfaction</th>\n",
       "      <th>Salary</th>\n",
       "      <th>Home-Office</th>\n",
       "    </tr>\n",
       "  </thead>\n",
       "  <tbody>\n",
       "    <tr>\n",
       "      <th>14</th>\n",
       "      <td>1</td>\n",
       "      <td>0</td>\n",
       "      <td>1</td>\n",
       "    </tr>\n",
       "    <tr>\n",
       "      <th>36</th>\n",
       "      <td>1</td>\n",
       "      <td>1</td>\n",
       "      <td>1</td>\n",
       "    </tr>\n",
       "    <tr>\n",
       "      <th>89</th>\n",
       "      <td>2</td>\n",
       "      <td>1</td>\n",
       "      <td>1</td>\n",
       "    </tr>\n",
       "  </tbody>\n",
       "</table>\n",
       "</div>"
      ],
      "text/plain": [
       "    Satisfaction  Salary  Home-Office\n",
       "14             1       0            1\n",
       "36             1       1            1\n",
       "89             2       1            1"
      ]
     },
     "execution_count": 85,
     "metadata": {},
     "output_type": "execute_result"
    }
   ],
   "source": [
    "# Grab the same X from indices 26,42,34 from X_Train\n",
    "to_resample_X = X_train.loc[[14,36,89]]\n",
    "to_resample_X"
   ]
  },
  {
   "cell_type": "code",
   "execution_count": 86,
   "metadata": {},
   "outputs": [
    {
     "data": {
      "text/html": [
       "<div>\n",
       "<style scoped>\n",
       "    .dataframe tbody tr th:only-of-type {\n",
       "        vertical-align: middle;\n",
       "    }\n",
       "\n",
       "    .dataframe tbody tr th {\n",
       "        vertical-align: top;\n",
       "    }\n",
       "\n",
       "    .dataframe thead th {\n",
       "        text-align: right;\n",
       "    }\n",
       "</style>\n",
       "<table border=\"1\" class=\"dataframe\">\n",
       "  <thead>\n",
       "    <tr style=\"text-align: right;\">\n",
       "      <th></th>\n",
       "      <th>Satisfaction</th>\n",
       "      <th>Salary</th>\n",
       "      <th>Home-Office</th>\n",
       "    </tr>\n",
       "  </thead>\n",
       "  <tbody>\n",
       "    <tr>\n",
       "      <th>80</th>\n",
       "      <td>2</td>\n",
       "      <td>0</td>\n",
       "      <td>1</td>\n",
       "    </tr>\n",
       "    <tr>\n",
       "      <th>78</th>\n",
       "      <td>1</td>\n",
       "      <td>2</td>\n",
       "      <td>1</td>\n",
       "    </tr>\n",
       "    <tr>\n",
       "      <th>89</th>\n",
       "      <td>2</td>\n",
       "      <td>1</td>\n",
       "      <td>1</td>\n",
       "    </tr>\n",
       "    <tr>\n",
       "      <th>16</th>\n",
       "      <td>0</td>\n",
       "      <td>2</td>\n",
       "      <td>1</td>\n",
       "    </tr>\n",
       "    <tr>\n",
       "      <th>4</th>\n",
       "      <td>2</td>\n",
       "      <td>2</td>\n",
       "      <td>0</td>\n",
       "    </tr>\n",
       "    <tr>\n",
       "      <th>...</th>\n",
       "      <td>...</td>\n",
       "      <td>...</td>\n",
       "      <td>...</td>\n",
       "    </tr>\n",
       "    <tr>\n",
       "      <th>30</th>\n",
       "      <td>2</td>\n",
       "      <td>0</td>\n",
       "      <td>1</td>\n",
       "    </tr>\n",
       "    <tr>\n",
       "      <th>21</th>\n",
       "      <td>0</td>\n",
       "      <td>2</td>\n",
       "      <td>1</td>\n",
       "    </tr>\n",
       "    <tr>\n",
       "      <th>14</th>\n",
       "      <td>1</td>\n",
       "      <td>0</td>\n",
       "      <td>1</td>\n",
       "    </tr>\n",
       "    <tr>\n",
       "      <th>14</th>\n",
       "      <td>1</td>\n",
       "      <td>0</td>\n",
       "      <td>1</td>\n",
       "    </tr>\n",
       "    <tr>\n",
       "      <th>14</th>\n",
       "      <td>1</td>\n",
       "      <td>0</td>\n",
       "      <td>1</td>\n",
       "    </tr>\n",
       "  </tbody>\n",
       "</table>\n",
       "<p>83 rows × 3 columns</p>\n",
       "</div>"
      ],
      "text/plain": [
       "    Satisfaction  Salary  Home-Office\n",
       "80             2       0            1\n",
       "78             1       2            1\n",
       "89             2       1            1\n",
       "16             0       2            1\n",
       "4              2       2            0\n",
       "..           ...     ...          ...\n",
       "30             2       0            1\n",
       "21             0       2            1\n",
       "14             1       0            1\n",
       "14             1       0            1\n",
       "14             1       0            1\n",
       "\n",
       "[83 rows x 3 columns]"
      ]
     },
     "execution_count": 86,
     "metadata": {},
     "output_type": "execute_result"
    }
   ],
   "source": [
    "# sample() draws records at random form, replace 'Yes' specifies to sample with replacement\n",
    "our_resample_X = to_resample_X.sample(n = 3, replace = True)\n",
    "\n",
    "# Add the resampled records to the original dataset\n",
    "X_train_rebal = pd.concat([X_train, our_resample_X])\n",
    "X_train_rebal"
   ]
  },
  {
   "cell_type": "markdown",
   "metadata": {},
   "source": [
    "### Modeling"
   ]
  },
  {
   "cell_type": "markdown",
   "metadata": {},
   "source": [
    "#### CART Algorithm"
   ]
  },
  {
   "cell_type": "code",
   "execution_count": 93,
   "metadata": {},
   "outputs": [
    {
     "data": {

      "text/plain": [
       "<Figure size 2160x720 with 1 Axes>"
      ]
     },
     "metadata": {
      "needs_background": "light"
     },
     "output_type": "display_data"
    }
   ],
   "source": [
    "# Train CART model\n",
    "cart01 = DecisionTreeClassifier(criterion = \"gini\", max_leaf_nodes=5).fit(X_train_rebal, y_train_rebal)\n",
    "\n",
    "# Specify the names of each column of X and y\n",
    "X_names = ['Satisfaction', 'Salary', 'Home-Office']\n",
    "y_names = ['Attrition=Yes', 'Attrition=No']\n",
    "\n",
    "# Obtain tree structure with labeles\n",
    "plt.figure(figsize=(30,10))\n",
    "cart01_viz = tree.plot_tree(cart01, feature_names = X_names, class_names = y_names,\n",
    "                            rounded = True, filled = True, fontsize=14)\n",
    "plt.title(\"Decision Tree on Training Set\", fontsize=20)\n",
    "plt.show()"
   ]
  },
  {
   "cell_type": "markdown",
   "metadata": {},
   "source": [
    "**The first split is on the employee satisfaction level at the 0.5 threshold meaning the low salary level. The second split is on employee salary level. The salary <=1.5 part of the tree has one additional split on the satisfaction variable.** "
   ]
  },
  {

   ]
  },
  {
   "cell_type": "markdown",
   "metadata": {},
   "source": [
    "#### Regression Model"
   ]
  },
  {
   "cell_type": "code",
   "execution_count": 97,
   "metadata": {},
   "outputs": [
    {
     "data": {
      "text/html": [
       "<table class=\"simpletable\">\n",
       "<caption>OLS Regression Results</caption>\n",
       "<tr>\n",
       "  <th>Dep. Variable:</th>        <td>Attrition</td>    <th>  R-squared:         </th> <td>   0.013</td>\n",
       "</tr>\n",
       "<tr>\n",
       "  <th>Model:</th>                   <td>OLS</td>       <th>  Adj. R-squared:    </th> <td>  -0.026</td>\n",
       "</tr>\n",
       "<tr>\n",
       "  <th>Method:</th>             <td>Least Squares</td>  <th>  F-statistic:       </th> <td>  0.3433</td>\n",
       "</tr>\n",
       "<tr>\n",
       "  <th>Date:</th>             <td>Mon, 11 Apr 2022</td> <th>  Prob (F-statistic):</th>  <td> 0.794</td> \n",
       "</tr>\n",
       "<tr>\n",
       "  <th>Time:</th>                 <td>23:54:13</td>     <th>  Log-Likelihood:    </th> <td> -35.563</td>\n",
       "</tr>\n",
       "<tr>\n",
       "  <th>No. Observations:</th>      <td>    80</td>      <th>  AIC:               </th> <td>   79.13</td>\n",
       "</tr>\n",
       "<tr>\n",
       "  <th>Df Residuals:</th>          <td>    76</td>      <th>  BIC:               </th> <td>   88.65</td>\n",
       "</tr>\n",
       "<tr>\n",
       "  <th>Df Model:</th>              <td>     3</td>      <th>                     </th>     <td> </td>   \n",
       "</tr>\n",
       "<tr>\n",
       "  <th>Covariance Type:</th>      <td>nonrobust</td>    <th>                     </th>     <td> </td>   \n",
       "</tr>\n",
       "</table>\n",
       "<table class=\"simpletable\">\n",
       "<tr>\n",
       "        <td></td>          <th>coef</th>     <th>std err</th>      <th>t</th>      <th>P>|t|</th>  <th>[0.025</th>    <th>0.975]</th>  \n",
       "</tr>\n",
       "<tr>\n",
       "  <th>const</th>        <td>    0.1165</td> <td>    0.104</td> <td>    1.123</td> <td> 0.265</td> <td>   -0.090</td> <td>    0.323</td>\n",
       "</tr>\n",
       "<tr>\n",
       "  <th>Satisfaction</th> <td>    0.0122</td> <td>    0.050</td> <td>    0.242</td> <td> 0.810</td> <td>   -0.088</td> <td>    0.112</td>\n",
       "</tr>\n",
       "<tr>\n",
       "  <th>Salary</th>       <td>    0.0514</td> <td>    0.051</td> <td>    1.006</td> <td> 0.318</td> <td>   -0.050</td> <td>    0.153</td>\n",
       "</tr>\n",
       "<tr>\n",
       "  <th>Home-Office</th>  <td>   -0.0046</td> <td>    0.096</td> <td>   -0.047</td> <td> 0.962</td> <td>   -0.196</td> <td>    0.187</td>\n",
       "</tr>\n",
       "</table>\n",
       "<table class=\"simpletable\">\n",
       "<tr>\n",
       "  <th>Omnibus:</th>       <td>27.154</td> <th>  Durbin-Watson:     </th> <td>   2.322</td>\n",
       "</tr>\n",
       "<tr>\n",
       "  <th>Prob(Omnibus):</th> <td> 0.000</td> <th>  Jarque-Bera (JB):  </th> <td>  39.777</td>\n",
       "</tr>\n",
       "<tr>\n",
       "  <th>Skew:</th>          <td> 1.670</td> <th>  Prob(JB):          </th> <td>2.30e-09</td>\n",
       "</tr>\n",
       "<tr>\n",
       "  <th>Kurtosis:</th>      <td> 3.881</td> <th>  Cond. No.          </th> <td>    5.63</td>\n",
       "</tr>\n",
       "</table><br/><br/>Notes:<br/>[1] Standard Errors assume that the covariance matrix of the errors is correctly specified."
      ],
      "text/plain": [
       "<class 'statsmodels.iolib.summary.Summary'>\n",
       "\"\"\"\n",
       "                            OLS Regression Results                            \n",
       "==============================================================================\n",
       "Dep. Variable:              Attrition   R-squared:                       0.013\n",
       "Model:                            OLS   Adj. R-squared:                 -0.026\n",
       "Method:                 Least Squares   F-statistic:                    0.3433\n",
       "Date:                Mon, 11 Apr 2022   Prob (F-statistic):              0.794\n",
       "Time:                        23:54:13   Log-Likelihood:                -35.563\n",
       "No. Observations:                  80   AIC:                             79.13\n",
       "Df Residuals:                      76   BIC:                             88.65\n",
       "Df Model:                           3                                         \n",
       "Covariance Type:            nonrobust                                         \n",
       "================================================================================\n",
       "                   coef    std err          t      P>|t|      [0.025      0.975]\n",
       "--------------------------------------------------------------------------------\n",
       "const            0.1165      0.104      1.123      0.265      -0.090       0.323\n",
       "Satisfaction     0.0122      0.050      0.242      0.810      -0.088       0.112\n",
       "Salary           0.0514      0.051      1.006      0.318      -0.050       0.153\n",
       "Home-Office     -0.0046      0.096     -0.047      0.962      -0.196       0.187\n",
       "==============================================================================\n",
       "Omnibus:                       27.154   Durbin-Watson:                   2.322\n",
       "Prob(Omnibus):                  0.000   Jarque-Bera (JB):               39.777\n",
       "Skew:                           1.670   Prob(JB):                     2.30e-09\n",
       "Kurtosis:                       3.881   Cond. No.                         5.63\n",
       "==============================================================================\n",
       "\n",
       "Notes:\n",
       "[1] Standard Errors assume that the covariance matrix of the errors is correctly specified.\n",
       "\"\"\""
      ]
     },
     "execution_count": 97,
     "metadata": {},
     "output_type": "execute_result"
    }
   ],
   "source": [
    "# Running a regression prediction\n",
    "X = sm.add_constant(X_train)\n",
    "model01 = sm.OLS(y_train,X).fit()\n",
    "model01.summary()"
   ]
  },
  {
   "cell_type": "code",
   "execution_count": null,
   "metadata": {},
   "outputs": [],
   "source": [
    "# Validating the model using the test data set\n",
    "X_test = sm.add_constant(X_test)\n",
    "model01_test = sm.OLS(y_test, X_test).fit()\n",
    "model01_test.summary()"
   ]
  },
  {
   "cell_type": "markdown",
   "metadata": {},
   "source": [
    "**The estimated Attrition equals 0.0751 plus 0.0184 times the Employee satisfaction plus 0.0886 times Salary plus 0.0605 times the Home to Office.**"
   ]
  },
  {
   "cell_type": "markdown",
   "metadata": {},
   "source": [
    "#### Naive Bayes Classifier"
   ]
  },
  {
   "cell_type": "code",
   "execution_count": null,
   "metadata": {},
   "outputs": [],
   "source": [
    "#Running the Naive Bayes classifier on Attrition based on Satisfaction, Salary, and Home-Office\n",
    "X_Satis_ind = np.array(X_train['Satisfaction'])\n",
    "(X_Satis_ind,X_Satis_ind_dict)=stattools.categorical(X_Satis_ind,drop=True,\n",
    "                                                     dictnames=True)\n",
    "X_Satis_ind = pd.DataFrame(X_Satis_ind)\n",
    "X_Salary_ind = np.array(X_train['Salary'])\n",
    "(X_Salary_ind,X_Salary_ind_dict)=stattools.categorical(X_Salary_ind, \n",
    "                                                       drop=True,dictnames=True)\n",
    "X_Salary_ind = pd.DataFrame(X_Salary_ind)\n",
    "X_HO_ind = np.array(X_train['Home-Office'])\n",
    "(X_HO_ind,X_HO_ind_dict)=stattools.categorical(X_HO_ind,drop=True,\n",
    "                                               dictnames=True)\n",
    "X_HO_ind = pd.DataFrame(X_HO_ind)\n",
    "\n",
    "X = pd.concat((X_Satis_ind,X_Salary_ind,X_HO_ind),axis = 1)\n",
    "Y = y_train['Attrition']\n",
    "nb_01 = MultinomialNB().fit(X,Y)"
   ]
  },
  {
   "cell_type": "code",
   "execution_count": null,
   "metadata": {},
   "outputs": [],
   "source": [
    "# Evaluating the Naive Bayes model on the test data set\n",
    "X_Satis_ind_test = np.array(X_test['Satisfaction'])\n",
    "(X_Satis_ind_test,X_Satis_ind_dict_test)=stattools.categorical(X_Satis_ind_test,\n",
    "                                                               drop=True,dictnames=True)\n",
    "X_Satis_ind_test=pd.DataFrame(X_Satis_ind_test)\n",
    "X_Salary_ind_test = np.array(X_test['Salary'])\n",
    "(X_Salary_ind_test,X_Salary_ind_dict_test)=stattools.categorical(X_Salary_ind_test,\n",
    "                                                            drop=True,dictnames=True)\n",
    "X_Salary_ind_test=pd.DataFrame(X_Salary_ind_test)\n",
    "X_HO_ind_test = np.array(X_test['Home-Office'])\n",
    "(X_HO_ind_test,X_HO_ind_dict_test)=stattools.categorical(X_HO_ind_test,\n",
    "                                                         drop=True,dictnames=True)\n",
    "X_HO_ind_test = pd.DataFrame(X_HO_ind_test)\n",
    "\n",
    "X_testing = pd.concat((X_Satis_ind_test,X_Salary_ind_test,X_HO_ind_test),axis=1)\n",
    "Y_predicted = nb_01.predict(X_testing)\n",
    "ypred = pd.crosstab(y_test['Attrition'],Y_predicted,rownames=['Actual'],\n",
    "                    colnames = ['Predicted'])\n",
    "ypred['Total']=ypred.sum(axis=1);ypred.loc['Total']=ypred.sum();ypred"
   ]
  },
  {
   "cell_type": "markdown",
   "metadata": {},
   "source": [
    "#### Random Forest Classifier"
   ]
  },
  {
   "cell_type": "code",
   "execution_count": 133,
   "metadata": {},
   "outputs": [
    {
     "data": {
      "text/plain": [
       "array([0, 0, 1, 0, 0, 0, 0, 1, 0, 0, 1, 0, 1, 0, 0, 0, 1, 0, 0, 0, 0, 0,\n",
       "       1, 0, 0, 0, 0, 0, 0, 0, 0, 1, 0, 0, 0, 0, 0, 1, 0, 0, 0, 0, 0, 0,\n",
       "       0, 0, 0, 0, 1, 0, 1, 0, 0, 0, 0, 0, 0, 0, 0, 0, 0, 1, 0, 0, 0, 0,\n",
       "       0, 0, 0, 0, 0, 0, 0, 0, 0, 1, 0, 1, 0, 1, 1, 1, 1])"
      ]
     },
     "execution_count": 133,
     "metadata": {},
     "output_type": "execute_result"
    }
   ],
   "source": [
    "# Random Forest requires a response variable formatted as a one-dimensional\n",
    "# array, so that we use numpy's ravel() command to create that format\n",
    "rfy = np.ravel(y_train_rebal)\n",
    "rfy"
   ]
  },
  {
   "cell_type": "code",
   "execution_count": 134,
   "metadata": {},
   "outputs": [],
   "source": [
    "# Use the RandomForestClassifier() command to create the random forest\n",
    "rf01 = RandomForestClassifier(n_estimators = 100, criterion = \"gini\").fit(X_train_rebal,rfy)\n",
    "# n_estimators input specifies the number of trees to be built"
   ]
  },
  {
   "cell_type": "code",
   "execution_count": 135,
   "metadata": {},
   "outputs": [
    {
     "data": {
      "text/plain": [
       "array([0, 0, 0, 0, 0, 0, 0, 0, 1, 0, 1, 0, 0, 0, 0, 0, 0, 0, 0, 0, 0, 0,\n",
       "       1, 0, 0, 0, 0, 1, 0, 0, 0, 0, 0, 0, 0, 0, 0, 0, 0, 0, 0, 0, 0, 0,\n",
       "       0, 0, 0, 0, 0, 0, 1, 0, 0, 0, 0, 0, 0, 0, 0, 1, 0, 0, 0, 0, 0, 0,\n",
       "       0, 0, 0, 0, 0, 0, 0, 0, 0, 0, 0, 0, 0, 0, 1, 1, 1])"
      ]
     },
     "execution_count": 135,
     "metadata": {},
     "output_type": "execute_result"
    }
   ],
   "source": [
    "# To review the classification made on training data set\n",
    "rf_train = rf01.predict(X_train_rebal)\n",
    "rf_train"
   ]
  },
  {
   "cell_type": "code",
   "execution_count": 136,
   "metadata": {},
   "outputs": [
    {
     "data": {
      "text/plain": [
       "0    0.891566\n",
       "1    0.108434\n",
       "Name: 0, dtype: float64"
      ]
     },
     "execution_count": 136,
     "metadata": {},
     "output_type": "execute_result"
    }
   ],
   "source": [
    "rf_train = pd.DataFrame(rf_train)\n",
    "rf_train[0].value_counts()/len(rf_train)"
   ]
  },
  {
   "cell_type": "code",
   "execution_count": 137,
   "metadata": {},
   "outputs": [
    {
     "data": {
      "text/plain": [
       "array([0, 0, 0, 0, 0, 0, 1, 1, 1, 0, 0, 0, 0, 0, 0, 0, 0, 0, 0, 1])"
      ]
     },
     "execution_count": 137,
     "metadata": {},
     "output_type": "execute_result"
    }
   ],
   "source": [
    "# Validate the model using the test data set. \n",
    "\n",
    "# Random Forest requires a response variable formatted as a one-dimensional\n",
    "# array, so that we use numpy's ravel() command to create that format\n",
    "rfy_test = np.ravel(y_test)\n",
    "rfy_test"
   ]
  },
  {
   "cell_type": "code",
   "execution_count": 138,
   "metadata": {},
   "outputs": [],
   "source": [
    "# Use the RandomForestClassifier() command to create the random forest\n",
    "rf01_test = RandomForestClassifier(n_estimators = 100, criterion = \"gini\").fit(X_test,rfy_test)\n",
    "# n_estimators input specifies the number of trees to be built"
   ]
  },
  {
   "cell_type": "code",
   "execution_count": 139,
   "metadata": {},
   "outputs": [
    {
     "data": {
      "text/plain": [
       "array([0, 0, 0, 0, 0, 0, 1, 0, 1, 0, 0, 0, 0, 0, 0, 0, 0, 0, 0, 1])"
      ]
     },
     "execution_count": 139,
     "metadata": {},
     "output_type": "execute_result"
    }
   ],
   "source": [
    "# To review the classification made on test data set\n",
    "rf_test = rf01_test.predict(X_test)\n",
    "rf_test"
   ]
  },
  {
   "cell_type": "code",
   "execution_count": 140,
   "metadata": {},
   "outputs": [
    {
     "data": {
      "text/plain": [
       "0    0.85\n",
       "1    0.15\n",
       "Name: 0, dtype: float64"
      ]
     },
     "execution_count": 140,
     "metadata": {},
     "output_type": "execute_result"
    }
   ],
   "source": [
    "rf_test = pd.DataFrame(rf_test)\n",
    "rf_test[0].value_counts()/len(rf_test)"
   ]
  },
  {
   "cell_type": "markdown",
   "metadata": {},
   "source": [
    "**Both models classify the data as ~85-89% as no attrition and ~15-10% as yes attrition.**"
   ]
  },
  {
   "cell_type": "code",
   "execution_count": null,
   "metadata": {},
   "outputs": [],
   "source": []
  },
  {
   "cell_type": "code",
   "execution_count": null,
   "metadata": {},
   "outputs": [],
   "source": []
  },
  {
   "cell_type": "code",
   "execution_count": null,
   "metadata": {},
   "outputs": [],
   "source": []
  },
  {
   "cell_type": "markdown",
   "metadata": {},
   "source": [
    "### Notes/May Not include"
   ]
  },
  {
   "cell_type": "code",
   "execution_count": null,
   "metadata": {},
   "outputs": [],
   "source": [
    "X['EducationField'].value_counts(normalize=True) * 100"
   ]
  },
  {
   "cell_type": "code",
   "execution_count": null,
   "metadata": {},
   "outputs": [],
   "source": [
    "# Bar graph of gender\n",
    "sns.countplot(x='Gender', data=EmployeeData)\n",
    "plt.xlabel(\"Gender\")\n",
    "plt.ylabel(\"Count\")\n",
    "plt.title(\"Gender Count\")\n",
    "plt.show()"
   ]
  },
  {
   "cell_type": "code",
   "execution_count": null,
   "metadata": {},
   "outputs": [],
   "source": [
    "# Bar graph of gender with overlay of attrition\n",
    "crosstab1 = pd.crosstab(EmployeeData['Gender'],EmployeeData['Attrition'])\n",
    "crosstab1.plot(kind='bar',stacked=True)\n",
    "plt.xlabel(\"Gender With Attrition\")\n",
    "plt.ylabel(\"Count\")\n",
    "plt.title(\"Gender Count With Attrition Overlay\")\n",
    "plt.show()"
   ]
  },
  {
   "cell_type": "code",
   "execution_count": null,
   "metadata": {},
   "outputs": [],
   "source": [
    "# Bar graph of business travel frequency\n",
    "sns.countplot(x='Business Travel',data=EmployeeData)\n",
    "plt.xlabel(\"Business Travel Frequency Level\")\n",
    "plt.ylabel(\"Count\")\n",
    "plt.title(\"Business Travel Frequency\")\n",
    "plt.show()"
   ]
  },
  {
   "cell_type": "code",
   "execution_count": null,
   "metadata": {},
   "outputs": [],
   "source": [
    "# Bar graph of employee satisfaction with overlay of attrition\n",
    "crosstab3 = pd.crosstab(EmployeeData['Business Travel'],EmployeeData['Attrition'])\n",
    "crosstab3.plot(kind='bar',stacked=True)"
   ]
  },
  {
   "cell_type": "code",
   "execution_count": null,
   "metadata": {},
   "outputs": [],
   "source": [
    "ctn3 = crosstab3.div(crosstab3.sum(1),axis=0)\n",
    "ctn3.plot(kind='bar',stacked=True)"
   ]
  },
  {
   "cell_type": "code",
   "execution_count": null,
   "metadata": {},
   "outputs": [],
   "source": [
    "sns.countplot(x='Department',data=EmployeeData)"
   ]
  },
  {
   "cell_type": "code",
   "execution_count": null,
   "metadata": {},
   "outputs": [],
   "source": [
    "crosstab4 = pd.crosstab(EmployeeData['Department'],EmployeeData['Attrition'])\n",
    "crosstab4.plot(kind='bar',stacked=True)"
   ]
  },
  {
   "cell_type": "code",
   "execution_count": null,
   "metadata": {},
   "outputs": [],
   "source": [
    "ctn4 = crosstab4.div(crosstab4.sum(1),axis=0)\n",
    "ctn4.plot(kind='bar',stacked=True)"
   ]
  },
  {
   "cell_type": "code",
   "execution_count": null,
   "metadata": {},
   "outputs": [],
   "source": [
    "sns.countplot(x='EducationField',data=EmployeeData)"
   ]
  },
  {
   "cell_type": "code",
   "execution_count": null,
   "metadata": {},
   "outputs": [],
   "source": [
    "crosstab5 = pd.crosstab(EmployeeData['EducationField'],EmployeeData['Attrition'])\n",
    "crosstab5.plot(kind='bar',stacked=True)"
   ]
  },
  {
   "cell_type": "code",
   "execution_count": null,
   "metadata": {},
   "outputs": [],
   "source": [
    "ctn5 = crosstab5.div(crosstab5.sum(1),axis=0)\n",
    "ctn5.plot(kind='bar',stacked=True)"
   ]
  },
  {
   "cell_type": "code",
   "execution_count": null,
   "metadata": {},
   "outputs": [],
   "source": [
    "#### Multicollinearity Analysis\n",
    "# Identify Multicollinearity\n",
    "# Subseting the three predictor variables and put them in their own data frame\n",
    "X = pd.DataFrame(EmployeeData[['Salary', 'Satisfaction', 'Home-Office']])\n",
    "X = sm.add_constant(X)\n",
    "\n",
    "# Run the variance_inflation_factor() command as given below to obtain the VIF values\n",
    "[inf.variance_inflation_factor(X.values, i) for i in range(X.shape[1])]"
   ]
  },
  {
   "cell_type": "code",
   "execution_count": null,
   "metadata": {},
   "outputs": [],
   "source": [
    "X_names = ['Cap_Gains_Losses', 'Divorced', 'Married', 'Never-married', 'Separated', 'Widowed']\n",
    "y_names = ['<=50K', '>50K']"
   ]
  },
  {
   "cell_type": "markdown",
   "metadata": {},
   "source": [
    "c. Data preparation/cleaning\n",
    "\n",
    "        1) Missing variables\n",
    "        \n",
    "        2) Outliers\n",
    "        \n",
    "        3) Correlation Analysis\n",
    "        \n",
    "        4) Multicollinearity Analysis (If strong multicollinearity exist, apply PCA)\n",
    "        \n",
    "        5) Balancing the train dataset\n",
    "        \n",
    "        6) Splitting the data"
   ]
  },
  {
   "cell_type": "code",
   "execution_count": null,
   "metadata": {},
   "outputs": [],
   "source": []
  }
 ],
 "metadata": {
  "kernelspec": {
   "display_name": "Python 3",
   "language": "python",
   "name": "python3"
  },
  "language_info": {
   "codemirror_mode": {
    "name": "ipython",
    "version": 3
   },
   "file_extension": ".py",
   "mimetype": "text/x-python",
   "name": "python",
   "nbconvert_exporter": "python",
   "pygments_lexer": "ipython3",
   "version": "3.7.3"
  }
 },
 "nbformat": 4,
 "nbformat_minor": 2
}
